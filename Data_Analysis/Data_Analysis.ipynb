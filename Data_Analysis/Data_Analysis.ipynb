{
 "cells": [
  {
   "cell_type": "code",
   "execution_count": 20,
   "metadata": {
    "collapsed": true
   },
   "outputs": [],
   "source": [
    "import pandas as pd\n",
    "import numpy as np\n",
    "from pymongo import MongoClient"
   ]
  },
  {
   "cell_type": "code",
   "execution_count": 21,
   "outputs": [],
   "source": [
    "# conn = MongoClient(host='127.0.0.1', port=27017)  # 实例化MongoClient\n",
    "# db = conn.get_database('The_Wandering_Earth')  # 连接到TWH1数据库\n",
    "\n",
    "# 猫眼数据以及保存为data.csv文件，无需从数据库中导出\n",
    "\n",
    "# douban = db.get_collection('douban') # 连接到集合comment\n",
    "# maoyan = db.get_collection(\"maoyan\")\n",
    "# douban_data = douban.find()\n",
    "# maoyan_data = maoyan.find()"
   ],
   "metadata": {
    "collapsed": false,
    "pycharm": {
     "name": "#%%\n"
    }
   }
  },
  {
   "cell_type": "code",
   "execution_count": 22,
   "outputs": [],
   "source": [
    "# data1 = pd.json_normalize([comment for comment in douban_data])\n",
    "# data2 = pd.json_normalize([comment for comment in maoyan_data])       #以数据库打开\n",
    "\n",
    "\n",
    "data1 = pd.read_csv(\"douban.csv\")\n",
    "data2 = pd.read_csv(\"data.csv\")"
   ],
   "metadata": {
    "collapsed": false,
    "pycharm": {
     "name": "#%%\n"
    }
   }
  },
  {
   "cell_type": "code",
   "execution_count": 23,
   "outputs": [
    {
     "name": "stdout",
     "output_type": "stream",
     "text": [
      "<class 'pandas.core.frame.DataFrame'>\n",
      "RangeIndex: 500 entries, 0 to 499\n",
      "Data columns (total 8 columns):\n",
      " #   Column     Non-Null Count  Dtype \n",
      "---  ------     --------------  ----- \n",
      " 0   _id        500 non-null    object\n",
      " 1   comment    500 non-null    object\n",
      " 2   id         500 non-null    object\n",
      " 3   isWatched  500 non-null    object\n",
      " 4   time       500 non-null    object\n",
      " 5   rating     500 non-null    int64 \n",
      " 6   likes      500 non-null    int64 \n",
      " 7   city       452 non-null    object\n",
      "dtypes: int64(2), object(6)\n",
      "memory usage: 31.4+ KB\n",
      "\n",
      "\n",
      "<class 'pandas.core.frame.DataFrame'>\n",
      "RangeIndex: 102584 entries, 0 to 102583\n",
      "Data columns (total 10 columns):\n",
      " #   Column      Non-Null Count   Dtype  \n",
      "---  ------      --------------   -----  \n",
      " 0   content     102583 non-null  object \n",
      " 1   gender      102580 non-null  float64\n",
      " 2   id          102580 non-null  float64\n",
      " 3   nick        102579 non-null  object \n",
      " 4   replyCount  102580 non-null  float64\n",
      " 5   score       102580 non-null  float64\n",
      " 6   time        102580 non-null  object \n",
      " 7   upCount     102580 non-null  float64\n",
      " 8   userId      102580 non-null  float64\n",
      " 9   userLevel   102580 non-null  float64\n",
      "dtypes: float64(7), object(3)\n",
      "memory usage: 7.8+ MB\n"
     ]
    }
   ],
   "source": [
    "data1.info()\n",
    "print(\"\\n\")\n",
    "data2.info()"
   ],
   "metadata": {
    "collapsed": false,
    "pycharm": {
     "name": "#%%\n"
    }
   }
  },
  {
   "cell_type": "code",
   "execution_count": 24,
   "outputs": [
    {
     "name": "stdout",
     "output_type": "stream",
     "text": [
      "\n",
      "\n",
      "<class 'pandas.core.frame.DataFrame'>\n",
      "DatetimeIndex: 447 entries, 2019-02-05 to 2019-02-09\n",
      "Data columns (total 6 columns):\n",
      " #   Column   Non-Null Count  Dtype         \n",
      "---  ------   --------------  -----         \n",
      " 0   comment  447 non-null    object        \n",
      " 1   id       447 non-null    object        \n",
      " 2   time     447 non-null    datetime64[ns]\n",
      " 3   rating   447 non-null    int64         \n",
      " 4   likes    447 non-null    int64         \n",
      " 5   city     403 non-null    object        \n",
      "dtypes: datetime64[ns](1), int64(2), object(3)\n",
      "memory usage: 24.4+ KB\n",
      "<class 'pandas.core.frame.DataFrame'>\n",
      "DatetimeIndex: 102580 entries, 2019-02-11 10:10:00 to 2019-02-11 01:40:00\n",
      "Data columns (total 9 columns):\n",
      " #   Column      Non-Null Count   Dtype         \n",
      "---  ------      --------------   -----         \n",
      " 0   content     102579 non-null  object        \n",
      " 1   gender      102580 non-null  float64       \n",
      " 2   nick        102579 non-null  object        \n",
      " 3   replyCount  102580 non-null  float64       \n",
      " 4   score       102580 non-null  float64       \n",
      " 5   time        102580 non-null  datetime64[ns]\n",
      " 6   upCount     102580 non-null  float64       \n",
      " 7   userId      102580 non-null  float64       \n",
      " 8   userLevel   102580 non-null  float64       \n",
      "dtypes: datetime64[ns](1), float64(6), object(2)\n",
      "memory usage: 7.8+ MB\n"
     ]
    }
   ],
   "source": [
    "# 数据清洗\n",
    "data1 = data1.drop(columns= \"_id\")\n",
    "data1 = data1.drop(columns= \"isWatched\")\n",
    "data1['time'] = pd.to_datetime(data1['time'], format='%Y-%m-%d')\n",
    "data1 = data1[data1['time']>=pd.to_datetime('2019-02-01 00:00:00')]\n",
    "data1.set_index(data1[\"time\"], inplace=True)\n",
    "\n",
    "print(\"\\n\")\n",
    "\n",
    "data2 = data2.drop(columns='id')\n",
    "data2 = data2.drop_duplicates(subset='userId')\n",
    "data2['time'] = pd.to_datetime(data2['time'])\n",
    "\n",
    "# 若使用数据库打开数据，数据时间字段的清洗用下面语句，将上一条语句注释\n",
    "# data2['time'] = pd.to_datetime(data2['time']/1000, unit='s')\n",
    "\n",
    "data2 = data2[data2['time']>=pd.to_datetime('2019-02-01 00:00:00')]\n",
    "data2.set_index(data2[\"time\"], inplace=True)\n",
    "data1.info()\n",
    "data2.info()"
   ],
   "metadata": {
    "collapsed": false,
    "pycharm": {
     "name": "#%%\n"
    }
   }
  },
  {
   "cell_type": "markdown",
   "source": [
    "#### 一、数据详情\n",
    "- 共有500条数据；\n",
    "- 包含字段：\n",
    "1.豆瓣：ID、评论内容、评论者昵称、是否观看过、评论时间、评分、评论点赞数、评论者所在城市\n",
    "2.猫眼：评论内容、性别、评论ID、评论者昵称、回复数量、评分、时间、点赞数量、评论者ID、评论者等级\n",
    "二、问题\n",
    "1. 总体评价如何？\n",
    "2. 总体评价的时间走向如何？\n",
    "3. 高分的评价理由是什么？\n",
    "4. 低分的评价理由是什么？\n",
    "5. 低分的人群有哪些特征？（性别、等级）\n",
    "6. 低分跟哪位演员有关？"
   ],
   "metadata": {
    "collapsed": false,
    "pycharm": {
     "name": "#%% md\n"
    }
   }
  },
  {
   "cell_type": "markdown",
   "source": [
    " 1. 总体评价如何？\n"
   ],
   "metadata": {
    "collapsed": false,
    "pycharm": {
     "name": "#%% md\n"
    }
   }
  },
  {
   "cell_type": "code",
   "execution_count": 25,
   "outputs": [
    {
     "name": "stdout",
     "output_type": "stream",
     "text": [
      "3.302013422818792\n",
      "9.241450575160851\n",
      "1     43\n",
      "2     51\n",
      "3    164\n",
      "4    106\n",
      "5     83\n",
      "Name: rating, dtype: int64\n",
      "0.0       130\n",
      "1.0      2329\n",
      "2.0       429\n",
      "3.0       481\n",
      "4.0       359\n",
      "5.0      1549\n",
      "6.0      1343\n",
      "7.0      2478\n",
      "8.0      5810\n",
      "9.0     14427\n",
      "10.0    73245\n",
      "Name: score, dtype: int64\n"
     ]
    }
   ],
   "source": [
    "print(data1['rating'].mean())   # 3.382\n",
    "print(data2[\"score\"].mean())\n",
    "\n",
    "\n",
    "score_total1 = data1['rating'].value_counts().sort_index()\n",
    "score_total2 = data2['score'].value_counts().sort_index()\n",
    "print(score_total1)\n",
    "print(score_total2)\n"
   ],
   "metadata": {
    "collapsed": false,
    "pycharm": {
     "name": "#%%\n"
    }
   }
  },
  {
   "cell_type": "code",
   "execution_count": 26,
   "outputs": [],
   "source": [
    "from pyecharts.charts import Pie\n",
    "from pyecharts.charts import Bar, Grid, Line\n",
    "from pyecharts import options as opts\n",
    "from pyecharts.components import Table\n",
    "\n",
    "\n",
    "# 豆瓣：力荐=5，推荐=4，还行=3，较差=2，很差=1\n",
    "# 猫眼：力荐=9-10，推荐=7-8，还行=5-6，较差=2-4，很差=1-0\n",
    "rating_str = [\"很差\", \"较差\", \"还行\", \"推荐\", \"力荐\"]\n",
    "rating_score1 = []\n",
    "rating_score2 = [0,0,0,0,0]\n",
    "\n",
    "# print(pd.value_counts(data1[\"rating\"].values))\n",
    "\n",
    "for i in range(1,6):\n",
    "    rating_score1.append(pd.value_counts(data1[\"rating\"].values)[i])\n",
    "\n",
    "# print(pd.value_counts(data2[\"score\"]))\n",
    "for key,value in pd.value_counts(data2[\"score\"]).items():\n",
    "    # print(key,value)\n",
    "    if key == 10 or key ==9:\n",
    "        rating_score2[4] += value\n",
    "    if key == 8 or key ==7:\n",
    "        rating_score2[3] += value\n",
    "    if key == 6 or key ==5:\n",
    "        rating_score2[2] += value\n",
    "    if key == 4 or key ==3:\n",
    "        rating_score2[1] += value\n",
    "    if key == 2 or key ==1:\n",
    "        rating_score2[0] += value\n",
    "\n",
    "\n",
    "#[['很差', 43], ['较差', 55], ['还行', 172], ['推荐', 128], ['力荐', 102]]\n",
    "list_1 = [list(z) for z in zip(rating_str, rating_score1)]\n",
    "list_2 = [list(z) for z in zip(rating_str, rating_score2)]\n",
    "# print(list_2)\n",
    "# print(list_1)"
   ],
   "metadata": {
    "collapsed": false,
    "pycharm": {
     "name": "#%%\n"
    }
   }
  },
  {
   "cell_type": "code",
   "execution_count": 27,
   "outputs": [
    {
     "name": "stdout",
     "output_type": "stream",
     "text": [
      "1\n"
     ]
    }
   ],
   "source": [
    "# 展示豆瓣中评分饼图\n",
    "c1 = (\n",
    "    Pie()\n",
    "    .add(\n",
    "        \"\",\n",
    "        [['很差', 43], ['较差', 55], ['还行', 172], ['推荐', 128], ['力荐', 102]],\n",
    "        center=[\"30%\", \"45%\"],\n",
    "        radius=[60, 80],\n",
    "        label_opts=opts.LabelOpts(\n",
    "            position=\"outside\",\n",
    "            formatter=\"{a|{a}}{abg|}\\n{hr|}\\n {b|{b}: }{c}  {per|{d}%}  \",\n",
    "            background_color=\"#eee\",\n",
    "            border_color=\"#aaa\",\n",
    "            border_width=1,\n",
    "            border_radius=4,\n",
    "            rich={\n",
    "                \"a\": {\"color\": \"#999\", \"lineHeight\": 22, \"align\": \"center\"},\n",
    "                \"abg\": {\n",
    "                    \"backgroundColor\": \"#e3e3e3\",\n",
    "                    \"width\": \"100%\",\n",
    "                    \"align\": \"right\",\n",
    "                    \"height\": 22,\n",
    "                    \"borderRadius\": [4, 4, 0, 0],\n",
    "                },\n",
    "                \"hr\": {\n",
    "                    \"borderColor\": \"#aaa\",\n",
    "                    \"width\": \"100%\",\n",
    "                    \"borderWidth\": 0.5,\n",
    "                    \"height\": 0,\n",
    "                },\n",
    "                \"b\": {\"fontSize\": 16, \"lineHeight\": 33},\n",
    "                \"per\": {\n",
    "                    \"color\": \"#eee\",\n",
    "                    \"backgroundColor\": \"#334455\",\n",
    "                    \"padding\": [2, 4],\n",
    "                    \"borderRadius\": 2,\n",
    "                },\n",
    "            },\n",
    "        ),\n",
    "    )\n",
    "    .add(\n",
    "        \"\",\n",
    "        list_2,\n",
    "        center=[\"65%\", \"45%\"],\n",
    "        radius=[60, 80],\n",
    "        label_opts=opts.LabelOpts(\n",
    "            position=\"outside\",\n",
    "            formatter=\"{a|{a}}{abg|}\\n{hr|}\\n {b|{b}: }{c}  {per|{d}%}  \",\n",
    "            background_color=\"#eee\",\n",
    "            border_color=\"#aaa\",\n",
    "            border_width=1,\n",
    "            border_radius=4,\n",
    "            rich={\n",
    "                \"a\": {\"color\": \"#999\", \"lineHeight\": 22, \"align\": \"center\"},\n",
    "                \"abg\": {\n",
    "                    \"backgroundColor\": \"#e3e3e3\",\n",
    "                    \"width\": \"100%\",\n",
    "                    \"align\": \"right\",\n",
    "                    \"height\": 22,\n",
    "                    \"borderRadius\": [4, 4, 0, 0],\n",
    "                },\n",
    "                \"hr\": {\n",
    "                    \"borderColor\": \"#aaa\",\n",
    "                    \"width\": \"100%\",\n",
    "                    \"borderWidth\": 0.5,\n",
    "                    \"height\": 0,\n",
    "                },\n",
    "                \"b\": {\"fontSize\": 16, \"lineHeight\": 33},\n",
    "                \"per\": {\n",
    "                    \"color\": \"#eee\",\n",
    "                    \"backgroundColor\": \"#334455\",\n",
    "                    \"padding\": [2, 4],\n",
    "                    \"borderRadius\": 2,\n",
    "                },\n",
    "            },\n",
    "        ),\n",
    "    )\n",
    "    .set_global_opts(\n",
    "        title_opts=opts.TitleOpts(title=\"Rating_Pie\"),\n",
    "        legend_opts=opts.LegendOpts(orient=\"vertical\", pos_top=\"15%\", pos_left=\"2%\"),\n",
    "    )\n",
    "    .set_series_opts(label_opts=opts.LabelOpts(formatter=\"{b}: {c}\"))\n",
    "    .render(\"./Charts_html/Rating_Pie.html\")\n",
    ")\n",
    "print(1)"
   ],
   "metadata": {
    "collapsed": false,
    "pycharm": {
     "name": "#%%\n"
    }
   }
  },
  {
   "cell_type": "code",
   "execution_count": 28,
   "outputs": [
    {
     "name": "stdout",
     "output_type": "stream",
     "text": [
      "1\n"
     ]
    }
   ],
   "source": [
    "list_ = [43, 55, 172, 128, 102]\n",
    "# 展示豆瓣中评分折线图\n",
    "bar = (\n",
    "    Bar()\n",
    "    .add_xaxis(rating_str)\n",
    "    .add_yaxis(\"豆瓣\", list_)\n",
    "    .add_yaxis(\"猫眼\", rating_score2)\n",
    "    .set_global_opts(title_opts=opts.TitleOpts(title=\"评分分布柱状图\"))\n",
    ")\n",
    "line = (\n",
    "    Line()\n",
    "    .add_xaxis(rating_str)\n",
    "    .add_yaxis(\"豆瓣\", list_)\n",
    "    .add_yaxis(\"猫眼\", rating_score2)\n",
    "    .set_global_opts(\n",
    "        title_opts=opts.TitleOpts(title=\"评分分布折线图\", pos_top=\"48%\"),\n",
    "        legend_opts=opts.LegendOpts(pos_top=\"48%\"),\n",
    "    )\n",
    ")\n",
    "\n",
    "grid = (\n",
    "    Grid()\n",
    "    .add(bar, grid_opts=opts.GridOpts(pos_bottom=\"60%\"))\n",
    "    .add(line, grid_opts=opts.GridOpts(pos_top=\"60%\"))\n",
    "    .render(\"./Charts_html/Rating_line_bar.html\")\n",
    ")\n",
    "\n",
    "print(1)"
   ],
   "metadata": {
    "collapsed": false,
    "pycharm": {
     "name": "#%%\n"
    }
   }
  },
  {
   "cell_type": "markdown",
   "source": [
    "##### 2. 总体评价的时间走向如何？"
   ],
   "metadata": {
    "collapsed": false,
    "pycharm": {
     "name": "#%% md\n"
    }
   }
  },
  {
   "cell_type": "code",
   "execution_count": 29,
   "outputs": [
    {
     "name": "stdout",
     "output_type": "stream",
     "text": [
      "1\n"
     ]
    }
   ],
   "source": [
    "\n",
    "score_by_time1 = data1['rating'].resample('D').mean()\n",
    "score_by_time2 = data2['score'].resample('D').mean()\n",
    "\n",
    "\n",
    "\n",
    "douban_time = []\n",
    "douban_score = []\n",
    "for time,score in score_by_time1.items():\n",
    "    douban_time.append(time)\n",
    "    douban_score.append(score)\n",
    "\n",
    "\n",
    "maoyan_time = []\n",
    "maoyan_score = []\n",
    "for time,score in score_by_time2.items():\n",
    "    maoyan_time.append(time)\n",
    "    maoyan_score.append(score)\n",
    "\n",
    "# print(score_by_time1)\n",
    "# print(score_by_time2)\n",
    "\n",
    "\n",
    "c1 = (\n",
    "    Bar()\n",
    "    .add_xaxis(maoyan_time)\n",
    "    .add_yaxis(\"猫眼评论\", maoyan_score)\n",
    "    .set_global_opts(\n",
    "        title_opts=opts.TitleOpts(title=\"猫眼评分随时间变化图\"),\n",
    "        datazoom_opts=[opts.DataZoomOpts()],\n",
    "    )\n",
    "    .render(\"./Charts_html/Score_by_time_maoyan.html\")\n",
    ")\n",
    "\n",
    "c2 = (\n",
    "    Bar()\n",
    "    .add_xaxis(douban_time)\n",
    "    .add_yaxis(\"豆瓣评论\", douban_score)\n",
    "    .set_global_opts(\n",
    "        title_opts=opts.TitleOpts(title=\"豆瓣评分随时间变化图\"),\n",
    "        datazoom_opts=[opts.DataZoomOpts()],\n",
    "    )\n",
    "    .render(\"./Charts_html/Score_by_time_douban.html\")\n",
    ")\n",
    "\n",
    "print(1)\n",
    "\n",
    "\n"
   ],
   "metadata": {
    "collapsed": false,
    "pycharm": {
     "name": "#%%\n"
    }
   }
  },
  {
   "cell_type": "code",
   "execution_count": 30,
   "outputs": [
    {
     "name": "stderr",
     "output_type": "stream",
     "text": [
      "<ipython-input-30-56fd84a7cc52>:6: FutureWarning: Possible set union at position 79\n",
      "  pattern = re.compile('[湖南|湖北|广东|广西|河南|河北|山东|山西|江苏|浙江|江西|黑龙江|'\n"
     ]
    }
   ],
   "source": [
    "from pyecharts import options as opts\n",
    "from pyecharts.charts import Map\n",
    "from pyecharts.faker import Faker\n",
    "import re\n",
    "\n",
    "pattern = re.compile('[湖南|湖北|广东|广西|河南|河北|山东|山西|江苏|浙江|江西|黑龙江|'\n",
    "                     '新疆|云南|贵州|福建|吉林|安徽四川|西藏|宁夏|辽宁|青海|'\n",
    "                     '甘肃|陕西|内蒙古||台湾|北京|上海|天津]+')\n",
    "\n",
    "\n",
    "info = data1['city'].value_counts()\n",
    "province = info.keys()\n",
    "amount = info.values\n",
    "\n",
    "result = []\n",
    "\n",
    "provinces = ['湖南', '湖北', '广东', '广西', '河南', '河北', '山东', '山西', '江苏', '浙江', '江西', '黑龙江', '新疆', '云南', '贵州', '福建', '吉林', '安徽', '四川', '西藏', '宁夏', '辽宁', '青海', '甘肃', '陕西', '内蒙古', '台湾', '北京', '上海', '天津']\n",
    "temp_amount = []\n",
    "temp_province = []\n",
    "\n",
    "\n",
    "for i in range(len(province)):\n",
    "    if pattern.findall(province[i]) != []:\n",
    "        if pattern.findall(province[i])[0][:2] in temp_province:\n",
    "            index = temp_province.index(pattern.findall(province[i])[0][:2])\n",
    "            temp_amount[index] += int(amount[i])\n",
    "        else:\n",
    "            temp_province.append(pattern.findall(province[i])[0][:2])\n",
    "            temp_amount.append(int(amount[i]))\n",
    "        # result.append(temp)\n",
    "\n",
    "result = [list(z) for z in zip(temp_province, temp_amount)]\n",
    "\n",
    "\n",
    "c = (\n",
    "    Map()\n",
    "    .add(\"评论人数\", result, \"china\")\n",
    "    .set_global_opts(\n",
    "        visualmap_opts=opts.VisualMapOpts(max_=150, is_piecewise=True),\n",
    "        title_opts=opts.TitleOpts(title=\"评论人数分布图\"),\n",
    "    )\n",
    "    .render(\"./Charts_html/Map_amount.html\")\n",
    ")\n"
   ],
   "metadata": {
    "collapsed": false,
    "pycharm": {
     "name": "#%%\n"
    }
   }
  },
  {
   "cell_type": "code",
   "execution_count": 31,
   "outputs": [],
   "source": [
    "# 绘图需要导入的包\n",
    "\n",
    "from pyecharts.charts import Scatter\n",
    "from pyecharts.charts import Grid, Liquid, Page, Tab\n",
    "from pyecharts.commons.utils import JsCode\n",
    "from pyecharts.globals import ThemeType"
   ],
   "metadata": {
    "collapsed": false,
    "pycharm": {
     "name": "#%%\n"
    }
   }
  },
  {
   "cell_type": "code",
   "execution_count": 32,
   "outputs": [],
   "source": [
    "rating = data1['rating'].values\n",
    "likes = data1['likes'].values\n",
    "likes_new = [0, 0, 0, 0, 0]\n",
    "sum = 0\n",
    "\n",
    "\n",
    "# 按评分统计点赞人数\n",
    "for i in range(len(rating)):\n",
    "    if int(rating[i]) == 1:\n",
    "        likes_new[0] += int(likes[i])\n",
    "    elif int(rating[i]) == 2:\n",
    "        likes_new[1] += int(likes[i])\n",
    "    elif int(rating[i]) == 3:\n",
    "        likes_new[2] += int(likes[i])\n",
    "    elif int(rating[i]) == 4:\n",
    "        likes_new[3] += int(likes[i])\n",
    "    else:\n",
    "        likes_new[4] += int(likes[i])\n",
    "\n",
    "for j in range(len(likes_new)):\n",
    "    sum += likes_new[j]\n",
    "\n",
    "favorate_rate = (likes_new[3] + likes_new[4]) / sum\n",
    "poor_rate = (likes_new[0] + likes_new[1]) / sum\n",
    "# print(type(favorate_rate), type(poor_rate))\n",
    "\n",
    "# print(likes_new)\n",
    "def scatter_rating_likes() -> Scatter:\n",
    "    c = (\n",
    "        Scatter()\n",
    "        .add_xaxis(range(1,6))\n",
    "        .add_yaxis(\"点赞数\", likes_new)\n",
    "        .set_global_opts(\n",
    "            title_opts=opts.TitleOpts(title=\"评分-点赞图\"),\n",
    "            visualmap_opts=opts.VisualMapOpts(type_=\"size\", max_=100000, min_=20000),\n",
    "        )\n",
    "    )\n",
    "    return c\n",
    "\n",
    "def grid_liquid_favorate_rate() -> Grid:\n",
    "    l1 = (\n",
    "        Liquid().\n",
    "        add(\n",
    "        \"好评率\",\n",
    "        [favorate_rate],\n",
    "        center=[\"60%\", \"50%\"],\n",
    "        label_opts=opts.LabelOpts(\n",
    "            font_size=50,\n",
    "            formatter=JsCode(\n",
    "                \"\"\"function (param) {\n",
    "                        return (Math.floor(param.value * 10000) / 100) + '%';\n",
    "                    }\"\"\"\n",
    "             ),\n",
    "            position=\"inside\",\n",
    "            ),\n",
    "        )\n",
    "        .set_global_opts(title_opts=opts.TitleOpts(title=\"好评率和差评率\"))\n",
    "    )\n",
    "\n",
    "    l2 = (\n",
    "        Liquid().\n",
    "        add(\n",
    "        \"差评率\",\n",
    "        [poor_rate],\n",
    "        center=[\"25%\", \"50%\"],\n",
    "        label_opts=opts.LabelOpts(\n",
    "            font_size=50,\n",
    "            formatter=JsCode(\n",
    "                \"\"\"function (param) {\n",
    "                        return (Math.floor(param.value * 10000) / 100) + '%';\n",
    "                    }\"\"\"\n",
    "             ),\n",
    "            position=\"inside\",\n",
    "            ),\n",
    "        )\n",
    "    )\n",
    "\n",
    "    grid = Grid().add(l1, grid_opts=opts.GridOpts()).add(l2, grid_opts=opts.GridOpts())\n",
    "    return grid\n",
    "\n",
    "# grid.render(\"./charts_html/scatter_rating_likes.html\")\n",
    "def page_layout():\n",
    "    page = Page()\n",
    "    page.add(\n",
    "        scatter_rating_likes(),\n",
    "        grid_liquid_favorate_rate()\n",
    "    )\n",
    "    page.render(\"./Charts_html/Rating_likes.html\")\n",
    "\n",
    "if __name__ == \"__main__\":\n",
    "    page_layout()"
   ],
   "metadata": {
    "collapsed": false,
    "pycharm": {
     "name": "#%%\n"
    }
   }
  },
  {
   "cell_type": "markdown",
   "source": [
    "### 文本情感分析：\n",
    "##### 3. 高分的评价理由是什么？"
   ],
   "metadata": {
    "collapsed": false,
    "pycharm": {
     "name": "#%% md\n"
    }
   }
  },
  {
   "cell_type": "code",
   "execution_count": 33,
   "outputs": [
    {
     "name": "stderr",
     "output_type": "stream",
     "text": [
      "Building prefix dict from the default dictionary ...\n",
      "Loading model from cache C:\\Users\\lLate\\AppData\\Local\\Temp\\jieba.cache\n",
      "Loading model cost 0.814 seconds.\n",
      "Prefix dict has been built successfully.\n"
     ]
    },
    {
     "name": "stdout",
     "output_type": "stream",
     "text": [
      "['则', '抑或', '次第', '反而', '即令', '好', '怎么样', '｝', '［①ａ］', '＃', '此后', '呢', '接着', '呆呆地', 'ｂ］', '嘎', '）、', '假如', '当下', '乎', '［②Ｂ］', '个', '那边', 'ｎｇ昉', '不起', '乃', '自后', '其后', '老是', '其他', '充其极', '要不', '［①ｉ］', '至', '不免', '孰知', '来不及', '到了儿', '非但', '管', '起先', '既', '非独', '如若', '奋勇', '还要', '哎', '因了', '[', '何处', '自', '哟', '较比', '传闻', '于是乎', '对于', '反过来', '别管', '-', '［①①］', '宁', '［⑤ｆ］', '替', '＞λ', '接下来', '莫非', '各', '非常', '而论', '起初', '矣乎', '以便', '②ｃ', '请勿', '｝＞', '大体上', '将要', '关于', '比起', '起', '赶早不赶晚', '⑩', '.一', '断然', '何乐而不为', '有', '分别', '受到', '咋', '∈［', '不得不', '［②Ｇ］', '......', '瑟瑟', '及至', '大家', '莫如', '只要', '具体说来', '［④ｃ］', '较为', '———', '不限', '.日', '多少', '毕竟', '所幸', '比', '不论', '只当', '）', '是以', '吓', '［］', '每当', '。', '决不', '何以', '更为', '顷刻', '如常', '自家', '近几年来', '⑨', '长话短说', '咱', '［③ｄ］', '绝顶', '千万千万', '并排', '到头来', '’', '一切', '极度', '［⑤ａ］', '仍然', '全年', '如何', '纵令', '－', '～＋', '从古到今', '嘛', '大抵', '难得', '但', '咱们', '［②⑤］', '当然', '除此而外', '她是', '假使', '［④ｄ］', '这次', '综上所述', '难说', '［③ｇ］', ';', '从头', '方才', '理应', '曾', '接连不断', '⑥', '慢说', '常言说', '沿着', '或曰', '呗', '竟然', '嘘', '一方面', '一个', '〔', '③］', '《', '③', '宁愿', '换言之', '很少', '不光', '为着', '猛然', '或许', '这儿', '＇', ',', '也好', '起见', '单纯', '总的来看', '倘然', '隔日', '［③ｅ］', '1', '倘若', '不同', '屡次三番', '昂然', '已矣', '凭借', '开外', '总之', '遵循', '－β', '以致', '自个儿', '长此下去', '平素', '［②ａ］', '赖以', '啊哈', '川流不息', '［②⑦］', '［①ｈ］', ']', '据', '诚如', '．', '你是', '呕', '贼死', '抽冷子', '据我所知', '交口', '［②ｉ］', '当口儿', '嗡', '一则', '匆匆', '等等', '那般', '即若', '——', '们', '看样子', '尽', '从无到有', '依照', '那些', '越是', '大张旗鼓', '由是', '［③ｈ］', '据说', '通过', '并无', '］', '恰似', '甭', '那么', '不单', '不尽', '嘻', '不只', '乃至于', '俺们', '莫若', '虽', '/', '［①Ｄ］', '累次', '当场', '不要', '以免', '据实', '向', '更加', '除非', '—', '什么', '敞开儿', '从', '每', '基本', '多亏', '’‘', '也', '除', '当庭', '是', '何止', '乌乎', '‘', '喏', '要不然', 'Lex', '又及', '使', '对待', '无', '反之则', '别人', '的话', '除却', '何妨', '［③①］', '如是', '尽心竭力', '.数', '@', '=', '其', '切莫', '难道', '开始', '其它', '先不先', '倘或', '从严', '砰', '来得及', '按理', '但是', '［②①］', '鄙人', '再有', '恰恰相反', '趁便', '0', '在', '看', '看来', '惯常', '［②ｂ］', '由', '况且', '将', '多年前', '阿', '［②②］', '犹自', '如此等等', '离', '敢情', '某些', '屡次', '＜φ', '故而', '若是', '就地', '后来', '尽如人意', '若非', '+', '上下', '、', '自打', '余外', '它', '［①ｇ］', '不消', '加上', '兼之', '不日', '按时', '但凡', '分期分批', '惟其', '些', '不少', '，也', '大多', '5', 'Ψ', '即刻', '毋宁', '其中', '用来', '绝不', '－［＊］－', '哪年', '趁机', '偶而', '不大', '没有', '您是', '可', '挨门逐户', '别是', '归', '■', '咦', '出去', '具体地说', '咚', '不胜', '且', '［③ａ］', '往', '之', '［①Ｂ］', '可见', '吧哒', '怎奈', '而且', '共总', '亲身', '类如', '是的', '怎', '致', '起首', '×', '起来', '基于', '将近', '不择手段', '以及', '也就是说', '并没', '为何', '若', '介于', '除此之外', '再说', '＋＋', '不得了', '另悉', '［①⑤］', '倒是', '不特', '此', '谁知', '间或', '拿', '哪怕', '［③ｃ］', '不可开交', '此中', '＜＜', '届时', '自各儿', '＝″', '他', '为什么', 'ｆ］', '［②ｅ］', '据悉', '不下', '〕〔', '这边', '另行', '那会儿', '>', '忽然', '不比', '个别', '切勿', '之所以', '当即', '尽量', '＝（', '［①ｄ］', '如此', '望', '⑧', '如上', '本身', '喔唷', '岂止', '较之', '就是说', '》），', '~~~~', '暗自', '另一个', '到底', '便于', '首先', '于', '啦', '因着', '极端', '毫不', '矣哉', '［②］', '差一点', '这就是说', '［⑨］', '大都', '无宁', '上去', '藉以', '喽', '直到', '＜', '其实', '［②ｃ］', '这里', '［⑤ｅ］', '何况', '自身', '另外', '连日来', '分头', '全都', '另', '任何', '下', '理当', '虽则', '毫无', '还是', '漫说', '愤然', '地', '（', '不', '向着', '⑦', '这样', 'ＬＩ', '看起来', '而又', '呵', '在于', '那时', '倘', '以期', '么', 'φ．', '唉', '纵', '由此', '不外乎', '这般', '［④］', '论', '几乎', '紧接着', '打开天窗说亮话', '上来', '嗡嗡', 'ｃ］', '不了', '别处', '除外', '从今以后', '恰如', '率然', '才能', '不独', '即如', '够瞧的', '充分', '冲', '反手', '己', '或者', '挨着', '格外', '进来', '恰恰', '此地', '旁人', '小', '不得已', '［①⑦］', '局外', '如前所述', '［①⑨］', '照', '哈', '沿', '［②⑧］', '既是', '了', '精光', '个人', '［①ｆ］', '０：２', '及其', 'exp', '本地', '人人', '暗地里', '并', '如下', '哪些', '吱', '不外', '顺', '哗', '虽说', '要', '他们', '从速', '很', '哈哈', '啐', '朝', '经', '每时每刻', '牢牢', '借', '本人', '把', '凝神', '能', '──', '不亦乐乎', '替代', '至今', '大面儿上', '立地', '［①③］', '::', '随时', '全部', '另方面', '就', '＝☆', '多多益善', '＝［', '从宽', '从来', '于是', '极了', '各个', '不仅仅', '④', '屡屡', '立时', '故', '之一', '具体来说', '任凭', '或', '被', '甚么', '三番五次', '尽管', '相对而言', '不仅仅是', '尽快', '｛－', '他是', '这会儿', '凡', '＋', '每每', '＜λ', '加以', '对比', '除此以外', '不对', '弹指之间', '固然', '哪', '不仅', '日见', '照着', '庶几', '背靠背', '诸', '［②ｊ］', '；', '［⑥］', '来讲', '非徒', '倘使', '您', '长期以来', '一何', '如期', '大', '赶快', '$', '光是', '方能', '叫', '嗳', '哎呀', '何苦', '设或', '打', '挨门挨户', '→', '不怕', '［①⑧］', '故意', '连袂', '岂非', '各种', '无论', '许多', '我', '５：０', '然则', '以来', '自己', '据称', '9', '默然', '三番两次', '没奈何', '可能', '急匆匆', '进去', '和', '向使', '连日', '简而言之', '不惟', '且说', '内', '根据', '二来', '按', '比如', '几番', '顶多', '所在', '经常', '单单', '亲口', '不管', '例如', '不能', '豁然', '趁', '将才', '恍然', '嗯', '她', '对', '′｜', '沙沙', '，', '全体', '各位', '怎么', '这么样', '凭', '＊', '吧', '毫无例外', '别', '莫不然', '即使', '难道说', '呜', '各式', '为了', '［⑤］］', '尽管如此', '您们', '因而', '尔', '巴巴', '顺着', '它们', '不成', '嘿嘿', '好在', '起头', '嘿', '以至', '比方', '此时', '者', '马上', '哉', '犹且', '咳', '都', '待', '所', '省得', '有及', '不已', '近年来', '当', '只有', '尔后', '据此', '％', '）÷（１－', '几度', '诸如', '等', '第', '吗', '＜±', '6', '人家', '正值', '遵照', '嘎嘎', '恰巧', '继后', '趁热', '到目前为止', '恐怕', '打从', '腾', '赶', '就此', 'ａ］', '姑且', '迫于', '俺', '二话不说', '啥', '当中', '＞', '<', '本着', '互相', '［⑦］', '别的', '甚且', '迟早', '仍旧', '公然', '反倒', '所以', '而是', '任', '诚然', '还', '并且', '独自', '动不动', '陡然', '切不可', '孰料', '由于', '也罢', '边', '为', '大致', '得', '［②③］', '即是说', '因为', '［④ｅ］', '从未', '谁料', '不必', 'Ａ', '缕缕', '乘隙', '反之亦然', '去', '不是', '老老实实', '刚才', '临', '欤', '--', '日臻', '彻夜', '亲手', '…………………………………………………③', '当头', '或是', '背地里', '有时', '多多', '且不说', '［①⑥］', '出于', '前者', '跟', '三天两头', '某个', '尽可能', '从不', '▲', '这时', '累年', '其二', '要不是', '挨家挨户', '这么点儿', '就是了', '同', '至于', '譬如', '因', '再者说', '始而', '乘虚', '可好', '今', '该', '除开', '正如', '以上', '极大', '近来', '譬喻', '动辄', '偏偏', '从小', '为此', '依据', '同时', '而', '那儿', '纯粹', '倒不如说', '另一方面', '怎么办', '再次', '人们', '到处', '啷当', '哼', '除去', '哗啦', '℃', '各自', '尔尔', '尽早', '如上所述', '≈', '尽心尽力', '3', '叮咚', '－－', '简直', '的确', '尔等', '②', 'μ', ':', '全身心', '继之', '即将', '倍感', '比如说', '八成', '随着', '几时', '略微', '那么样', '.', '一转眼', '他人', '你们', '可以', '我们', '即便', '与否', '哪里', '不管怎样', '焉', '亲自', '它是', '如同', '又', '大约', '一则通过', '那里', '大不了', '一.', '〕', '&', '当真', '来着', '嘎登', '［③⑩］', '一般', '依', '只怕', '竟而', '～', '巴', '挨次', '伙同', '}', '传说', '其余', '使得', '↑', '最后', '达旦', '［①ｏ］', '……', '略为', '乘', '之类', '呜呼', '彼', '拦腰', '过于', '处在', '归根到底', '\"', '”，', '呼哧', '！', '［①ｃ］', '日复一日', '嗬', '哪个', '⑤', '(', '忽地', '借以', '要是', '纵然', '［③Ｆ］', '云云', '从重', \"'\", '恰好', '哪天', '从新', '连声', 'sub', '默默地', '后者', '来说', '非得', '较', '果真', '随后', '隔夜', '按说', '仍', '［⑤］', '决非', '′∈', '倒不如', '基本上', '看上去', '＝｛', '不时', '［', '过', '从轻', '其次', '莫不', '成年累月', '［②ｇ］', '必将', '并没有', 'γ', '与此同时', '绝非', '倍加', '彼此', '以', '儿', '甚而', '［③］', '哦', '暗中', '得了', '临到', '4', '#', '要么', '你', '多次', '啊', '继而', '充其量', '凑巧', '经过', '『', '二话没说', '种', '岂但', '】', '当地', '咧', '不知不觉', '何必', '挨个', '必定', '不可抗拒', '设使', '全然', '再其次', '大凡', '反过来说', '必须', '［②⑥］', '不迭', '不然', '再则', '而外', '这些', '勃然', '纵使', '一些', '常言道', '那末', '作为', '*', '尽然', '简言之', 'φ', '人', '如次', '这', '时候', '兮', '不曾', '如', '多年来', '哩', '不定', '以为', '再者', '随', '一旦', '论说', '从中', '来自', '什么样', '一直', '哼唷', '』', '］［', '别说', '？', '连同', '极其', '等到', '如其', '有些', '恰逢', '［①Ｃ］', '＝', '大举', '［①ｅ］', '哪边', '［④ｂ］', '不怎么', '怎样', '何时', '比照', '傥然', '不力', '顷刻间', '当儿', '」', '唯有', '已', '结果', '该当', '呀', '若果', '［①Ａ］', '出来', '不尽然', 'ｅ］', '加之', '不问', '非特', '［⑩］', '［①②］', '差不多', '此次', '不止一次', '【', '×××', '庶乎', '”', '一一', '并肩', '进而', '她们', '矣', '不止', '似的', '除了', '某', '〉', '大略', '反之', '这个', '［②', '罢了', '能否', '多么', '［②⑩］', '到头', '甚至', '猛然间', '风雨无阻', '日益', '冒', '每逢', '偶尔', '某某', '从此', '１２％', '设若', '趁势', '而况', '策略地', '即或', '路经', '从此以后', '哇', '切切', '像', '年复一年', '全力', '的', '虽然', '连连', '敢于', '朝着', '得起', '联袂', '一', '后', '靠', '几', '再', '2', '鉴于', '不常', '从优', '＆', '上', '本', '啊呀', '却', '皆可', '］∧′＝［', '那么些', ')', '让', '［④ａ］', '理该', '数/', '此处', '而言', '会', '㈧', '来看', '不至于', '率尔', '?', '最', '权时', '截至', '亲眼', '～±', '逐步', '·', '来', '正是', '总的说来', '有的', '哪儿', '有关', '凡是', '此外', '距', '而已', 'ＺＸＦＩＴＬ', '居然', '快要', '不然的话', '_', '＜Δ', '正巧', '呵呵', '得天独厚', '不满', '归齐', '①', '穷年累月', '可是', '除此', '不若', '日渐', '当着', '一来', '但愿', '高低', '与其说', '：', 'Ｒ．Ｌ．', '总的来说', '不过', '待到', '而后', '只', '一番', '连', '因此', '那样', '［②ｆ］', '极为', '或则', '趁着', '》', '以故', '两者', '前后', '宁可', '宁肯', '∪φ∈', '一样', '［⑧］', '几经', '8', '从古至今', 'Δ', '在下', '大概', '与', '尚且', '［⑤ｂ］', '或多或少', '反倒是', '啊哟', '有的是', '不得', '说来', '更进一步', '不能不', '趁早', '轰然', '何', '呸', '用', '［①Ｅ］', '甚或', '［③ｂ］', '究竟', 'В', '然后', '立马', '截然', '即', '［＊］', '乘势', '成心', '借此', '１．', '否则', '就要', '何须', '按照', '［①④］', '亦', '扑通', '其一', '［－', '多多少少', '哎哟', '呼啦', '从而', '啪达', '［①］', '立刻', '取道', '顿时', '顷刻之间', '如果', '“', '及', '般的', '不但', '＿', '处处', '只是', '着', '绝对', '不会', '不料', '到', '毫无保留地', '万一', '果然', '不由得', '既然', '则甚', '２．３％', '不经意', '换句话说', '比及', '常言说得好', '只限', '既往', '＝－', '存心', '怪不得', '［⑤ｄ］', '难怪', '这么些', '乘机', '7', '对方', '总而言之', '彼时', '刚巧', '谁人', '至若', '://', '刚好', '这一来', '然而', '假若', '哪样', '就算', '才', '就是', '与其', '着呢', '...', '此间', '喂', '并非', '诸位', 'sup', '略加', '不巧', '若夫', '极力', '我是', '只消', '为止', '举凡', '何尝', '那', '故此', '元／吨', '归根结底', '／', '大大', '眨眼', '由此可见', 'Ⅲ', '谁', '前此', '...................', '呃', '乃至', '［②④', '从早到晚', '＋ξ', '这么', '多', '不妨', '［②ｈ］', '不如', '还有', '［②ｄ］', '所有', '如今', '云尔', './', '第二', '那个', '//', '自从', '针对', '以至于', '按期', '很多', '不拘', '碰巧', '不再', '甚至于', '话说', '给', '末##末', '感觉', '真的', '觉得']\n"
     ]
    }
   ],
   "source": [
    "import jieba\n",
    "from collections import Counter\n",
    "from pyecharts.charts import WordCloud\n",
    "from pyecharts.globals import SymbolType\n",
    "\n",
    "jieba.add_word('屈楚萧')\n",
    "jieba.add_word('刘启')\n",
    "jieba.add_word('吴京')\n",
    "jieba.add_word('刘培强')\n",
    "jieba.add_word('李光洁')\n",
    "jieba.add_word('王磊')\n",
    "jieba.add_word('吴孟达')\n",
    "jieba.add_word('达叔')\n",
    "jieba.add_word('韩子昂')\n",
    "jieba.add_word('赵今麦')\n",
    "jieba.add_word('韩朵朵')\n",
    "\n",
    "swords = [x.strip() for x in open ('stopwords.txt', encoding=\"utf-8\")]\n",
    "\n",
    "print(swords)"
   ],
   "metadata": {
    "collapsed": false,
    "pycharm": {
     "name": "#%%\n"
    }
   }
  },
  {
   "cell_type": "code",
   "execution_count": 34,
   "outputs": [],
   "source": [
    "import re\n",
    "pattern = re.compile('[^\\d]+')\n",
    "\n",
    "def plot_word_cloud_maoyan(data, swords, path):\n",
    "    # print(data['content'])\n",
    "    # 2019-02-11 10:10:00\n",
    "    text = ''\n",
    "    # print(type(data['content'].values[99]), data['content'].values[299])\n",
    "    # 将所有评论连接起来\n",
    "\n",
    "    for temp_i in data['content']:\n",
    "        text += str(temp_i)\n",
    "\n",
    "    words = list(jieba.cut(text))\n",
    "    ex_sw_words = []\n",
    "    for word in words:\n",
    "        if len(word)>1 and (word not in swords):\n",
    "            ex_sw_words.append(word)\n",
    "    c = Counter()\n",
    "    c = Counter(ex_sw_words)\n",
    "    wc_data = pd.DataFrame({'word':list(c.keys()), 'counts':list(c.values())}).sort_values(by='counts', ascending=False).head(100)\n",
    "    # print(wc_data)\n",
    "\n",
    "    c = (\n",
    "    WordCloud()\n",
    "    .add(\"\", wc_data.values, word_size_range=[20, 100], shape=SymbolType.DIAMOND)\n",
    "    .set_global_opts(title_opts=opts.TitleOpts(title=path))\n",
    "    .render(\"./Charts_html/Maoyan_\" + path + \".html\")\n",
    "    )\n",
    "\n",
    "\n",
    "def plot_word_cloud_douban(data, swords, path):\n",
    "    text = ''.join(data['comment'])\n",
    "    words = list(jieba.cut(text))\n",
    "    ex_sw_words = []\n",
    "    for word in words:\n",
    "        if len(word)>1 and (word not in swords):\n",
    "            ex_sw_words.append(word)\n",
    "    c = Counter()\n",
    "    c = Counter(ex_sw_words)\n",
    "    wc_data = pd.DataFrame({'word':list(c.keys()), 'counts':list(c.values())}).sort_values(by='counts', ascending=False).head(100)\n",
    "    print(wc_data)\n",
    "\n",
    "    c = (\n",
    "    WordCloud()\n",
    "    .add(\"\", wc_data.values, word_size_range=[20, 100], shape=SymbolType.DIAMOND)\n",
    "    .set_global_opts(title_opts=opts.TitleOpts(title=path))\n",
    "    .render(\"./Charts_html/Douban_\" + path + \".html\")\n",
    "    )"
   ],
   "metadata": {
    "collapsed": false,
    "pycharm": {
     "name": "#%%\n"
    }
   }
  },
  {
   "cell_type": "code",
   "execution_count": 35,
   "outputs": [
    {
     "name": "stdout",
     "output_type": "stream",
     "text": [
      "     word  counts\n",
      "32     中国     123\n",
      "16     电影      93\n",
      "40     科幻      91\n",
      "25     地球      78\n",
      "26     流浪      45\n",
      "..    ...     ...\n",
      "662    解决       8\n",
      "319    未来       8\n",
      "383  瑕不掩瑜       8\n",
      "138    漫游       8\n",
      "270    缺点       8\n",
      "\n",
      "[100 rows x 2 columns]\n",
      "     word  counts\n",
      "151    电影      49\n",
      "4      地球      35\n",
      "41     中国      33\n",
      "78     科幻      28\n",
      "144    特效      28\n",
      "..    ...     ...\n",
      "306    电梯       4\n",
      "188  莫名其妙       4\n",
      "998    太多       4\n",
      "350    大片       4\n",
      "281    处理       4\n",
      "\n",
      "[100 rows x 2 columns]\n"
     ]
    }
   ],
   "source": [
    "# 绘制豆瓣的评价的词云\n",
    "# 高分\n",
    "plot_word_cloud_douban(data=data1[data1['rating']>=4], swords=swords, path=\"Worldcloud_favorate\")\n",
    "# 低分\n",
    "plot_word_cloud_douban(data=data1[data1['rating']<=2], swords=swords, path=\"Worldcloud_poor\")"
   ],
   "metadata": {
    "collapsed": false,
    "pycharm": {
     "name": "#%%\n"
    }
   }
  },
  {
   "cell_type": "code",
   "execution_count": 36,
   "outputs": [
    {
     "data": {
      "text/plain": "                                                      comment        id  \\\ntime                                                                      \n2019-02-04  \\n“北京道路安全委提醒你：道路千万条，安全第一条，行车不规范，亲人两行泪” 这句广播语真是...        影志   \n2019-02-02  \\n中国导演能拍出这样的硬科幻，看到这样的完成度，想想就激动，可以让人原谅一切不完美！说这部...      亵渎电影   \n2019-02-06  \\n8.8，热评第一条我就呵呵了，中国科幻电影为什么不值得我们打高分去鼓励，非要放在国际水平...  舒服Kimodi   \n2019-02-05  \\n观影过程中的情绪很复杂，一方面感叹特效的用心和部分设定的精妙，另一方面又很讨厌导演极尽谄...     二十二岛主   \n2019-02-05             \\n春节期间最大的一场烟花，是看你爸为你和地球点燃的宇宙爆炸，太朋克了。\\n      姨妈的鸭   \n...                                                       ...       ...   \n2019-02-07  \\n中国科幻电影有希望了，老泪纵横啊！就是演的太像“演的”了！两个小孩的戏，还有姥爷的配音有...        莫亚   \n2019-02-05  \\n看完以后，中国科幻电影元年不元年，中国科幻有没有希望，这种谁还在乎。仅说电影，已经完全值...     代号273   \n2019-02-05  \\n改编赞，特效赞，情感冲击到最后也非常赞。小说的主人公没见过星星，现实中的观众没见过中国硬...      我爱罗宾   \n2019-02-08   \\n几乎不看SF的我 跟着原著粉看美滋滋 全程卧槽🐂🍺  国产硬核 就是初中生卖惨广播太尬了\\n   momoko酱   \n2019-02-09  \\n这几天在八组天天看这个diss那个嫌弃的，我xin思多山寨多劣质呢，进电影院看了3分钟泪...       顶丁叮   \n\n                 time  rating  likes  city  \ntime                                        \n2019-02-04 2019-02-04       4  71948    北京  \n2019-02-02 2019-02-02       4   9120    北京  \n2019-02-06 2019-02-06       5   9824  辽宁大连  \n2019-02-05 2019-02-05       4   3460    北京  \n2019-02-05 2019-02-05       5   6827    上海  \n...               ...     ...    ...   ...  \n2019-02-07 2019-02-07       5     33    北京  \n2019-02-05 2019-02-05       5     22    北京  \n2019-02-05 2019-02-05       4     35    北京  \n2019-02-08 2019-02-08       4      9  浙江杭州  \n2019-02-09 2019-02-09       5      8    北京  \n\n[189 rows x 6 columns]",
      "text/html": "<div>\n<style scoped>\n    .dataframe tbody tr th:only-of-type {\n        vertical-align: middle;\n    }\n\n    .dataframe tbody tr th {\n        vertical-align: top;\n    }\n\n    .dataframe thead th {\n        text-align: right;\n    }\n</style>\n<table border=\"1\" class=\"dataframe\">\n  <thead>\n    <tr style=\"text-align: right;\">\n      <th></th>\n      <th>comment</th>\n      <th>id</th>\n      <th>time</th>\n      <th>rating</th>\n      <th>likes</th>\n      <th>city</th>\n    </tr>\n    <tr>\n      <th>time</th>\n      <th></th>\n      <th></th>\n      <th></th>\n      <th></th>\n      <th></th>\n      <th></th>\n    </tr>\n  </thead>\n  <tbody>\n    <tr>\n      <th>2019-02-04</th>\n      <td>\\n“北京道路安全委提醒你：道路千万条，安全第一条，行车不规范，亲人两行泪” 这句广播语真是...</td>\n      <td>影志</td>\n      <td>2019-02-04</td>\n      <td>4</td>\n      <td>71948</td>\n      <td>北京</td>\n    </tr>\n    <tr>\n      <th>2019-02-02</th>\n      <td>\\n中国导演能拍出这样的硬科幻，看到这样的完成度，想想就激动，可以让人原谅一切不完美！说这部...</td>\n      <td>亵渎电影</td>\n      <td>2019-02-02</td>\n      <td>4</td>\n      <td>9120</td>\n      <td>北京</td>\n    </tr>\n    <tr>\n      <th>2019-02-06</th>\n      <td>\\n8.8，热评第一条我就呵呵了，中国科幻电影为什么不值得我们打高分去鼓励，非要放在国际水平...</td>\n      <td>舒服Kimodi</td>\n      <td>2019-02-06</td>\n      <td>5</td>\n      <td>9824</td>\n      <td>辽宁大连</td>\n    </tr>\n    <tr>\n      <th>2019-02-05</th>\n      <td>\\n观影过程中的情绪很复杂，一方面感叹特效的用心和部分设定的精妙，另一方面又很讨厌导演极尽谄...</td>\n      <td>二十二岛主</td>\n      <td>2019-02-05</td>\n      <td>4</td>\n      <td>3460</td>\n      <td>北京</td>\n    </tr>\n    <tr>\n      <th>2019-02-05</th>\n      <td>\\n春节期间最大的一场烟花，是看你爸为你和地球点燃的宇宙爆炸，太朋克了。\\n</td>\n      <td>姨妈的鸭</td>\n      <td>2019-02-05</td>\n      <td>5</td>\n      <td>6827</td>\n      <td>上海</td>\n    </tr>\n    <tr>\n      <th>...</th>\n      <td>...</td>\n      <td>...</td>\n      <td>...</td>\n      <td>...</td>\n      <td>...</td>\n      <td>...</td>\n    </tr>\n    <tr>\n      <th>2019-02-07</th>\n      <td>\\n中国科幻电影有希望了，老泪纵横啊！就是演的太像“演的”了！两个小孩的戏，还有姥爷的配音有...</td>\n      <td>莫亚</td>\n      <td>2019-02-07</td>\n      <td>5</td>\n      <td>33</td>\n      <td>北京</td>\n    </tr>\n    <tr>\n      <th>2019-02-05</th>\n      <td>\\n看完以后，中国科幻电影元年不元年，中国科幻有没有希望，这种谁还在乎。仅说电影，已经完全值...</td>\n      <td>代号273</td>\n      <td>2019-02-05</td>\n      <td>5</td>\n      <td>22</td>\n      <td>北京</td>\n    </tr>\n    <tr>\n      <th>2019-02-05</th>\n      <td>\\n改编赞，特效赞，情感冲击到最后也非常赞。小说的主人公没见过星星，现实中的观众没见过中国硬...</td>\n      <td>我爱罗宾</td>\n      <td>2019-02-05</td>\n      <td>4</td>\n      <td>35</td>\n      <td>北京</td>\n    </tr>\n    <tr>\n      <th>2019-02-08</th>\n      <td>\\n几乎不看SF的我 跟着原著粉看美滋滋 全程卧槽🐂🍺  国产硬核 就是初中生卖惨广播太尬了\\n</td>\n      <td>momoko酱</td>\n      <td>2019-02-08</td>\n      <td>4</td>\n      <td>9</td>\n      <td>浙江杭州</td>\n    </tr>\n    <tr>\n      <th>2019-02-09</th>\n      <td>\\n这几天在八组天天看这个diss那个嫌弃的，我xin思多山寨多劣质呢，进电影院看了3分钟泪...</td>\n      <td>顶丁叮</td>\n      <td>2019-02-09</td>\n      <td>5</td>\n      <td>8</td>\n      <td>北京</td>\n    </tr>\n  </tbody>\n</table>\n<p>189 rows × 6 columns</p>\n</div>"
     },
     "execution_count": 36,
     "metadata": {},
     "output_type": "execute_result"
    }
   ],
   "source": [
    "# 豆瓣高分的部分评论\n",
    "data1[data1['rating']>3]"
   ],
   "metadata": {
    "collapsed": false,
    "pycharm": {
     "name": "#%%\n"
    }
   }
  },
  {
   "cell_type": "code",
   "execution_count": 37,
   "outputs": [
    {
     "data": {
      "text/plain": "                                                      comment         id  \\\ntime                                                                       \n2019-02-05  \\n求求编剧，人类都快失去地球了，生存才是最重要的。请别再bb这点家庭琐事和煽情烂梗。白瞎了...      说给自己听   \n2019-02-05  \\n台词做作剧情薄弱没一个演员在线 无时无刻的尬笑走心台词还以为编剧是激素泛滥的中年少女 感...        gus   \n2019-02-05  \\n一分。画面分。\\n在一个烧石头都能做热核聚变的高科技时代，会搞不清楚发动机的工作条件导致...         淺潛   \n2019-02-05  \\n这个设定本身带来的那种悲壮甚至一丝浪漫感全被各种毫无节制的煽情和空到不行的台词给毁了 ★...    qw0aszx   \n2019-02-05  \\n新时代特色社会主义硬核科幻(科幻的核心在于探索发问，而不是去解释回答，这样的作品属于玄幻)\\n      BeAst   \n...                                                       ...        ...   \n2019-02-12  \\n特效很棒，美而绝望。但作为电影，故事情节单薄，没有冲突点，所以整个片子一点都不吸引人，就...        鱼二度   \n2019-02-13  \\n刻意煽情让人感觉十分难受且尴尬，另有多处硬伤经不起推敲。一定要说是中国科幻电影的崛起，个...        大河马   \n2019-02-08  \\n全片就很尬。剧情发展和突然的煽情，整个尬到最后；人物设定也很奇怪，全片找不到任何一个爆满...     王强尼乐百事   \n2019-02-05                         \\n还是再看一遍特斯拉上天感受一下太空浪漫吧\\n\\n         拉妹   \n2019-02-08  \\n是因为国产烂片太多了吗 特效稍微做得好一点就被说的很好看 全程感觉就是演技不够特效来凑 ...  MAOXINXIN   \n\n                 time  rating  likes  city  \ntime                                        \n2019-02-05 2019-02-05       1  14487    上海  \n2019-02-05 2019-02-05       2  14653  广东广州  \n2019-02-05 2019-02-05       1   6474  江苏南京  \n2019-02-05 2019-02-05       2   7022  浙江杭州  \n2019-02-05 2019-02-05       2   6054  陕西西安  \n...               ...     ...    ...   ...  \n2019-02-12 2019-02-12       2     17  广东广州  \n2019-02-13 2019-02-13       2     17   NaN  \n2019-02-08 2019-02-08       2     39  浙江杭州  \n2019-02-05 2019-02-05       2    114    北京  \n2019-02-08 2019-02-08       1     68  浙江杭州  \n\n[94 rows x 6 columns]",
      "text/html": "<div>\n<style scoped>\n    .dataframe tbody tr th:only-of-type {\n        vertical-align: middle;\n    }\n\n    .dataframe tbody tr th {\n        vertical-align: top;\n    }\n\n    .dataframe thead th {\n        text-align: right;\n    }\n</style>\n<table border=\"1\" class=\"dataframe\">\n  <thead>\n    <tr style=\"text-align: right;\">\n      <th></th>\n      <th>comment</th>\n      <th>id</th>\n      <th>time</th>\n      <th>rating</th>\n      <th>likes</th>\n      <th>city</th>\n    </tr>\n    <tr>\n      <th>time</th>\n      <th></th>\n      <th></th>\n      <th></th>\n      <th></th>\n      <th></th>\n      <th></th>\n    </tr>\n  </thead>\n  <tbody>\n    <tr>\n      <th>2019-02-05</th>\n      <td>\\n求求编剧，人类都快失去地球了，生存才是最重要的。请别再bb这点家庭琐事和煽情烂梗。白瞎了...</td>\n      <td>说给自己听</td>\n      <td>2019-02-05</td>\n      <td>1</td>\n      <td>14487</td>\n      <td>上海</td>\n    </tr>\n    <tr>\n      <th>2019-02-05</th>\n      <td>\\n台词做作剧情薄弱没一个演员在线 无时无刻的尬笑走心台词还以为编剧是激素泛滥的中年少女 感...</td>\n      <td>gus</td>\n      <td>2019-02-05</td>\n      <td>2</td>\n      <td>14653</td>\n      <td>广东广州</td>\n    </tr>\n    <tr>\n      <th>2019-02-05</th>\n      <td>\\n一分。画面分。\\n在一个烧石头都能做热核聚变的高科技时代，会搞不清楚发动机的工作条件导致...</td>\n      <td>淺潛</td>\n      <td>2019-02-05</td>\n      <td>1</td>\n      <td>6474</td>\n      <td>江苏南京</td>\n    </tr>\n    <tr>\n      <th>2019-02-05</th>\n      <td>\\n这个设定本身带来的那种悲壮甚至一丝浪漫感全被各种毫无节制的煽情和空到不行的台词给毁了 ★...</td>\n      <td>qw0aszx</td>\n      <td>2019-02-05</td>\n      <td>2</td>\n      <td>7022</td>\n      <td>浙江杭州</td>\n    </tr>\n    <tr>\n      <th>2019-02-05</th>\n      <td>\\n新时代特色社会主义硬核科幻(科幻的核心在于探索发问，而不是去解释回答，这样的作品属于玄幻)\\n</td>\n      <td>BeAst</td>\n      <td>2019-02-05</td>\n      <td>2</td>\n      <td>6054</td>\n      <td>陕西西安</td>\n    </tr>\n    <tr>\n      <th>...</th>\n      <td>...</td>\n      <td>...</td>\n      <td>...</td>\n      <td>...</td>\n      <td>...</td>\n      <td>...</td>\n    </tr>\n    <tr>\n      <th>2019-02-12</th>\n      <td>\\n特效很棒，美而绝望。但作为电影，故事情节单薄，没有冲突点，所以整个片子一点都不吸引人，就...</td>\n      <td>鱼二度</td>\n      <td>2019-02-12</td>\n      <td>2</td>\n      <td>17</td>\n      <td>广东广州</td>\n    </tr>\n    <tr>\n      <th>2019-02-13</th>\n      <td>\\n刻意煽情让人感觉十分难受且尴尬，另有多处硬伤经不起推敲。一定要说是中国科幻电影的崛起，个...</td>\n      <td>大河马</td>\n      <td>2019-02-13</td>\n      <td>2</td>\n      <td>17</td>\n      <td>NaN</td>\n    </tr>\n    <tr>\n      <th>2019-02-08</th>\n      <td>\\n全片就很尬。剧情发展和突然的煽情，整个尬到最后；人物设定也很奇怪，全片找不到任何一个爆满...</td>\n      <td>王强尼乐百事</td>\n      <td>2019-02-08</td>\n      <td>2</td>\n      <td>39</td>\n      <td>浙江杭州</td>\n    </tr>\n    <tr>\n      <th>2019-02-05</th>\n      <td>\\n还是再看一遍特斯拉上天感受一下太空浪漫吧\\n\\n</td>\n      <td>拉妹</td>\n      <td>2019-02-05</td>\n      <td>2</td>\n      <td>114</td>\n      <td>北京</td>\n    </tr>\n    <tr>\n      <th>2019-02-08</th>\n      <td>\\n是因为国产烂片太多了吗 特效稍微做得好一点就被说的很好看 全程感觉就是演技不够特效来凑 ...</td>\n      <td>MAOXINXIN</td>\n      <td>2019-02-08</td>\n      <td>1</td>\n      <td>68</td>\n      <td>浙江杭州</td>\n    </tr>\n  </tbody>\n</table>\n<p>94 rows × 6 columns</p>\n</div>"
     },
     "execution_count": 37,
     "metadata": {},
     "output_type": "execute_result"
    }
   ],
   "source": [
    "# 豆瓣低分的部分评论\n",
    "data1[data1['rating']<3]"
   ],
   "metadata": {
    "collapsed": false,
    "pycharm": {
     "name": "#%%\n"
    }
   }
  },
  {
   "cell_type": "code",
   "execution_count": 38,
   "outputs": [],
   "source": [
    "# 豆瓣高分评论\n",
    "# 数量过多，需要解除注释即可查看\n",
    "# for i in data1[data1['rating']>3]['comment']:\n",
    "#     print(i+'\\n')"
   ],
   "metadata": {
    "collapsed": false,
    "pycharm": {
     "name": "#%%\n"
    }
   }
  },
  {
   "cell_type": "code",
   "execution_count": 39,
   "outputs": [],
   "source": [
    "# 豆瓣低分评论\n",
    "# for i in data1[data1['rating']<3]['comment']:\n",
    "#     print(i+'\\n')"
   ],
   "metadata": {
    "collapsed": false,
    "pycharm": {
     "name": "#%%\n"
    }
   }
  },
  {
   "cell_type": "code",
   "execution_count": 40,
   "outputs": [],
   "source": [
    "# 绘制猫眼的评价的词云\n",
    "# 高分\n",
    "# import re\n",
    "# pattern1 = re.compile('[^\\d]+')\n",
    "\n",
    "# 以下列第一种形式即可获得评论的字符串\n",
    "# print(type(data2[data2['score']>7]['content'][3003]))\n",
    "# print(pattern1.findall(data2[data2['score']>7]['content'][3003]))\n",
    "\n",
    "plot_word_cloud_maoyan(data=data2[data2['score']>7], swords=swords, path=\"Worldcloud_favorate\")\n",
    "# 低分\n",
    "plot_word_cloud_maoyan(data=data2[data2['score']<4], swords=swords, path=\"Worldcloud_poor\")"
   ],
   "metadata": {
    "collapsed": false,
    "pycharm": {
     "name": "#%%\n"
    }
   }
  },
  {
   "cell_type": "code",
   "execution_count": 41,
   "outputs": [
    {
     "data": {
      "text/plain": "                                                               content  \\\ntime                                                                     \n2019-02-11 10:10:00                                            很好震撼的很啊   \n2019-02-11 10:10:00  国产的科幻巅峰，丝毫不逊色好莱坞科幻大片，影响力就像星球大战一样，是国产科幻的开山之做，希望...   \n2019-02-11 10:10:00          超级好看啊 户口帅的一批 我自己一个人看的 看得热血沸腾啊 爷爷死的时候真的哭死了   \n2019-02-11 10:10:00                                         保护生态环境，从我做   \n2019-02-11 10:10:00                                       超级好看，感动，特效好哒   \n...                                                                ...   \n2019-02-11 01:40:00    终于明白什么叫饱和式救援\\n人类命运共同体选择了希望\\n不管走多远，也要带着哪怕是残破的家\\n   \n2019-02-11 01:40:00                                         很不错，推荐大家看。   \n2019-02-11 01:40:00                                         堪比好莱坞大片，震撼   \n2019-02-11 01:40:00                                          非常好看 震撼人心   \n2019-02-11 01:40:00  我觉得这部影片可以说很棒了。特效很不错，剧情也ok(结尾主人公竟然没死emmm)。爷爷死的那...   \n\n                     gender       nick  replyCount  score                time  \\\ntime                                                                            \n2019-02-11 10:10:00     1.0         江生         0.0    9.0 2019-02-11 10:10:00   \n2019-02-11 10:10:00     0.0  Decadence         0.0   10.0 2019-02-11 10:10:00   \n2019-02-11 10:10:00     2.0    暴走萝莉912         0.0   10.0 2019-02-11 10:10:00   \n2019-02-11 10:10:00     1.0  *^_^*红尘逍遥         0.0   10.0 2019-02-11 10:10:00   \n2019-02-11 10:10:00     2.0        罗大大         0.0    9.0 2019-02-11 10:10:00   \n...                     ...        ...         ...    ...                 ...   \n2019-02-11 01:40:00     1.0    ficeray         0.0   10.0 2019-02-11 01:40:00   \n2019-02-11 01:40:00     1.0    愛•菩提•翡翠         0.0   10.0 2019-02-11 01:40:00   \n2019-02-11 01:40:00     1.0         Zz         0.0   10.0 2019-02-11 01:40:00   \n2019-02-11 01:40:00     1.0        十八。         0.0   10.0 2019-02-11 01:40:00   \n2019-02-11 01:40:00     0.0     你的小可爱！         0.0    9.0 2019-02-11 01:40:00   \n\n                     upCount        userId  userLevel  \ntime                                                   \n2019-02-11 10:10:00      0.0  2.016950e+08        3.0  \n2019-02-11 10:10:00      0.0  1.020876e+09        4.0  \n2019-02-11 10:10:00      0.0  3.042996e+08        3.0  \n2019-02-11 10:10:00      0.0  1.548123e+09        2.0  \n2019-02-11 10:10:00      0.0  8.973641e+08        2.0  \n...                      ...           ...        ...  \n2019-02-11 01:40:00      0.0  2.455027e+09        1.0  \n2019-02-11 01:40:00      0.0  2.297931e+09        1.0  \n2019-02-11 01:40:00      0.0  2.223646e+09        2.0  \n2019-02-11 01:40:00      0.0  2.458246e+09        1.0  \n2019-02-11 01:40:00      2.0  1.920836e+09        2.0  \n\n[93482 rows x 9 columns]",
      "text/html": "<div>\n<style scoped>\n    .dataframe tbody tr th:only-of-type {\n        vertical-align: middle;\n    }\n\n    .dataframe tbody tr th {\n        vertical-align: top;\n    }\n\n    .dataframe thead th {\n        text-align: right;\n    }\n</style>\n<table border=\"1\" class=\"dataframe\">\n  <thead>\n    <tr style=\"text-align: right;\">\n      <th></th>\n      <th>content</th>\n      <th>gender</th>\n      <th>nick</th>\n      <th>replyCount</th>\n      <th>score</th>\n      <th>time</th>\n      <th>upCount</th>\n      <th>userId</th>\n      <th>userLevel</th>\n    </tr>\n    <tr>\n      <th>time</th>\n      <th></th>\n      <th></th>\n      <th></th>\n      <th></th>\n      <th></th>\n      <th></th>\n      <th></th>\n      <th></th>\n      <th></th>\n    </tr>\n  </thead>\n  <tbody>\n    <tr>\n      <th>2019-02-11 10:10:00</th>\n      <td>很好震撼的很啊</td>\n      <td>1.0</td>\n      <td>江生</td>\n      <td>0.0</td>\n      <td>9.0</td>\n      <td>2019-02-11 10:10:00</td>\n      <td>0.0</td>\n      <td>2.016950e+08</td>\n      <td>3.0</td>\n    </tr>\n    <tr>\n      <th>2019-02-11 10:10:00</th>\n      <td>国产的科幻巅峰，丝毫不逊色好莱坞科幻大片，影响力就像星球大战一样，是国产科幻的开山之做，希望...</td>\n      <td>0.0</td>\n      <td>Decadence</td>\n      <td>0.0</td>\n      <td>10.0</td>\n      <td>2019-02-11 10:10:00</td>\n      <td>0.0</td>\n      <td>1.020876e+09</td>\n      <td>4.0</td>\n    </tr>\n    <tr>\n      <th>2019-02-11 10:10:00</th>\n      <td>超级好看啊 户口帅的一批 我自己一个人看的 看得热血沸腾啊 爷爷死的时候真的哭死了</td>\n      <td>2.0</td>\n      <td>暴走萝莉912</td>\n      <td>0.0</td>\n      <td>10.0</td>\n      <td>2019-02-11 10:10:00</td>\n      <td>0.0</td>\n      <td>3.042996e+08</td>\n      <td>3.0</td>\n    </tr>\n    <tr>\n      <th>2019-02-11 10:10:00</th>\n      <td>保护生态环境，从我做</td>\n      <td>1.0</td>\n      <td>*^_^*红尘逍遥</td>\n      <td>0.0</td>\n      <td>10.0</td>\n      <td>2019-02-11 10:10:00</td>\n      <td>0.0</td>\n      <td>1.548123e+09</td>\n      <td>2.0</td>\n    </tr>\n    <tr>\n      <th>2019-02-11 10:10:00</th>\n      <td>超级好看，感动，特效好哒</td>\n      <td>2.0</td>\n      <td>罗大大</td>\n      <td>0.0</td>\n      <td>9.0</td>\n      <td>2019-02-11 10:10:00</td>\n      <td>0.0</td>\n      <td>8.973641e+08</td>\n      <td>2.0</td>\n    </tr>\n    <tr>\n      <th>...</th>\n      <td>...</td>\n      <td>...</td>\n      <td>...</td>\n      <td>...</td>\n      <td>...</td>\n      <td>...</td>\n      <td>...</td>\n      <td>...</td>\n      <td>...</td>\n    </tr>\n    <tr>\n      <th>2019-02-11 01:40:00</th>\n      <td>终于明白什么叫饱和式救援\\n人类命运共同体选择了希望\\n不管走多远，也要带着哪怕是残破的家\\n</td>\n      <td>1.0</td>\n      <td>ficeray</td>\n      <td>0.0</td>\n      <td>10.0</td>\n      <td>2019-02-11 01:40:00</td>\n      <td>0.0</td>\n      <td>2.455027e+09</td>\n      <td>1.0</td>\n    </tr>\n    <tr>\n      <th>2019-02-11 01:40:00</th>\n      <td>很不错，推荐大家看。</td>\n      <td>1.0</td>\n      <td>愛•菩提•翡翠</td>\n      <td>0.0</td>\n      <td>10.0</td>\n      <td>2019-02-11 01:40:00</td>\n      <td>0.0</td>\n      <td>2.297931e+09</td>\n      <td>1.0</td>\n    </tr>\n    <tr>\n      <th>2019-02-11 01:40:00</th>\n      <td>堪比好莱坞大片，震撼</td>\n      <td>1.0</td>\n      <td>Zz</td>\n      <td>0.0</td>\n      <td>10.0</td>\n      <td>2019-02-11 01:40:00</td>\n      <td>0.0</td>\n      <td>2.223646e+09</td>\n      <td>2.0</td>\n    </tr>\n    <tr>\n      <th>2019-02-11 01:40:00</th>\n      <td>非常好看 震撼人心</td>\n      <td>1.0</td>\n      <td>十八。</td>\n      <td>0.0</td>\n      <td>10.0</td>\n      <td>2019-02-11 01:40:00</td>\n      <td>0.0</td>\n      <td>2.458246e+09</td>\n      <td>1.0</td>\n    </tr>\n    <tr>\n      <th>2019-02-11 01:40:00</th>\n      <td>我觉得这部影片可以说很棒了。特效很不错，剧情也ok(结尾主人公竟然没死emmm)。爷爷死的那...</td>\n      <td>0.0</td>\n      <td>你的小可爱！</td>\n      <td>0.0</td>\n      <td>9.0</td>\n      <td>2019-02-11 01:40:00</td>\n      <td>2.0</td>\n      <td>1.920836e+09</td>\n      <td>2.0</td>\n    </tr>\n  </tbody>\n</table>\n<p>93482 rows × 9 columns</p>\n</div>"
     },
     "execution_count": 41,
     "metadata": {},
     "output_type": "execute_result"
    }
   ],
   "source": [
    "# 猫眼高分的部分评论\n",
    "data2[data2['score']>7]\n"
   ],
   "metadata": {
    "collapsed": false,
    "pycharm": {
     "name": "#%%\n"
    }
   }
  },
  {
   "cell_type": "code",
   "execution_count": 42,
   "outputs": [
    {
     "data": {
      "text/plain": "                                                               content  \\\ntime                                                                     \n2019-02-11 10:08:00  本来是要买初一的飞驰人生，喜剧之王和外星人的。剧组的同事给我买错了买了这个没买飞驰人生。大年...   \n2019-02-11 10:06:00                                           差了......   \n2019-02-11 10:03:00                                             我不可以。。   \n2019-02-11 10:02:00                                           简直就是垃圾电影   \n2019-02-11 10:02:00                                          太烂，高分哪里来的   \n...                                                                ...   \n2019-02-11 01:51:00                               看不懂，真的看不懂，很多剧情穿越的太快了   \n2019-02-11 01:48:00  电影我还没看，但我就想问问，万达电影票100多一张？VIP厅就这么贵么？还是天价电影票？这些...   \n2019-02-11 01:45:00  孩子来看流浪地球电影是3d的，和你们要眼镜检票员说不是3d，没给~结果孩子就凑合模模糊糊看完...   \n2019-02-11 01:45:00                                             没看懂啥意思   \n2019-02-11 01:43:00                中国电影正在进步，但电影拍的不吸引人，看到一半能猜到结局，觉得很没意思   \n\n                     gender          nick  replyCount  score  \\\ntime                                                           \n2019-02-11 10:08:00     1.0         Zjnnn         0.0    3.0   \n2019-02-11 10:06:00     1.0       ReturnO         0.0    1.0   \n2019-02-11 10:03:00     0.0            贺岁         1.0    1.0   \n2019-02-11 10:02:00     1.0           cy。         4.0    1.0   \n2019-02-11 10:02:00     2.0    蓝玫瑰1688888         2.0    2.0   \n...                     ...           ...         ...    ...   \n2019-02-11 01:51:00     0.0  AoJ835042755         0.0    1.0   \n2019-02-11 01:48:00     1.0             曄         0.0    2.0   \n2019-02-11 01:45:00     0.0  yEf246298079         0.0    1.0   \n2019-02-11 01:45:00     1.0            😊楽         0.0    1.0   \n2019-02-11 01:43:00     0.0        Jamiyy         0.0    3.0   \n\n                                   time  upCount        userId  userLevel  \ntime                                                                       \n2019-02-11 10:08:00 2019-02-11 10:08:00      1.0  1.032167e+09        2.0  \n2019-02-11 10:06:00 2019-02-11 10:06:00      0.0  1.034489e+09        3.0  \n2019-02-11 10:03:00 2019-02-11 10:03:00      0.0  1.699866e+09        2.0  \n2019-02-11 10:02:00 2019-02-11 10:02:00      2.0  1.773611e+09        2.0  \n2019-02-11 10:02:00 2019-02-11 10:02:00      3.0  2.216922e+08        2.0  \n...                                 ...      ...           ...        ...  \n2019-02-11 01:51:00 2019-02-11 01:51:00      0.0  5.213839e+08        1.0  \n2019-02-11 01:48:00 2019-02-11 01:48:00      2.0  1.023754e+09        2.0  \n2019-02-11 01:45:00 2019-02-11 01:45:00      0.0  8.726157e+08        2.0  \n2019-02-11 01:45:00 2019-02-11 01:45:00      1.0  1.899628e+09        2.0  \n2019-02-11 01:43:00 2019-02-11 01:43:00      0.0  1.003725e+08        2.0  \n\n[3369 rows x 9 columns]",
      "text/html": "<div>\n<style scoped>\n    .dataframe tbody tr th:only-of-type {\n        vertical-align: middle;\n    }\n\n    .dataframe tbody tr th {\n        vertical-align: top;\n    }\n\n    .dataframe thead th {\n        text-align: right;\n    }\n</style>\n<table border=\"1\" class=\"dataframe\">\n  <thead>\n    <tr style=\"text-align: right;\">\n      <th></th>\n      <th>content</th>\n      <th>gender</th>\n      <th>nick</th>\n      <th>replyCount</th>\n      <th>score</th>\n      <th>time</th>\n      <th>upCount</th>\n      <th>userId</th>\n      <th>userLevel</th>\n    </tr>\n    <tr>\n      <th>time</th>\n      <th></th>\n      <th></th>\n      <th></th>\n      <th></th>\n      <th></th>\n      <th></th>\n      <th></th>\n      <th></th>\n      <th></th>\n    </tr>\n  </thead>\n  <tbody>\n    <tr>\n      <th>2019-02-11 10:08:00</th>\n      <td>本来是要买初一的飞驰人生，喜剧之王和外星人的。剧组的同事给我买错了买了这个没买飞驰人生。大年...</td>\n      <td>1.0</td>\n      <td>Zjnnn</td>\n      <td>0.0</td>\n      <td>3.0</td>\n      <td>2019-02-11 10:08:00</td>\n      <td>1.0</td>\n      <td>1.032167e+09</td>\n      <td>2.0</td>\n    </tr>\n    <tr>\n      <th>2019-02-11 10:06:00</th>\n      <td>差了......</td>\n      <td>1.0</td>\n      <td>ReturnO</td>\n      <td>0.0</td>\n      <td>1.0</td>\n      <td>2019-02-11 10:06:00</td>\n      <td>0.0</td>\n      <td>1.034489e+09</td>\n      <td>3.0</td>\n    </tr>\n    <tr>\n      <th>2019-02-11 10:03:00</th>\n      <td>我不可以。。</td>\n      <td>0.0</td>\n      <td>贺岁</td>\n      <td>1.0</td>\n      <td>1.0</td>\n      <td>2019-02-11 10:03:00</td>\n      <td>0.0</td>\n      <td>1.699866e+09</td>\n      <td>2.0</td>\n    </tr>\n    <tr>\n      <th>2019-02-11 10:02:00</th>\n      <td>简直就是垃圾电影</td>\n      <td>1.0</td>\n      <td>cy。</td>\n      <td>4.0</td>\n      <td>1.0</td>\n      <td>2019-02-11 10:02:00</td>\n      <td>2.0</td>\n      <td>1.773611e+09</td>\n      <td>2.0</td>\n    </tr>\n    <tr>\n      <th>2019-02-11 10:02:00</th>\n      <td>太烂，高分哪里来的</td>\n      <td>2.0</td>\n      <td>蓝玫瑰1688888</td>\n      <td>2.0</td>\n      <td>2.0</td>\n      <td>2019-02-11 10:02:00</td>\n      <td>3.0</td>\n      <td>2.216922e+08</td>\n      <td>2.0</td>\n    </tr>\n    <tr>\n      <th>...</th>\n      <td>...</td>\n      <td>...</td>\n      <td>...</td>\n      <td>...</td>\n      <td>...</td>\n      <td>...</td>\n      <td>...</td>\n      <td>...</td>\n      <td>...</td>\n    </tr>\n    <tr>\n      <th>2019-02-11 01:51:00</th>\n      <td>看不懂，真的看不懂，很多剧情穿越的太快了</td>\n      <td>0.0</td>\n      <td>AoJ835042755</td>\n      <td>0.0</td>\n      <td>1.0</td>\n      <td>2019-02-11 01:51:00</td>\n      <td>0.0</td>\n      <td>5.213839e+08</td>\n      <td>1.0</td>\n    </tr>\n    <tr>\n      <th>2019-02-11 01:48:00</th>\n      <td>电影我还没看，但我就想问问，万达电影票100多一张？VIP厅就这么贵么？还是天价电影票？这些...</td>\n      <td>1.0</td>\n      <td>曄</td>\n      <td>0.0</td>\n      <td>2.0</td>\n      <td>2019-02-11 01:48:00</td>\n      <td>2.0</td>\n      <td>1.023754e+09</td>\n      <td>2.0</td>\n    </tr>\n    <tr>\n      <th>2019-02-11 01:45:00</th>\n      <td>孩子来看流浪地球电影是3d的，和你们要眼镜检票员说不是3d，没给~结果孩子就凑合模模糊糊看完...</td>\n      <td>0.0</td>\n      <td>yEf246298079</td>\n      <td>0.0</td>\n      <td>1.0</td>\n      <td>2019-02-11 01:45:00</td>\n      <td>0.0</td>\n      <td>8.726157e+08</td>\n      <td>2.0</td>\n    </tr>\n    <tr>\n      <th>2019-02-11 01:45:00</th>\n      <td>没看懂啥意思</td>\n      <td>1.0</td>\n      <td>😊楽</td>\n      <td>0.0</td>\n      <td>1.0</td>\n      <td>2019-02-11 01:45:00</td>\n      <td>1.0</td>\n      <td>1.899628e+09</td>\n      <td>2.0</td>\n    </tr>\n    <tr>\n      <th>2019-02-11 01:43:00</th>\n      <td>中国电影正在进步，但电影拍的不吸引人，看到一半能猜到结局，觉得很没意思</td>\n      <td>0.0</td>\n      <td>Jamiyy</td>\n      <td>0.0</td>\n      <td>3.0</td>\n      <td>2019-02-11 01:43:00</td>\n      <td>0.0</td>\n      <td>1.003725e+08</td>\n      <td>2.0</td>\n    </tr>\n  </tbody>\n</table>\n<p>3369 rows × 9 columns</p>\n</div>"
     },
     "execution_count": 42,
     "metadata": {},
     "output_type": "execute_result"
    }
   ],
   "source": [
    "# 猫眼低分的部分评论\n",
    "data2[data2['score']<4]"
   ],
   "metadata": {
    "collapsed": false,
    "pycharm": {
     "name": "#%%\n"
    }
   }
  },
  {
   "cell_type": "code",
   "execution_count": 43,
   "outputs": [],
   "source": [
    "# # 猫眼高分评论\n",
    "# 数量过多，需要解除注释即可查看\n",
    "# for i in data2[data2['score']>7]['content']:\n",
    "#     print(i+'\\n')"
   ],
   "metadata": {
    "collapsed": false,
    "pycharm": {
     "name": "#%%\n"
    }
   }
  },
  {
   "cell_type": "code",
   "execution_count": 44,
   "outputs": [],
   "source": [
    "# # 猫眼低分评论\n",
    "# for i in data2[data2['score']<4]['content']:\n",
    "#     print(i+'\\n')"
   ],
   "metadata": {
    "collapsed": false,
    "pycharm": {
     "name": "#%%\n"
    }
   }
  },
  {
   "cell_type": "markdown",
   "source": [
    "#### 5. 评分的人群有哪些特征？（性别、等级）"
   ],
   "metadata": {
    "collapsed": false,
    "pycharm": {
     "name": "#%% md\n"
    }
   }
  },
  {
   "cell_type": "markdown",
   "source": [
    "##### 1). 评分和性别及等级的关系(都只有在猫眼中才有)"
   ],
   "metadata": {
    "collapsed": false,
    "pycharm": {
     "name": "#%% md\n"
    }
   }
  },
  {
   "cell_type": "code",
   "execution_count": 45,
   "outputs": [],
   "source": [
    "# 评分和性别的关系\n",
    "# 0代表未知，1代表男，2代表女\n",
    "\n",
    "# 获得总体各个性别的个数\n",
    "gender_total_maoyan = data2['gender'].value_counts().values\n",
    "# print(gender_total_maoyan.values)\n",
    "\n",
    "# 获得低分各个性别的个数\n",
    "gender_low_maoyan = data2.loc[data2['score']<4, 'gender'].value_counts().values\n",
    "\n",
    "# 获得低分各个性别的个数\n",
    "gender_high_maoyan = data2.loc[data2['score']>7, 'gender'].value_counts().values\n",
    "\n",
    "# print(data2['gender'].value_counts())\n",
    "\n",
    "# 将对应性别个数转换为int类型\n",
    "total_sex = []\n",
    "for i in gender_total_maoyan:\n",
    "    total_sex.append(int(i))\n",
    "\n",
    "# 将低分对应性别个数转换为int类型\n",
    "low_sex = []\n",
    "for j in gender_low_maoyan:\n",
    "    low_sex.append(int(j))\n",
    "# 数据库中猫眼低分评论只有3条，2条没有说明性别，1条为男性,因此添加女性数为0\n",
    "# low_sex.append(0)\n",
    "\n",
    "# 将高分对应性别个数转换为int类型\n",
    "high_sex = []\n",
    "for k in gender_high_maoyan:\n",
    "    high_sex.append(int(k))\n",
    "\n",
    "sum1 = total_sex[1] + total_sex[2]\n",
    "sum2 = high_sex[1] + high_sex[2]\n",
    "sum3 = low_sex[1] + low_sex[2]\n",
    "\n",
    "# 将未知人数去掉并且求得每一种男女所占比例\n",
    "total_sex_per = [round(total_sex[1]/sum1 * 100, 2), round(total_sex[2]/sum1 * 100, 2)]\n",
    "high_sex_per = [round(high_sex[1]/sum2 * 100, 2), round(high_sex[2]/sum2 * 100, 2)]\n",
    "low_sex_per = [round(low_sex[1]/sum3 * 100, 2), round(low_sex[2]/sum3 * 100, 2)]\n",
    "# low_per = [low_sex[1]/sum3, low_sex[2]/sum3]\n",
    "# print(total_sex,high_per,low_sex)\n"
   ],
   "metadata": {
    "collapsed": false,
    "pycharm": {
     "name": "#%%\n"
    }
   }
  },
  {
   "cell_type": "code",
   "execution_count": 46,
   "outputs": [],
   "source": [
    "# 评分和等级的关系\n",
    "\n",
    "# 获得总体各个等级的个数\n",
    "level_total_maoyan = data2['userLevel'].value_counts().sort_index().values\n",
    "# print(gender_total_maoyan.values)\n",
    "\n",
    "# 获得低分各个等级的个数\n",
    "level_low_maoyan = data2.loc[data2['score']<4, 'userLevel'].value_counts().sort_index().values\n",
    "\n",
    "# 获得高分各个等级的个数\n",
    "level_high_maoyan = data2.loc[data2['score']>7, 'userLevel'].value_counts().sort_index().values\n",
    "\n",
    "# 用于查看用户等级和人数\n",
    "# print(data2['userLevel'].value_counts().sort_index())\n",
    "# print(data2.loc[data2['score']<4, 'userLevel'].value_counts().sort_index())\n",
    "# print(data2.loc[data2['score']>7, 'userLevel'].value_counts().sort_index())\n",
    "# print(level_high_maoyan,level_low_maoyan,level_total_maoyan)\n",
    "\n",
    "# 将对应等级个数转换为int类型\n",
    "total_level = []\n",
    "for i in level_total_maoyan:\n",
    "    total_level.append(int(i))\n",
    "\n",
    "# 将低分对应等级个数转换为int类型\n",
    "low_level = []\n",
    "for j in level_low_maoyan:\n",
    "    low_level.append(int(j))\n",
    "# 数据库中猫眼低分评论没有1，3，4级的用户,因此令对应等级的人数为0\n",
    "\n",
    "\n",
    "# 将高分对应等级个数转换为int类型\n",
    "high_level = []\n",
    "for k in level_high_maoyan:\n",
    "    high_level.append(int(k))\n",
    "\n",
    "sum1 = 0\n",
    "sum2 = 0\n",
    "sum3 = 0\n",
    "\n",
    "# 计算总体，高分，低分不同等级的总人数\n",
    "for i in range(len(total_level)):\n",
    "    sum1 += total_level[i]\n",
    "    sum2 += high_level[i]\n",
    "    sum3 += low_level[i]\n",
    "\n",
    "total_level_per = []\n",
    "high_level_per = []\n",
    "low_level_per = []\n",
    "\n",
    "# 求各个等级的所占比例\n",
    "for i in range(len(total_level)):\n",
    "\n",
    "    total_level_per.append(round(total_level[i]/sum1 * 100, 2))\n",
    "    high_level_per.append(round(high_level[i]/sum2 * 100, 2))\n",
    "    low_level_per.append(round(low_level[i]/sum3 * 100, 2))\n",
    "\n",
    "# print(total_level_per, high_level_per, low_level_per)\n"
   ],
   "metadata": {
    "collapsed": false,
    "pycharm": {
     "name": "#%%\n"
    }
   }
  },
  {
   "cell_type": "code",
   "execution_count": 47,
   "outputs": [],
   "source": [
    "# 绘制《流浪地球》观众性别，等级条形图和饼图\n",
    "\n",
    "# 绘制性别分布条形图\n",
    "def sex_distribution_bar() -> Bar:\n",
    "    bar = (\n",
    "        Bar()\n",
    "        .add_xaxis(['未知', '男', '女'])\n",
    "        .add_yaxis(\"总体性别分布\", total_sex)\n",
    "        .add_yaxis(\"高分性别分布\", high_sex)\n",
    "        .add_yaxis(\"低分性别分布\", low_sex)\n",
    "        .set_global_opts(title_opts=opts.TitleOpts(title=\"观众性别分布条形图\"))\n",
    "    )\n",
    "    return bar\n",
    "\n",
    "# 绘制性别分布饼图\n",
    "def sex_distribution_pie() -> Pie:\n",
    "    fn = \"\"\"\n",
    "        function(params) {\n",
    "            if(params.name == '女')\n",
    "                return '\\\\n\\\\n\\\\n' + params.name + ' : ' + params.value + '%';\n",
    "            return params.name + ' : ' + params.value + '%';\n",
    "        }\n",
    "        \"\"\"\n",
    "\n",
    "    def new_label_opts():\n",
    "        return opts.LabelOpts(formatter=JsCode(fn), position=\"center\")\n",
    "\n",
    "    pie = (\n",
    "        Pie()\n",
    "        .add(\n",
    "            \"\",\n",
    "            [list(z) for z in zip(['男', '女'], total_sex_per)],\n",
    "            center=[\"15%\", \"30%\"],\n",
    "            radius=[60, 80],\n",
    "            label_opts=new_label_opts(),\n",
    "        )\n",
    "        .add(\n",
    "            \"\",\n",
    "            [list(z) for z in zip(['男', '女'], high_sex_per)],\n",
    "            center=[\"40%\", \"30%\"],\n",
    "            radius=[60, 80],\n",
    "            label_opts=new_label_opts(),\n",
    "        )\n",
    "        .add(\n",
    "            \"\",\n",
    "            [list(z) for z in zip(['男', '女'], low_sex_per)],        #没有女性特殊处理\n",
    "            center=[\"65%\", \"30%\"],\n",
    "            radius=[60, 80],\n",
    "            label_opts=new_label_opts(),\n",
    "        )\n",
    "        .set_global_opts(\n",
    "            title_opts=opts.TitleOpts(title=\"观众性别分布饼图\"),\n",
    "            legend_opts=opts.LegendOpts(\n",
    "                type_=\"scroll\", pos_top=\"20%\", pos_left=\"80%\", orient=\"vertical\"\n",
    "            ),\n",
    "        )\n",
    "    )\n",
    "\n",
    "    return pie\n",
    "\n",
    "# 查看数据格式\n",
    "# print([list(z) for z in zip(['男', '女'], low_sex_per)])\n",
    "# print([list(z) for z in zip(['0', '1', '2', '3', '4', '5', '6'], total_level_per)])\n",
    "\n",
    "# 绘制等级分布条形图\n",
    "def level_distribution_bar() -> Bar:\n",
    "    bar = (\n",
    "        Bar()\n",
    "        .add_xaxis([0, 1, 2, 3, 4, 5, 6])\n",
    "        .add_yaxis(\"总体等级分布\", total_level)\n",
    "        .add_yaxis(\"高分等级分布\", high_level)\n",
    "        .add_yaxis(\"低分等级分布\", low_level)\n",
    "        .set_global_opts(title_opts=opts.TitleOpts(title=\"观众等级分布条形图\"))\n",
    "    )\n",
    "    return bar\n",
    "\n",
    "# 绘制等级分布饼图\n",
    "def level_distribution_pie() -> Pie:\n",
    "    fn = \"\"\"\n",
    "        function(params) {\n",
    "            if(params.name == '5')\n",
    "                return '\\\\n\\\\n\\\\n\\\\n\\\\n\\\\n\\\\n\\\\n\\\\n' + params.name + ' : ' + params.value + '%';\n",
    "            if(params.name == '4')\n",
    "                return '\\\\n\\\\n\\\\n\\\\n\\\\n\\\\n\\\\n' + params.name + ' : ' + params.value + '%';\n",
    "            if(params.name == '3')\n",
    "                return '\\\\n\\\\n\\\\n\\\\n\\\\n' + params.name + ' : ' + params.value + '%';\n",
    "            if(params.name == '2')\n",
    "                return '\\\\n\\\\n\\\\n' + params.name + ' : ' + params.value + '%';\n",
    "            if(params.name == '1')\n",
    "                return '\\\\n' + params.name + ' : ' + params.value + '%';\n",
    "            if(params.name == '0' || params.name == '6')\n",
    "                return ' ';\n",
    "\n",
    "        }\n",
    "        \"\"\"\n",
    "\n",
    "    def new_label_opts():\n",
    "        return opts.LabelOpts(formatter=JsCode(fn), position=\"center\")\n",
    "\n",
    "    # 绘制饼图的时候1，2，3，4类型要是字符串类型\n",
    "    pie = (\n",
    "        Pie()\n",
    "        .add(\n",
    "            \"\",\n",
    "            [list(z) for z in zip(['0', '1', '2', '3', '4', '5', '6'], total_level_per)],\n",
    "            center=[\"15%\", \"30%\"],\n",
    "            radius=[80, 100],\n",
    "            label_opts=new_label_opts(),\n",
    "        )\n",
    "        .add(\n",
    "            \"\",\n",
    "            [list(z) for z in zip(['0', '1', '2', '3', '4', '5', '6'], high_level_per)],\n",
    "            center=[\"40%\", \"30%\"],\n",
    "            radius=[80, 100],\n",
    "            label_opts=new_label_opts(),\n",
    "        )\n",
    "        .add(\n",
    "            \"\",\n",
    "            [list(z) for z in zip(['0', '1', '2', '3', '4', '5', '6'], low_level_per)],        #没有女性特殊处理\n",
    "            center=[\"65%\", \"30%\"],\n",
    "            radius=[80, 100],\n",
    "            label_opts=new_label_opts(),\n",
    "        )\n",
    "        .set_global_opts(\n",
    "            title_opts=opts.TitleOpts(title=\"观众等级分布饼图\"),\n",
    "            legend_opts=opts.LegendOpts(\n",
    "                type_=\"scroll\", pos_top=\"20%\", pos_left=\"80%\", orient=\"vertical\"\n",
    "            ),\n",
    "        )\n",
    "    )\n",
    "\n",
    "    return pie\n",
    "\n",
    "\n",
    "# 将条形图和饼图放在一起展示\n",
    "def page_layout1() -> Page:\n",
    "    page = Page(layout=Page.SimplePageLayout)\n",
    "    page.add(\n",
    "        sex_distribution_bar(),\n",
    "        sex_distribution_pie()\n",
    "\n",
    "    )\n",
    "    page.render(\"./Charts_html/Sex_distribution.html\")\n",
    "    return  page\n",
    "\n",
    "\n",
    "def page_layout2() -> Page:\n",
    "    page = Page(layout=Page.SimplePageLayout)\n",
    "    page.add(\n",
    "        level_distribution_bar(),\n",
    "        level_distribution_pie()\n",
    "\n",
    "    )\n",
    "    page.render(\"./Charts_html/Level_distribution.html\")\n",
    "    return  page\n",
    "\n",
    "\n",
    "\n",
    "if __name__ == \"__main__\":\n",
    "    page_layout1()\n",
    "    page_layout2()\n",
    "\n",
    "# tab = Tab()\n",
    "# tab.add(page_layout1(), \"《流浪地球》观众性别分布\")\n",
    "# tab.add(page_layout2(), \"《流浪地球》观众等级分布\")\n",
    "# tab.add(sex_distribution_bar(), \"《流浪地球》观众性别分布条形图\")\n",
    "# tab.add(sex_distribution_pie(), \"《流浪地球》观众性别分布饼图\")\n",
    "# tab.add(level_distribution_bar(), \"《流浪地球》观众等级分布条形图\")\n",
    "# tab.add(level_distribution_pie(), \"《流浪地球》观众等级分布饼图\")\n",
    "\n",
    "# tab.render(\"./charts_html/Sex_Level_distribution.html\")"
   ],
   "metadata": {
    "collapsed": false,
    "pycharm": {
     "name": "#%%\n"
    }
   }
  },
  {
   "cell_type": "markdown",
   "source": [
    "##### 6. 高低分跟哪位演员有关？"
   ],
   "metadata": {
    "collapsed": false
   }
  },
  {
   "cell_type": "code",
   "execution_count": 48,
   "outputs": [],
   "source": [
    "# 将演员真名，真名绰号，角色绰号和电影角色名做一个映射\n",
    "mapping = {'liucixin':'刘慈欣|大刘', 'guofan':'郭帆', 'quchuxiao':'屈楚萧|刘启|户口|男主', 'wujing':'吴京|刘培强|战狼',\n",
    "           'liguangjie':'李光洁|王磊', 'wumengda':'吴孟达|达叔|韩子昂', 'zhaojinmai':'赵今麦|韩朵朵|女主'}\n",
    "\n",
    "# 将演员名字的拼音作为数据的新字段，若该条记录出现了该演员，则将其名字的拼音对应为true\n",
    "for key, value in mapping.items():\n",
    "    data2[key] = data2['content'].str.contains(value)"
   ],
   "metadata": {
    "collapsed": false,
    "pycharm": {
     "name": "#%%\n"
    }
   }
  },
  {
   "cell_type": "code",
   "execution_count": 49,
   "outputs": [],
   "source": [
    "# 节约栈空间\n",
    "# data2.info"
   ],
   "metadata": {
    "collapsed": false,
    "pycharm": {
     "name": "#%%\n"
    }
   }
  },
  {
   "cell_type": "markdown",
   "source": [
    "### 总体提及次数"
   ],
   "metadata": {
    "collapsed": false,
    "pycharm": {
     "name": "#%% md\n"
    }
   }
  },
  {
   "cell_type": "code",
   "execution_count": 50,
   "outputs": [
    {
     "data": {
      "text/plain": "guofan         272\nliguangjie     171\nliucixin      3122\nquchuxiao     1274\nwujing        5738\nwumengda       477\nzhaojinmai     761\ndtype: int64"
     },
     "execution_count": 50,
     "metadata": {},
     "output_type": "execute_result"
    }
   ],
   "source": [
    "# 将对应的人名拼音和在数据中的出现次数形成字典\n",
    "\n",
    "# 因为数据存在Nah值，无法处理，因此pd.Series({key: data.loc[data[key], 'score']无法使用，但是使用分数≥0也可以做到相同效果\n",
    "staff_count = pd.Series({key: data2.loc[data2[key]&(data2['score']>=0), 'score'].count() for key in mapping.keys()}).sort_index()\n",
    "staff_count"
   ],
   "metadata": {
    "collapsed": false,
    "pycharm": {
     "name": "#%%\n"
    }
   }
  },
  {
   "cell_type": "code",
   "execution_count": 51,
   "outputs": [
    {
     "data": {
      "text/plain": "guofan          3\nliguangjie      4\nliucixin       28\nquchuxiao      65\nwujing        309\nwumengda       26\nzhaojinmai     40\ndtype: int64"
     },
     "execution_count": 51,
     "metadata": {},
     "output_type": "execute_result"
    }
   ],
   "source": [
    "# 求低分评论中出现的演员名及其个数\n",
    "staff_count_low = pd.Series({key: data2.loc[data2[key]&(data2['score']<4), 'score'].count() for key in mapping.keys()}).sort_index()\n",
    "staff_count_low"
   ],
   "metadata": {
    "collapsed": false,
    "pycharm": {
     "name": "#%%\n"
    }
   }
  },
  {
   "cell_type": "code",
   "execution_count": 52,
   "outputs": [
    {
     "data": {
      "text/plain": "guofan         267\nliguangjie     153\nliucixin      2975\nquchuxiao     1055\nwujing        4984\nwumengda       404\nzhaojinmai     602\ndtype: int64"
     },
     "execution_count": 52,
     "metadata": {},
     "output_type": "execute_result"
    }
   ],
   "source": [
    "# 求高分评论中出现的演员名及其个数\n",
    "staff_count_high = pd.Series({key: data2.loc[data2[key]&(data2['score']>7), 'score'].count() for key in mapping.keys()}).sort_index()\n",
    "staff_count_high"
   ],
   "metadata": {
    "collapsed": false,
    "pycharm": {
     "name": "#%%\n"
    }
   }
  },
  {
   "cell_type": "code",
   "execution_count": 53,
   "outputs": [
    {
     "data": {
      "text/plain": "guofan        1.10\nliguangjie    2.34\nliucixin      0.90\nquchuxiao     5.10\nwujing        5.39\nwumengda      5.45\nzhaojinmai    5.26\ndtype: float64"
     },
     "execution_count": 53,
     "metadata": {},
     "output_type": "execute_result"
    }
   ],
   "source": [
    "# 演员在低分评论的提及次数 占 所有评论中该演员的提及次数\n",
    "staff_count_pct1 = np.round(staff_count_low/staff_count*100, 2).sort_index()\n",
    "staff_count_pct1"
   ],
   "metadata": {
    "collapsed": false,
    "pycharm": {
     "name": "#%%\n"
    }
   }
  },
  {
   "cell_type": "code",
   "execution_count": 54,
   "outputs": [
    {
     "data": {
      "text/plain": "guofan        98.16\nliguangjie    89.47\nliucixin      95.29\nquchuxiao     82.81\nwujing        86.86\nwumengda      84.70\nzhaojinmai    79.11\ndtype: float64"
     },
     "execution_count": 54,
     "metadata": {},
     "output_type": "execute_result"
    }
   ],
   "source": [
    "# 演员在高分评论的提及次数 占 所有评论中该演员的提及次数\n",
    "staff_count_pct2 = np.round(staff_count_high/staff_count*100, 2).sort_index()\n",
    "staff_count_pct2"
   ],
   "metadata": {
    "collapsed": false,
    "pycharm": {
     "name": "#%%\n"
    }
   }
  },
  {
   "cell_type": "code",
   "source": [
    "# 绘制演员在低分/高分评论的提及次数 占 所有评论中该演员的提及次数的柱状图\n",
    "\n",
    "from pyecharts.globals import ThemeType\n",
    "# 所有演员以下列顺序出现\n",
    "# ['guofan', 'liguangjie', 'liucixin', 'quchuxiao', 'wujing', 'wumengda','zhaojinmai']\n",
    "\n",
    "# 存放演员的总出现次数\n",
    "count1 = []\n",
    "# 存放好评中演员的总出现次数\n",
    "count2 = []\n",
    "# 存放差评中演员的总出现次数\n",
    "count3 = []\n",
    "\n",
    "for i in range(len(staff_count)):\n",
    "    count1.append(int(staff_count[i]))\n",
    "    count2.append(int(staff_count_high[i]))\n",
    "    count3.append(int(staff_count_low[i]))\n",
    "\n",
    "# print(count1,count2,count3)\n",
    "list1 = []\n",
    "list2 = []\n",
    "list3 = []\n",
    "\n",
    "# 将数据转换为指定的数据格式\n",
    "'''\n",
    "    [\n",
    "    {\"value\": 12, \"percent\": 12 / (12 + 3)},\n",
    "    {\"value\": 23, \"percent\": 23 / (23 + 21)},\n",
    "    ...\n",
    "    ]\n",
    "'''\n",
    "\n",
    "for i in range(len(staff_count)):\n",
    "    temp1 = {}\n",
    "    temp2 = {}\n",
    "    temp3 = {}\n",
    "\n",
    "    temp1[\"value\"] = count2[i]\n",
    "    temp1[\"percent\"] = count2[i] / count1[i]\n",
    "    list1.append(temp1)\n",
    "    temp2[\"value\"] = count3[i]\n",
    "    temp2[\"percent\"] = count3[i] / count1[i]\n",
    "    list2.append(temp2)\n",
    "    temp3[\"value\"] = (count1[i] - count2[i] - count3[i])\n",
    "    temp3[\"percent\"] = (count1[i] - count2[i] - count3[i]) / count1[i]\n",
    "    list3.append(temp3)\n"
   ],
   "metadata": {
    "collapsed": false,
    "pycharm": {
     "name": "#%%\n"
    }
   },
   "execution_count": 55,
   "outputs": []
  },
  {
   "cell_type": "markdown",
   "source": [
    "#### 低分评论所涉及到的主要演员名字"
   ],
   "metadata": {
    "collapsed": false
   }
  },
  {
   "cell_type": "markdown",
   "source": [
    "##### 1.吴孟达"
   ],
   "metadata": {
    "collapsed": false
   }
  },
  {
   "cell_type": "code",
   "execution_count": 56,
   "outputs": [
    {
     "data": {
      "text/plain": "                                                               content  \\\ntime                                                                     \n2019-02-05 14:11:00  可惜了60+大洋，达叔的演技是唯一的亮点，小鲜肉们稚嫩且乏味的演技（约等于0.1）好无聊，和...   \n2019-02-11 02:14:00  真的，这一分我都是给的吴孟达和雷佳音的，剩下的真的不能多给了，电影，最基本的是故事情节，一味...   \n2019-02-08 04:46:00  主人公太扯了，三观不正，净瞎拍，拿着吴京吴孟达做幌子，真浪费我一百大洋。这片子也就骗骗小孩能...   \n2019-02-09 04:33:00  也别给半星了，剧情太烂，情节不好，故事不合理，尤其最后爆炸，还能爆炸5000公里，飞船都让你...   \n2019-02-07 10:19:00  台词设定太尴尬，强行煽情，那个外国人设定最恶心，强行设定的人物，吴京，吴孟达只是客串，还有那...   \n\n                     gender       nick  replyCount  score                time  \\\ntime                                                                            \n2019-02-05 14:11:00     1.0  熊晓军［德恒律师］        13.0    1.0 2019-02-05 14:11:00   \n2019-02-11 02:14:00     2.0        林艾G        52.0    1.0 2019-02-11 02:14:00   \n2019-02-08 04:46:00     1.0       博爱永恒        11.0    3.0 2019-02-08 04:46:00   \n2019-02-09 04:33:00     1.0     闹闹先生丶丶        18.0    2.0 2019-02-09 04:33:00   \n2019-02-07 10:19:00     0.0       A_啊杰         7.0    1.0 2019-02-07 10:19:00   \n\n                     upCount        userId  userLevel liucixin guofan  \\\ntime                                                                    \n2019-02-05 14:11:00     42.0  1.154499e+09        5.0    False  False   \n2019-02-11 02:14:00     40.0  6.345564e+07        3.0    False  False   \n2019-02-08 04:46:00     39.0  5.308690e+07        2.0    False  False   \n2019-02-09 04:33:00     31.0  1.737550e+08        3.0    False  False   \n2019-02-07 10:19:00     28.0  1.033874e+09        4.0    False  False   \n\n                    quchuxiao wujing liguangjie wumengda zhaojinmai  \ntime                                                                 \n2019-02-05 14:11:00     False  False      False     True      False  \n2019-02-11 02:14:00     False  False      False     True      False  \n2019-02-08 04:46:00     False   True      False     True      False  \n2019-02-09 04:33:00     False   True      False     True      False  \n2019-02-07 10:19:00     False   True      False     True      False  ",
      "text/html": "<div>\n<style scoped>\n    .dataframe tbody tr th:only-of-type {\n        vertical-align: middle;\n    }\n\n    .dataframe tbody tr th {\n        vertical-align: top;\n    }\n\n    .dataframe thead th {\n        text-align: right;\n    }\n</style>\n<table border=\"1\" class=\"dataframe\">\n  <thead>\n    <tr style=\"text-align: right;\">\n      <th></th>\n      <th>content</th>\n      <th>gender</th>\n      <th>nick</th>\n      <th>replyCount</th>\n      <th>score</th>\n      <th>time</th>\n      <th>upCount</th>\n      <th>userId</th>\n      <th>userLevel</th>\n      <th>liucixin</th>\n      <th>guofan</th>\n      <th>quchuxiao</th>\n      <th>wujing</th>\n      <th>liguangjie</th>\n      <th>wumengda</th>\n      <th>zhaojinmai</th>\n    </tr>\n    <tr>\n      <th>time</th>\n      <th></th>\n      <th></th>\n      <th></th>\n      <th></th>\n      <th></th>\n      <th></th>\n      <th></th>\n      <th></th>\n      <th></th>\n      <th></th>\n      <th></th>\n      <th></th>\n      <th></th>\n      <th></th>\n      <th></th>\n      <th></th>\n    </tr>\n  </thead>\n  <tbody>\n    <tr>\n      <th>2019-02-05 14:11:00</th>\n      <td>可惜了60+大洋，达叔的演技是唯一的亮点，小鲜肉们稚嫩且乏味的演技（约等于0.1）好无聊，和...</td>\n      <td>1.0</td>\n      <td>熊晓军［德恒律师］</td>\n      <td>13.0</td>\n      <td>1.0</td>\n      <td>2019-02-05 14:11:00</td>\n      <td>42.0</td>\n      <td>1.154499e+09</td>\n      <td>5.0</td>\n      <td>False</td>\n      <td>False</td>\n      <td>False</td>\n      <td>False</td>\n      <td>False</td>\n      <td>True</td>\n      <td>False</td>\n    </tr>\n    <tr>\n      <th>2019-02-11 02:14:00</th>\n      <td>真的，这一分我都是给的吴孟达和雷佳音的，剩下的真的不能多给了，电影，最基本的是故事情节，一味...</td>\n      <td>2.0</td>\n      <td>林艾G</td>\n      <td>52.0</td>\n      <td>1.0</td>\n      <td>2019-02-11 02:14:00</td>\n      <td>40.0</td>\n      <td>6.345564e+07</td>\n      <td>3.0</td>\n      <td>False</td>\n      <td>False</td>\n      <td>False</td>\n      <td>False</td>\n      <td>False</td>\n      <td>True</td>\n      <td>False</td>\n    </tr>\n    <tr>\n      <th>2019-02-08 04:46:00</th>\n      <td>主人公太扯了，三观不正，净瞎拍，拿着吴京吴孟达做幌子，真浪费我一百大洋。这片子也就骗骗小孩能...</td>\n      <td>1.0</td>\n      <td>博爱永恒</td>\n      <td>11.0</td>\n      <td>3.0</td>\n      <td>2019-02-08 04:46:00</td>\n      <td>39.0</td>\n      <td>5.308690e+07</td>\n      <td>2.0</td>\n      <td>False</td>\n      <td>False</td>\n      <td>False</td>\n      <td>True</td>\n      <td>False</td>\n      <td>True</td>\n      <td>False</td>\n    </tr>\n    <tr>\n      <th>2019-02-09 04:33:00</th>\n      <td>也别给半星了，剧情太烂，情节不好，故事不合理，尤其最后爆炸，还能爆炸5000公里，飞船都让你...</td>\n      <td>1.0</td>\n      <td>闹闹先生丶丶</td>\n      <td>18.0</td>\n      <td>2.0</td>\n      <td>2019-02-09 04:33:00</td>\n      <td>31.0</td>\n      <td>1.737550e+08</td>\n      <td>3.0</td>\n      <td>False</td>\n      <td>False</td>\n      <td>False</td>\n      <td>True</td>\n      <td>False</td>\n      <td>True</td>\n      <td>False</td>\n    </tr>\n    <tr>\n      <th>2019-02-07 10:19:00</th>\n      <td>台词设定太尴尬，强行煽情，那个外国人设定最恶心，强行设定的人物，吴京，吴孟达只是客串，还有那...</td>\n      <td>0.0</td>\n      <td>A_啊杰</td>\n      <td>7.0</td>\n      <td>1.0</td>\n      <td>2019-02-07 10:19:00</td>\n      <td>28.0</td>\n      <td>1.033874e+09</td>\n      <td>4.0</td>\n      <td>False</td>\n      <td>False</td>\n      <td>False</td>\n      <td>True</td>\n      <td>False</td>\n      <td>True</td>\n      <td>False</td>\n    </tr>\n  </tbody>\n</table>\n</div>"
     },
     "execution_count": 56,
     "metadata": {},
     "output_type": "execute_result"
    }
   ],
   "source": [
    "data2[data2['wumengda']&(data2['score']<4)].nlargest(5, 'upCount')"
   ],
   "metadata": {
    "collapsed": false,
    "pycharm": {
     "name": "#%%\n"
    }
   }
  },
  {
   "cell_type": "code",
   "execution_count": 57,
   "outputs": [
    {
     "name": "stdout",
     "output_type": "stream",
     "text": [
      "可惜了60+大洋，达叔的演技是唯一的亮点，小鲜肉们稚嫩且乏味的演技（约等于0.1）好无聊，和看昨晚的春晚感觉差不多，好像喊得很大声，哭得很撕心，但就是没内容，演得太空洞。催泪不够真诚，搞笑不够认真，细节太过毛糙，整个就是一部被制作，为制作而制作的视听片，片尾曲让人无力吐槽。一个人的初一良辰就这么被拱了。\n",
      "\n",
      "真的，这一分我都是给的吴孟达和雷佳音的，剩下的真的不能多给了，电影，最基本的是故事情节，一味强调特技多么好多么好，去看科技展不就好了？真的是浪费了80块的电影票，毫无情节可言，一味地个人英雄主义，强行煽情，把观众得智商按在地上摩擦，这样的烂片是买了水军吧……垃圾！\n",
      "\n",
      "主人公太扯了，三观不正，净瞎拍，拿着吴京吴孟达做幌子，真浪费我一百大洋。这片子也就骗骗小孩能行，真的不敢恭维。\n",
      "\n",
      "也别给半星了，剧情太烂，情节不好，故事不合理，尤其最后爆炸，还能爆炸5000公里，飞船都让你开这么快了，还用的着点燃么？直接开进木星不就好了，飞船后面喷的不是火啊？送达叔一张票，卖战狼一份情，这电影真不行\n",
      "\n",
      "台词设定太尴尬，强行煽情，那个外国人设定最恶心，强行设定的人物，吴京，吴孟达只是客串，还有那人物设定，太牵强，不知道9.3分怎么来的\n",
      "\n"
     ]
    }
   ],
   "source": [
    "for i in data2[data2['wumengda']&(data2['score']<4)].nlargest(5, 'upCount')['content']:\n",
    "    print(i+'\\n')"
   ],
   "metadata": {
    "collapsed": false,
    "pycharm": {
     "name": "#%%\n"
    }
   }
  },
  {
   "cell_type": "markdown",
   "source": [
    "##### 2.吴京"
   ],
   "metadata": {
    "collapsed": false
   }
  },
  {
   "cell_type": "code",
   "execution_count": 58,
   "outputs": [
    {
     "data": {
      "text/plain": "                                                               content  \\\ntime                                                                     \n2019-02-07 23:00:00  太多人给这部片高分了，我必须给低分把这部电影的评分拉低，因为他不值得9点多分，顶多值6.5分...   \n2019-02-06 17:21:00  逻辑非常不严密，既然定位是科幻片，起码的逻辑得有吧？\\n1.一个0.7级宇宙文明等级的星球，...   \n2019-02-07 03:22:00  开头以为是国产科幻大片，气象不凡，道具方面下了不少功夫，某些场景直追好莱坞。整体上离好莱坞还...   \n2019-02-05 09:17:00  什么玩意儿，发动机和石头砸下来的声音从头震到尾，演技拙劣的儿女情长的片段令人作呕，吴京一副大...   \n2019-02-08 03:18:00                                打不了零分，真可惜，一分给吴京吧。烂！   \n\n                     gender           nick  replyCount  score  \\\ntime                                                            \n2019-02-07 23:00:00     1.0            杨某X        42.0    2.0   \n2019-02-06 17:21:00     1.0         团拼丶小王子       108.0    1.0   \n2019-02-07 03:22:00     1.0   meituanchzhh        33.0    1.0   \n2019-02-05 09:17:00     0.0  westbrookFMVP        36.0    1.0   \n2019-02-08 03:18:00     1.0         椰风挡不住.        26.0    1.0   \n\n                                   time  upCount        userId  userLevel  \\\ntime                                                                        \n2019-02-07 23:00:00 2019-02-07 23:00:00     95.0  8.550003e+07        1.0   \n2019-02-06 17:21:00 2019-02-06 17:21:00     58.0  8.675410e+06        3.0   \n2019-02-07 03:22:00 2019-02-07 03:22:00     49.0  3.405231e+07        3.0   \n2019-02-05 09:17:00 2019-02-05 09:17:00     48.0  7.795206e+08        2.0   \n2019-02-08 03:18:00 2019-02-08 03:18:00     48.0  1.109243e+09        3.0   \n\n                    liucixin guofan quchuxiao wujing liguangjie wumengda  \\\ntime                                                                       \n2019-02-07 23:00:00    False  False     False   True      False    False   \n2019-02-06 17:21:00    False  False     False   True      False    False   \n2019-02-07 03:22:00    False  False     False   True      False    False   \n2019-02-05 09:17:00    False  False     False   True      False    False   \n2019-02-08 03:18:00    False  False     False   True      False    False   \n\n                    zhaojinmai  \ntime                            \n2019-02-07 23:00:00      False  \n2019-02-06 17:21:00      False  \n2019-02-07 03:22:00      False  \n2019-02-05 09:17:00      False  \n2019-02-08 03:18:00      False  ",
      "text/html": "<div>\n<style scoped>\n    .dataframe tbody tr th:only-of-type {\n        vertical-align: middle;\n    }\n\n    .dataframe tbody tr th {\n        vertical-align: top;\n    }\n\n    .dataframe thead th {\n        text-align: right;\n    }\n</style>\n<table border=\"1\" class=\"dataframe\">\n  <thead>\n    <tr style=\"text-align: right;\">\n      <th></th>\n      <th>content</th>\n      <th>gender</th>\n      <th>nick</th>\n      <th>replyCount</th>\n      <th>score</th>\n      <th>time</th>\n      <th>upCount</th>\n      <th>userId</th>\n      <th>userLevel</th>\n      <th>liucixin</th>\n      <th>guofan</th>\n      <th>quchuxiao</th>\n      <th>wujing</th>\n      <th>liguangjie</th>\n      <th>wumengda</th>\n      <th>zhaojinmai</th>\n    </tr>\n    <tr>\n      <th>time</th>\n      <th></th>\n      <th></th>\n      <th></th>\n      <th></th>\n      <th></th>\n      <th></th>\n      <th></th>\n      <th></th>\n      <th></th>\n      <th></th>\n      <th></th>\n      <th></th>\n      <th></th>\n      <th></th>\n      <th></th>\n      <th></th>\n    </tr>\n  </thead>\n  <tbody>\n    <tr>\n      <th>2019-02-07 23:00:00</th>\n      <td>太多人给这部片高分了，我必须给低分把这部电影的评分拉低，因为他不值得9点多分，顶多值6.5分...</td>\n      <td>1.0</td>\n      <td>杨某X</td>\n      <td>42.0</td>\n      <td>2.0</td>\n      <td>2019-02-07 23:00:00</td>\n      <td>95.0</td>\n      <td>8.550003e+07</td>\n      <td>1.0</td>\n      <td>False</td>\n      <td>False</td>\n      <td>False</td>\n      <td>True</td>\n      <td>False</td>\n      <td>False</td>\n      <td>False</td>\n    </tr>\n    <tr>\n      <th>2019-02-06 17:21:00</th>\n      <td>逻辑非常不严密，既然定位是科幻片，起码的逻辑得有吧？\\n1.一个0.7级宇宙文明等级的星球，...</td>\n      <td>1.0</td>\n      <td>团拼丶小王子</td>\n      <td>108.0</td>\n      <td>1.0</td>\n      <td>2019-02-06 17:21:00</td>\n      <td>58.0</td>\n      <td>8.675410e+06</td>\n      <td>3.0</td>\n      <td>False</td>\n      <td>False</td>\n      <td>False</td>\n      <td>True</td>\n      <td>False</td>\n      <td>False</td>\n      <td>False</td>\n    </tr>\n    <tr>\n      <th>2019-02-07 03:22:00</th>\n      <td>开头以为是国产科幻大片，气象不凡，道具方面下了不少功夫，某些场景直追好莱坞。整体上离好莱坞还...</td>\n      <td>1.0</td>\n      <td>meituanchzhh</td>\n      <td>33.0</td>\n      <td>1.0</td>\n      <td>2019-02-07 03:22:00</td>\n      <td>49.0</td>\n      <td>3.405231e+07</td>\n      <td>3.0</td>\n      <td>False</td>\n      <td>False</td>\n      <td>False</td>\n      <td>True</td>\n      <td>False</td>\n      <td>False</td>\n      <td>False</td>\n    </tr>\n    <tr>\n      <th>2019-02-05 09:17:00</th>\n      <td>什么玩意儿，发动机和石头砸下来的声音从头震到尾，演技拙劣的儿女情长的片段令人作呕，吴京一副大...</td>\n      <td>0.0</td>\n      <td>westbrookFMVP</td>\n      <td>36.0</td>\n      <td>1.0</td>\n      <td>2019-02-05 09:17:00</td>\n      <td>48.0</td>\n      <td>7.795206e+08</td>\n      <td>2.0</td>\n      <td>False</td>\n      <td>False</td>\n      <td>False</td>\n      <td>True</td>\n      <td>False</td>\n      <td>False</td>\n      <td>False</td>\n    </tr>\n    <tr>\n      <th>2019-02-08 03:18:00</th>\n      <td>打不了零分，真可惜，一分给吴京吧。烂！</td>\n      <td>1.0</td>\n      <td>椰风挡不住.</td>\n      <td>26.0</td>\n      <td>1.0</td>\n      <td>2019-02-08 03:18:00</td>\n      <td>48.0</td>\n      <td>1.109243e+09</td>\n      <td>3.0</td>\n      <td>False</td>\n      <td>False</td>\n      <td>False</td>\n      <td>True</td>\n      <td>False</td>\n      <td>False</td>\n      <td>False</td>\n    </tr>\n  </tbody>\n</table>\n</div>"
     },
     "execution_count": 58,
     "metadata": {},
     "output_type": "execute_result"
    }
   ],
   "source": [
    "data2[data2['wujing']&(data2['score']<4)].nlargest(5, 'upCount')"
   ],
   "metadata": {
    "collapsed": false,
    "pycharm": {
     "name": "#%%\n"
    }
   }
  },
  {
   "cell_type": "code",
   "execution_count": 59,
   "outputs": [
    {
     "name": "stdout",
     "output_type": "stream",
     "text": [
      "太多人给这部片高分了，我必须给低分把这部电影的评分拉低，因为他不值得9点多分，顶多值6.5分样子，在国产片里面算不错的，剧情烂，东拉西扯的，地球你造发动机推动脱离太阳引力我也忍了，点燃木星就太扯了，点燃木星瞬间推动地球逃脱木星引力，那么大的冲击力地球生物不死绝鬼都不信！还有作为灾难科幻片，震撼人心的灾难场景基本没有，地球停海啸爆发，我一直在期待灾难爆发时刻人类逃亡的场景，但是从头到尾都没有！走到哪里都挂着国旗，又是打爱国情怀，很符合吴京蹭爱国热度的习惯，反正不会错，但是我就觉得很作！恶心！\n",
      "\n",
      "逻辑非常不严密，既然定位是科幻片，起码的逻辑得有吧？\n",
      "1.一个0.7级宇宙文明等级的星球，自己这块地的资源分配都没整明白，是哪来的能量去推着地球改变行星轨迹？\n",
      "2.点燃木星这脑洞是有多大？几十亿年有多少陨石彗星冲击都没点燃，你突发奇想放个火就能点燃了？全是氢气，是怎么点燃的？就这种气体混合比，怎么点燃的？麻烦把化学反应方程式告诉我一下。还不如说丢个炮仗上去炸一下，起码炮仗还能在无氧的环境下燃烧爆炸。\n",
      "3.就吴京这种个人英雄主义的演员拿来演这种格局庞大的科幻电影合适吗？单说人物设定，就这种人的军衔是怎么给的？是怎么选为航天员的？有没有做过心理测试？有没有做过性格评估？人类的命运最后是堵出来的？\n",
      "\n",
      "开头以为是国产科幻大片，气象不凡，道具方面下了不少功夫，某些场景直追好莱坞。整体上离好莱坞还是差半个世纪。1⃣️演员。格式化表演，看不出“人”性内容，几处人物牺牲逻辑性和共鸣性不强，尤其吴京最后牺牲前一段烈士般台词，沿习战狼做派，略显矫情。2⃣️布景。感觉一直都是漫天飞雪、错杂纷乱，缺乏变化。整体风格压抑，没有情景沉入感、带入感。\n",
      "\n",
      "什么玩意儿，发动机和石头砸下来的声音从头震到尾，演技拙劣的儿女情长的片段令人作呕，吴京一副大义凛然的样子太过难受，什么中国第一部科幻，情节稀烂，特效主要靠音效，加上刻意塑造的中国式英雄，一分没得说\n",
      "\n",
      "打不了零分，真可惜，一分给吴京吧。烂！\n",
      "\n"
     ]
    }
   ],
   "source": [
    "for i in data2[data2['wujing']&(data2['score']<4)].nlargest(5, 'upCount')['content']:\n",
    "    print(i+'\\n')"
   ],
   "metadata": {
    "collapsed": false,
    "pycharm": {
     "name": "#%%\n"
    }
   }
  },
  {
   "cell_type": "markdown",
   "source": [
    "##### 3.赵金麦（女主）"
   ],
   "metadata": {
    "collapsed": false
   }
  },
  {
   "cell_type": "code",
   "execution_count": 60,
   "outputs": [
    {
     "data": {
      "text/plain": "                                                               content  \\\ntime                                                                     \n2019-02-08 04:14:00  电影就是电影不要嘈杂着其他因素，就电影本质来说，这电影特效，大场面，做的让我赞叹不已，非常的...   \n2019-02-07 03:59:00  就这样吧，特效还行，科幻部分不做评价，就人物刻画来讲已经槽点满满了！刘启就是个狂躁症患者，什...   \n2019-02-06 15:46:00  刘慈欣《流浪地球》据说是硬科幻，设定感觉可以出一个系列，可导演和编剧讲故事的能力都差强人意，...   \n2019-02-06 10:52:00  3分给特效和创意，男女主真是全程让人吐槽无语\\n只是说了一下男女主让人无语，就被追着说，那就...   \n2019-02-08 18:10:00                         感觉好多角色都是多余的，尤其那两个戏份最多的男女主角   \n\n                     gender          nick  replyCount  score  \\\ntime                                                           \n2019-02-08 04:14:00     1.0       一抹晨曦784        21.0    3.0   \n2019-02-07 03:59:00     2.0   CpJ26143934        35.0    4.0   \n2019-02-06 15:46:00     2.0  pSU598729902        23.0    1.0   \n2019-02-06 10:52:00     0.0         夏天爱养猪        12.0    1.0   \n2019-02-08 18:10:00     0.0          心在流浪         8.0    2.0   \n\n                                   time  upCount        userId  userLevel  \\\ntime                                                                        \n2019-02-08 04:14:00 2019-02-08 04:14:00     75.0  1.564863e+08        2.0   \n2019-02-07 03:59:00 2019-02-07 03:59:00     53.0  9.157036e+07        2.0   \n2019-02-06 15:46:00 2019-02-06 15:46:00     35.0  1.054238e+09        3.0   \n2019-02-06 10:52:00 2019-02-06 10:52:00     35.0  7.095032e+07        2.0   \n2019-02-08 18:10:00 2019-02-08 18:10:00     35.0  1.019022e+09        3.0   \n\n                    liucixin guofan quchuxiao wujing liguangjie wumengda  \\\ntime                                                                       \n2019-02-08 04:14:00    False  False      True  False      False    False   \n2019-02-07 03:59:00    False  False      True   True      False    False   \n2019-02-06 15:46:00     True  False      True  False      False    False   \n2019-02-06 10:52:00    False  False     False  False      False    False   \n2019-02-08 18:10:00    False  False     False  False      False    False   \n\n                    zhaojinmai  \ntime                            \n2019-02-08 04:14:00       True  \n2019-02-07 03:59:00       True  \n2019-02-06 15:46:00       True  \n2019-02-06 10:52:00       True  \n2019-02-08 18:10:00       True  ",
      "text/html": "<div>\n<style scoped>\n    .dataframe tbody tr th:only-of-type {\n        vertical-align: middle;\n    }\n\n    .dataframe tbody tr th {\n        vertical-align: top;\n    }\n\n    .dataframe thead th {\n        text-align: right;\n    }\n</style>\n<table border=\"1\" class=\"dataframe\">\n  <thead>\n    <tr style=\"text-align: right;\">\n      <th></th>\n      <th>content</th>\n      <th>gender</th>\n      <th>nick</th>\n      <th>replyCount</th>\n      <th>score</th>\n      <th>time</th>\n      <th>upCount</th>\n      <th>userId</th>\n      <th>userLevel</th>\n      <th>liucixin</th>\n      <th>guofan</th>\n      <th>quchuxiao</th>\n      <th>wujing</th>\n      <th>liguangjie</th>\n      <th>wumengda</th>\n      <th>zhaojinmai</th>\n    </tr>\n    <tr>\n      <th>time</th>\n      <th></th>\n      <th></th>\n      <th></th>\n      <th></th>\n      <th></th>\n      <th></th>\n      <th></th>\n      <th></th>\n      <th></th>\n      <th></th>\n      <th></th>\n      <th></th>\n      <th></th>\n      <th></th>\n      <th></th>\n      <th></th>\n    </tr>\n  </thead>\n  <tbody>\n    <tr>\n      <th>2019-02-08 04:14:00</th>\n      <td>电影就是电影不要嘈杂着其他因素，就电影本质来说，这电影特效，大场面，做的让我赞叹不已，非常的...</td>\n      <td>1.0</td>\n      <td>一抹晨曦784</td>\n      <td>21.0</td>\n      <td>3.0</td>\n      <td>2019-02-08 04:14:00</td>\n      <td>75.0</td>\n      <td>1.564863e+08</td>\n      <td>2.0</td>\n      <td>False</td>\n      <td>False</td>\n      <td>True</td>\n      <td>False</td>\n      <td>False</td>\n      <td>False</td>\n      <td>True</td>\n    </tr>\n    <tr>\n      <th>2019-02-07 03:59:00</th>\n      <td>就这样吧，特效还行，科幻部分不做评价，就人物刻画来讲已经槽点满满了！刘启就是个狂躁症患者，什...</td>\n      <td>2.0</td>\n      <td>CpJ26143934</td>\n      <td>35.0</td>\n      <td>4.0</td>\n      <td>2019-02-07 03:59:00</td>\n      <td>53.0</td>\n      <td>9.157036e+07</td>\n      <td>2.0</td>\n      <td>False</td>\n      <td>False</td>\n      <td>True</td>\n      <td>True</td>\n      <td>False</td>\n      <td>False</td>\n      <td>True</td>\n    </tr>\n    <tr>\n      <th>2019-02-06 15:46:00</th>\n      <td>刘慈欣《流浪地球》据说是硬科幻，设定感觉可以出一个系列，可导演和编剧讲故事的能力都差强人意，...</td>\n      <td>2.0</td>\n      <td>pSU598729902</td>\n      <td>23.0</td>\n      <td>1.0</td>\n      <td>2019-02-06 15:46:00</td>\n      <td>35.0</td>\n      <td>1.054238e+09</td>\n      <td>3.0</td>\n      <td>True</td>\n      <td>False</td>\n      <td>True</td>\n      <td>False</td>\n      <td>False</td>\n      <td>False</td>\n      <td>True</td>\n    </tr>\n    <tr>\n      <th>2019-02-06 10:52:00</th>\n      <td>3分给特效和创意，男女主真是全程让人吐槽无语\\n只是说了一下男女主让人无语，就被追着说，那就...</td>\n      <td>0.0</td>\n      <td>夏天爱养猪</td>\n      <td>12.0</td>\n      <td>1.0</td>\n      <td>2019-02-06 10:52:00</td>\n      <td>35.0</td>\n      <td>7.095032e+07</td>\n      <td>2.0</td>\n      <td>False</td>\n      <td>False</td>\n      <td>False</td>\n      <td>False</td>\n      <td>False</td>\n      <td>False</td>\n      <td>True</td>\n    </tr>\n    <tr>\n      <th>2019-02-08 18:10:00</th>\n      <td>感觉好多角色都是多余的，尤其那两个戏份最多的男女主角</td>\n      <td>0.0</td>\n      <td>心在流浪</td>\n      <td>8.0</td>\n      <td>2.0</td>\n      <td>2019-02-08 18:10:00</td>\n      <td>35.0</td>\n      <td>1.019022e+09</td>\n      <td>3.0</td>\n      <td>False</td>\n      <td>False</td>\n      <td>False</td>\n      <td>False</td>\n      <td>False</td>\n      <td>False</td>\n      <td>True</td>\n    </tr>\n  </tbody>\n</table>\n</div>"
     },
     "execution_count": 60,
     "metadata": {},
     "output_type": "execute_result"
    }
   ],
   "source": [
    "data2[data2['zhaojinmai']&(data2['score']<5)].nlargest(5, 'upCount')"
   ],
   "metadata": {
    "collapsed": false,
    "pycharm": {
     "name": "#%%\n"
    }
   }
  },
  {
   "cell_type": "code",
   "execution_count": 61,
   "outputs": [
    {
     "name": "stdout",
     "output_type": "stream",
     "text": [
      "电影就是电影不要嘈杂着其他因素，就电影本质来说，这电影特效，大场面，做的让我赞叹不已，非常的有气势，但是演员演技实在捉急，特别是两个主角，男主人设叛逆性格太过了，女主那段演讲是本片的最大败笔，看完那段演讲让我尴尬的有种跑出电影院的冲动，每个人物死掉都会莫名其妙的来段演讲煽情戏，编剧真的是尬王！总的来说，网上给予这片子得评分没有很客观，相比较国外科幻大片，流浪地球有进步，但是还差得远！电影就是电影跟爱不爱国无关，请不要道德绑架！\n",
      "\n",
      "就这样吧，特效还行，科幻部分不做评价，就人物刻画来讲已经槽点满满了！刘启就是个狂躁症患者，什么都是别人的错，对着姥爷一口一个老东西，姥爷临死也没改口；韩朵朵就是一**少女，紧要关头还声情并茂朗读小作文；刘培强是我要救儿子……以为儿子死了：好，我放弃了，我听moss的回去休眠……哦！儿子没死，太好了，我要想办法，一定要救地球……🙄️🙄️🙄️\n",
      "\n",
      "刘慈欣《流浪地球》据说是硬科幻，设定感觉可以出一个系列，可导演和编剧讲故事的能力都差强人意，镜头语言幼稚，几乎全程在快速地晃荡，人物情感没有张力，演员功力都弱弱的，都末日了，还不咸不淡的语气。。男主对他爹的大恨是从哪儿来的？？不就是母亲放弃治疗吗？那个韩朵朵出来是干什么的？是让大家保护的“希望”化身？？强行煽情的台词让我汗毛竖起。刻意卖的末世日情怀，我不想接。狂热的拥护。\n",
      "\n",
      "原来酒带上太空舱是为了炸掉智能机器人莫斯的。。被酒燃烧前莫斯的话是经典——想让人类保持理智是一种奢望。笑岔我。\n",
      "\n",
      "看到东方明珠塔被雪冻住了我就忍不住笑，不知道老美看到纽约被炸那么多次什么心情。\n",
      "\n",
      "无知导致浪漫。\n",
      "\n",
      "\n",
      "\n",
      "3分给特效和创意，男女主真是全程让人吐槽无语\n",
      "只是说了一下男女主让人无语，就被追着说，那就改评一分了\n",
      "\n",
      "感觉好多角色都是多余的，尤其那两个戏份最多的男女主角\n",
      "\n"
     ]
    }
   ],
   "source": [
    "for i in data2[data2['zhaojinmai']&(data2['score']<5)].nlargest(5, 'upCount')['content']:\n",
    "    print(i+'\\n')\n"
   ],
   "metadata": {
    "collapsed": false,
    "pycharm": {
     "name": "#%%\n"
    }
   }
  },
  {
   "cell_type": "markdown",
   "source": [
    "##### 4.屈楚萧（男主）"
   ],
   "metadata": {
    "collapsed": false
   }
  },
  {
   "cell_type": "code",
   "execution_count": 62,
   "outputs": [
    {
     "data": {
      "text/plain": "                                                               content  \\\ntime                                                                     \n2019-02-08 04:14:00  电影就是电影不要嘈杂着其他因素，就电影本质来说，这电影特效，大场面，做的让我赞叹不已，非常的...   \n2019-02-07 03:59:00  就这样吧，特效还行，科幻部分不做评价，就人物刻画来讲已经槽点满满了！刘启就是个狂躁症患者，什...   \n2019-02-06 08:27:00            剧情相当尬，男主属于看着就让人不舒服的那种。这网评真的不是水军刷出来的吗。。。   \n2019-02-08 08:59:00  看得出导演用心了，特效值得肯定，还有保护地球热爱家园的主旨定位没问题，但是，演员的演技不敢恭...   \n2019-02-06 15:46:00  刘慈欣《流浪地球》据说是硬科幻，设定感觉可以出一个系列，可导演和编剧讲故事的能力都差强人意，...   \n\n                     gender          nick  replyCount  score  \\\ntime                                                           \n2019-02-08 04:14:00     1.0       一抹晨曦784        21.0    3.0   \n2019-02-07 03:59:00     2.0   CpJ26143934        35.0    4.0   \n2019-02-06 08:27:00     0.0            lu        15.0    4.0   \n2019-02-08 08:59:00     1.0            沧哥         7.0    3.0   \n2019-02-06 15:46:00     2.0  pSU598729902        23.0    1.0   \n\n                                   time  upCount        userId  userLevel  \\\ntime                                                                        \n2019-02-08 04:14:00 2019-02-08 04:14:00     75.0  1.564863e+08        2.0   \n2019-02-07 03:59:00 2019-02-07 03:59:00     53.0  9.157036e+07        2.0   \n2019-02-06 08:27:00 2019-02-06 08:27:00     44.0  1.241587e+09        4.0   \n2019-02-08 08:59:00 2019-02-08 08:59:00     37.0  2.997020e+08        3.0   \n2019-02-06 15:46:00 2019-02-06 15:46:00     35.0  1.054238e+09        3.0   \n\n                    liucixin guofan quchuxiao wujing liguangjie wumengda  \\\ntime                                                                       \n2019-02-08 04:14:00    False  False      True  False      False    False   \n2019-02-07 03:59:00    False  False      True   True      False    False   \n2019-02-06 08:27:00    False  False      True  False      False    False   \n2019-02-08 08:59:00    False  False      True  False      False    False   \n2019-02-06 15:46:00     True  False      True  False      False    False   \n\n                    zhaojinmai  \ntime                            \n2019-02-08 04:14:00       True  \n2019-02-07 03:59:00       True  \n2019-02-06 08:27:00      False  \n2019-02-08 08:59:00      False  \n2019-02-06 15:46:00       True  ",
      "text/html": "<div>\n<style scoped>\n    .dataframe tbody tr th:only-of-type {\n        vertical-align: middle;\n    }\n\n    .dataframe tbody tr th {\n        vertical-align: top;\n    }\n\n    .dataframe thead th {\n        text-align: right;\n    }\n</style>\n<table border=\"1\" class=\"dataframe\">\n  <thead>\n    <tr style=\"text-align: right;\">\n      <th></th>\n      <th>content</th>\n      <th>gender</th>\n      <th>nick</th>\n      <th>replyCount</th>\n      <th>score</th>\n      <th>time</th>\n      <th>upCount</th>\n      <th>userId</th>\n      <th>userLevel</th>\n      <th>liucixin</th>\n      <th>guofan</th>\n      <th>quchuxiao</th>\n      <th>wujing</th>\n      <th>liguangjie</th>\n      <th>wumengda</th>\n      <th>zhaojinmai</th>\n    </tr>\n    <tr>\n      <th>time</th>\n      <th></th>\n      <th></th>\n      <th></th>\n      <th></th>\n      <th></th>\n      <th></th>\n      <th></th>\n      <th></th>\n      <th></th>\n      <th></th>\n      <th></th>\n      <th></th>\n      <th></th>\n      <th></th>\n      <th></th>\n      <th></th>\n    </tr>\n  </thead>\n  <tbody>\n    <tr>\n      <th>2019-02-08 04:14:00</th>\n      <td>电影就是电影不要嘈杂着其他因素，就电影本质来说，这电影特效，大场面，做的让我赞叹不已，非常的...</td>\n      <td>1.0</td>\n      <td>一抹晨曦784</td>\n      <td>21.0</td>\n      <td>3.0</td>\n      <td>2019-02-08 04:14:00</td>\n      <td>75.0</td>\n      <td>1.564863e+08</td>\n      <td>2.0</td>\n      <td>False</td>\n      <td>False</td>\n      <td>True</td>\n      <td>False</td>\n      <td>False</td>\n      <td>False</td>\n      <td>True</td>\n    </tr>\n    <tr>\n      <th>2019-02-07 03:59:00</th>\n      <td>就这样吧，特效还行，科幻部分不做评价，就人物刻画来讲已经槽点满满了！刘启就是个狂躁症患者，什...</td>\n      <td>2.0</td>\n      <td>CpJ26143934</td>\n      <td>35.0</td>\n      <td>4.0</td>\n      <td>2019-02-07 03:59:00</td>\n      <td>53.0</td>\n      <td>9.157036e+07</td>\n      <td>2.0</td>\n      <td>False</td>\n      <td>False</td>\n      <td>True</td>\n      <td>True</td>\n      <td>False</td>\n      <td>False</td>\n      <td>True</td>\n    </tr>\n    <tr>\n      <th>2019-02-06 08:27:00</th>\n      <td>剧情相当尬，男主属于看着就让人不舒服的那种。这网评真的不是水军刷出来的吗。。。</td>\n      <td>0.0</td>\n      <td>lu</td>\n      <td>15.0</td>\n      <td>4.0</td>\n      <td>2019-02-06 08:27:00</td>\n      <td>44.0</td>\n      <td>1.241587e+09</td>\n      <td>4.0</td>\n      <td>False</td>\n      <td>False</td>\n      <td>True</td>\n      <td>False</td>\n      <td>False</td>\n      <td>False</td>\n      <td>False</td>\n    </tr>\n    <tr>\n      <th>2019-02-08 08:59:00</th>\n      <td>看得出导演用心了，特效值得肯定，还有保护地球热爱家园的主旨定位没问题，但是，演员的演技不敢恭...</td>\n      <td>1.0</td>\n      <td>沧哥</td>\n      <td>7.0</td>\n      <td>3.0</td>\n      <td>2019-02-08 08:59:00</td>\n      <td>37.0</td>\n      <td>2.997020e+08</td>\n      <td>3.0</td>\n      <td>False</td>\n      <td>False</td>\n      <td>True</td>\n      <td>False</td>\n      <td>False</td>\n      <td>False</td>\n      <td>False</td>\n    </tr>\n    <tr>\n      <th>2019-02-06 15:46:00</th>\n      <td>刘慈欣《流浪地球》据说是硬科幻，设定感觉可以出一个系列，可导演和编剧讲故事的能力都差强人意，...</td>\n      <td>2.0</td>\n      <td>pSU598729902</td>\n      <td>23.0</td>\n      <td>1.0</td>\n      <td>2019-02-06 15:46:00</td>\n      <td>35.0</td>\n      <td>1.054238e+09</td>\n      <td>3.0</td>\n      <td>True</td>\n      <td>False</td>\n      <td>True</td>\n      <td>False</td>\n      <td>False</td>\n      <td>False</td>\n      <td>True</td>\n    </tr>\n  </tbody>\n</table>\n</div>"
     },
     "execution_count": 62,
     "metadata": {},
     "output_type": "execute_result"
    }
   ],
   "source": [
    "data2[data2['quchuxiao']&(data2['score']<5)].nlargest(5, 'upCount')"
   ],
   "metadata": {
    "collapsed": false,
    "pycharm": {
     "name": "#%%\n"
    }
   }
  },
  {
   "cell_type": "code",
   "execution_count": 63,
   "outputs": [
    {
     "name": "stdout",
     "output_type": "stream",
     "text": [
      "电影就是电影不要嘈杂着其他因素，就电影本质来说，这电影特效，大场面，做的让我赞叹不已，非常的有气势，但是演员演技实在捉急，特别是两个主角，男主人设叛逆性格太过了，女主那段演讲是本片的最大败笔，看完那段演讲让我尴尬的有种跑出电影院的冲动，每个人物死掉都会莫名其妙的来段演讲煽情戏，编剧真的是尬王！总的来说，网上给予这片子得评分没有很客观，相比较国外科幻大片，流浪地球有进步，但是还差得远！电影就是电影跟爱不爱国无关，请不要道德绑架！\n",
      "\n",
      "就这样吧，特效还行，科幻部分不做评价，就人物刻画来讲已经槽点满满了！刘启就是个狂躁症患者，什么都是别人的错，对着姥爷一口一个老东西，姥爷临死也没改口；韩朵朵就是一**少女，紧要关头还声情并茂朗读小作文；刘培强是我要救儿子……以为儿子死了：好，我放弃了，我听moss的回去休眠……哦！儿子没死，太好了，我要想办法，一定要救地球……🙄️🙄️🙄️\n",
      "\n",
      "剧情相当尬，男主属于看着就让人不舒服的那种。这网评真的不是水军刷出来的吗。。。\n",
      "\n",
      "看得出导演用心了，特效值得肯定，还有保护地球热爱家园的主旨定位没问题，但是，演员的演技不敢恭维，确实尴尬，台词尴尬，表情尴尬，男主角给人一种混二愣熊孩子的感觉，没有人格定位。剧情拖沓，逻辑生硬，强行植入煽情片段，明明是义无反顾的离家出走又一个个把家说的比什么都重要！作为国产科幻片来说可圈可点，值得肯定，应该给八分鼓励，但我看了这里的评论发现，但凡有说哪里不好的，都会被打成美帝，被说成无脑，我就尴尬了，我和那些开口就骂人的人肯定不是一路，评分要是也跟他们一样，我也会被误认为是那些人吧？所以，我给三分！\n",
      "\n",
      "刘慈欣《流浪地球》据说是硬科幻，设定感觉可以出一个系列，可导演和编剧讲故事的能力都差强人意，镜头语言幼稚，几乎全程在快速地晃荡，人物情感没有张力，演员功力都弱弱的，都末日了，还不咸不淡的语气。。男主对他爹的大恨是从哪儿来的？？不就是母亲放弃治疗吗？那个韩朵朵出来是干什么的？是让大家保护的“希望”化身？？强行煽情的台词让我汗毛竖起。刻意卖的末世日情怀，我不想接。狂热的拥护。\n",
      "\n",
      "原来酒带上太空舱是为了炸掉智能机器人莫斯的。。被酒燃烧前莫斯的话是经典——想让人类保持理智是一种奢望。笑岔我。\n",
      "\n",
      "看到东方明珠塔被雪冻住了我就忍不住笑，不知道老美看到纽约被炸那么多次什么心情。\n",
      "\n",
      "无知导致浪漫。\n",
      "\n",
      "\n",
      "\n"
     ]
    }
   ],
   "source": [
    "for i in data2[data2['quchuxiao']&(data2['score']<5)].nlargest(5, 'upCount')['content']:\n",
    "    print(i+'\\n')"
   ],
   "metadata": {
    "collapsed": false,
    "pycharm": {
     "name": "#%%\n"
    }
   }
  },
  {
   "cell_type": "markdown",
   "source": [
    "#### 高分评论所涉及到的主要演员名字"
   ],
   "metadata": {
    "collapsed": false,
    "pycharm": {
     "name": "#%% md\n"
    }
   }
  },
  {
   "cell_type": "markdown",
   "source": [
    "##### 1.吴孟达"
   ],
   "metadata": {
    "collapsed": false
   }
  },
  {
   "cell_type": "code",
   "execution_count": 64,
   "outputs": [
    {
     "data": {
      "text/plain": "                                                               content  \\\ntime                                                                     \n2019-02-05 01:03:00  外骨骼找的世界上最好的外骨骼制作团队，一套外骨骼50万元。音乐录制去的世界上最好的录音棚《艾...   \n2019-02-09 07:20:00  之前已有朋友看过，对之评价很高，因此非常期待。\\n\\n果然名副其实，大大超过预期，国产科幻片...   \n2019-02-06 18:24:00  不知道，大家都有没有注意到达叔的一句话，“在我们那个年代大家都不太关心太阳，只关心一样东西，...   \n2019-02-11 05:18:00  1.电影我看了，吴京炸了，京黑们快来买票参观\\n2电影里年代是2075年，爷爷韩子昂是99年...   \n2019-02-06 19:25:00  非常棒，科幻灾难大片的既视感，国产科幻进步非常大，构思几近满分，特效也属上乘，男主演的挺招人...   \n\n                     gender          nick  replyCount  score  \\\ntime                                                           \n2019-02-05 01:03:00     0.0  hKP853271285         1.0   10.0   \n2019-02-09 07:20:00     0.0         格林纯姐姐         1.0   10.0   \n2019-02-06 18:24:00     1.0        Mr·6先生         1.0   10.0   \n2019-02-11 05:18:00     1.0       成达门业李钰霖         3.0   10.0   \n2019-02-06 19:25:00     1.0  VKR802692810         0.0   10.0   \n\n                                   time  upCount        userId  userLevel  \\\ntime                                                                        \n2019-02-05 01:03:00 2019-02-05 01:03:00     20.0  8.066066e+08        1.0   \n2019-02-09 07:20:00 2019-02-09 07:20:00     15.0  9.584794e+07        3.0   \n2019-02-06 18:24:00 2019-02-06 18:24:00     13.0  6.589161e+08        4.0   \n2019-02-11 05:18:00 2019-02-11 05:18:00      9.0  1.653117e+09        2.0   \n2019-02-06 19:25:00 2019-02-06 19:25:00      9.0  3.821338e+08        3.0   \n\n                    liucixin guofan quchuxiao wujing liguangjie wumengda  \\\ntime                                                                       \n2019-02-05 01:03:00    False   True     False  False      False     True   \n2019-02-09 07:20:00    False  False     False   True      False     True   \n2019-02-06 18:24:00    False  False     False  False      False     True   \n2019-02-11 05:18:00    False  False      True   True      False     True   \n2019-02-06 19:25:00    False  False      True   True      False     True   \n\n                    zhaojinmai  \ntime                            \n2019-02-05 01:03:00      False  \n2019-02-09 07:20:00      False  \n2019-02-06 18:24:00      False  \n2019-02-11 05:18:00      False  \n2019-02-06 19:25:00       True  ",
      "text/html": "<div>\n<style scoped>\n    .dataframe tbody tr th:only-of-type {\n        vertical-align: middle;\n    }\n\n    .dataframe tbody tr th {\n        vertical-align: top;\n    }\n\n    .dataframe thead th {\n        text-align: right;\n    }\n</style>\n<table border=\"1\" class=\"dataframe\">\n  <thead>\n    <tr style=\"text-align: right;\">\n      <th></th>\n      <th>content</th>\n      <th>gender</th>\n      <th>nick</th>\n      <th>replyCount</th>\n      <th>score</th>\n      <th>time</th>\n      <th>upCount</th>\n      <th>userId</th>\n      <th>userLevel</th>\n      <th>liucixin</th>\n      <th>guofan</th>\n      <th>quchuxiao</th>\n      <th>wujing</th>\n      <th>liguangjie</th>\n      <th>wumengda</th>\n      <th>zhaojinmai</th>\n    </tr>\n    <tr>\n      <th>time</th>\n      <th></th>\n      <th></th>\n      <th></th>\n      <th></th>\n      <th></th>\n      <th></th>\n      <th></th>\n      <th></th>\n      <th></th>\n      <th></th>\n      <th></th>\n      <th></th>\n      <th></th>\n      <th></th>\n      <th></th>\n      <th></th>\n    </tr>\n  </thead>\n  <tbody>\n    <tr>\n      <th>2019-02-05 01:03:00</th>\n      <td>外骨骼找的世界上最好的外骨骼制作团队，一套外骨骼50万元。音乐录制去的世界上最好的录音棚《艾...</td>\n      <td>0.0</td>\n      <td>hKP853271285</td>\n      <td>1.0</td>\n      <td>10.0</td>\n      <td>2019-02-05 01:03:00</td>\n      <td>20.0</td>\n      <td>8.066066e+08</td>\n      <td>1.0</td>\n      <td>False</td>\n      <td>True</td>\n      <td>False</td>\n      <td>False</td>\n      <td>False</td>\n      <td>True</td>\n      <td>False</td>\n    </tr>\n    <tr>\n      <th>2019-02-09 07:20:00</th>\n      <td>之前已有朋友看过，对之评价很高，因此非常期待。\\n\\n果然名副其实，大大超过预期，国产科幻片...</td>\n      <td>0.0</td>\n      <td>格林纯姐姐</td>\n      <td>1.0</td>\n      <td>10.0</td>\n      <td>2019-02-09 07:20:00</td>\n      <td>15.0</td>\n      <td>9.584794e+07</td>\n      <td>3.0</td>\n      <td>False</td>\n      <td>False</td>\n      <td>False</td>\n      <td>True</td>\n      <td>False</td>\n      <td>True</td>\n      <td>False</td>\n    </tr>\n    <tr>\n      <th>2019-02-06 18:24:00</th>\n      <td>不知道，大家都有没有注意到达叔的一句话，“在我们那个年代大家都不太关心太阳，只关心一样东西，...</td>\n      <td>1.0</td>\n      <td>Mr·6先生</td>\n      <td>1.0</td>\n      <td>10.0</td>\n      <td>2019-02-06 18:24:00</td>\n      <td>13.0</td>\n      <td>6.589161e+08</td>\n      <td>4.0</td>\n      <td>False</td>\n      <td>False</td>\n      <td>False</td>\n      <td>False</td>\n      <td>False</td>\n      <td>True</td>\n      <td>False</td>\n    </tr>\n    <tr>\n      <th>2019-02-11 05:18:00</th>\n      <td>1.电影我看了，吴京炸了，京黑们快来买票参观\\n2电影里年代是2075年，爷爷韩子昂是99年...</td>\n      <td>1.0</td>\n      <td>成达门业李钰霖</td>\n      <td>3.0</td>\n      <td>10.0</td>\n      <td>2019-02-11 05:18:00</td>\n      <td>9.0</td>\n      <td>1.653117e+09</td>\n      <td>2.0</td>\n      <td>False</td>\n      <td>False</td>\n      <td>True</td>\n      <td>True</td>\n      <td>False</td>\n      <td>True</td>\n      <td>False</td>\n    </tr>\n    <tr>\n      <th>2019-02-06 19:25:00</th>\n      <td>非常棒，科幻灾难大片的既视感，国产科幻进步非常大，构思几近满分，特效也属上乘，男主演的挺招人...</td>\n      <td>1.0</td>\n      <td>VKR802692810</td>\n      <td>0.0</td>\n      <td>10.0</td>\n      <td>2019-02-06 19:25:00</td>\n      <td>9.0</td>\n      <td>3.821338e+08</td>\n      <td>3.0</td>\n      <td>False</td>\n      <td>False</td>\n      <td>True</td>\n      <td>True</td>\n      <td>False</td>\n      <td>True</td>\n      <td>True</td>\n    </tr>\n  </tbody>\n</table>\n</div>"
     },
     "execution_count": 64,
     "metadata": {},
     "output_type": "execute_result"
    }
   ],
   "source": [
    "data2[data2['wumengda']&(data2['score']>7)].nlargest(5, 'upCount')"
   ],
   "metadata": {
    "collapsed": false,
    "pycharm": {
     "name": "#%%\n"
    }
   }
  },
  {
   "cell_type": "code",
   "execution_count": 65,
   "outputs": [
    {
     "name": "stdout",
     "output_type": "stream",
     "text": [
      "外骨骼找的世界上最好的外骨骼制作团队，一套外骨骼50万元。音乐录制去的世界上最好的录音棚《艾比路》。总投资保底超过7千万美元，演员没有一个流量明星，吴孟达老师带病拍戏，剧组还有随身医生，每拍完一段都要吸氧。\n",
      "大部分的资金都用在了特效上，就是为了保证质量。\n",
      "在不到30天上映的情况下，郭帆自己的工作室再追加900万投资，谁知道这钱哪来的，他可能是押上全部身家了，怕是把房子抵押出去了。\n",
      "你们应该知道一部投资六七千万美元的“中国”“科幻”电影，没有多少宣发，没有流量明星，意味着多大风险。\n",
      "几乎必死。\n",
      "所以说现在很多人还是张口就来，尽管不是喷也不是黑。\n",
      "\n",
      "之前已有朋友看过，对之评价很高，因此非常期待。\n",
      "\n",
      "果然名副其实，大大超过预期，国产科幻片中毫无争议的最佳作品，跟国外影片相比也毫不逊色。科幻脑洞开得很大，各种特效非常震撼，故事让人感到很真实，虽是2D观影者仍然感觉身临其境。\n",
      "情感线也很感人，真实自然，触动人心。“虽千万人，吾往矣”。宇航员和救援人员勇于牺牲的精神让人联想起王伟和我们的航天英雄，小女孩播报那一段更是看得笔者潸然泪下。\n",
      "唯一的不足是吴京和吴孟达太熟悉了让我老跳戏，哥哥的表演也有些稚嫩。\n",
      "春节档的影片敢提前大规模点映，现在看来，主创人员的自信是非常有道理的。\n",
      "值得强烈推荐，春节期间准备二刷。\n",
      "\n",
      "不知道，大家都有没有注意到达叔的一句话，“在我们那个年代大家都不太关心太阳，只关心一样东西，钱。”其实这种观点，是值得思考的。抛开科幻作品的商业价值，这种社会价值可以用一句话体现在在科幻作品里，并且直击心灵其实就是最大一种讽刺。我们现在的生活，不管大家对社会秉持什么样的观点，不可否认其实是前人用鲜血用生命用疾苦换来的，当一个以命为生存前提的时代结束难道就要以钱来代替继续前行么？以钱换物质，那么真的没精神什么事儿了！人类最伟大的是爱，也如同本片人工智能最后的那句话。所以劝解诸君，多多自律多多勤俭。切莫只认钱不屑情啊！\n",
      "\n",
      "1.电影我看了，吴京炸了，京黑们快来买票参观\n",
      "2电影里年代是2075年，爷爷韩子昂是99年生的所以他会玩手机跳海草海草。\n",
      "3.引爆木星以色列科学家已经想到，但保住空间站，延续人类文明才是最佳选择，因此说成功率为零。\n",
      "4.其实主角一行人没有成功过，连最后的引爆木星都是刘培强牺牲自己和空间站引爆的。\n",
      "5.电影里有地面叛军与李一一的救援队枪战的情节，被剪了，所以救援队会携带武器，而刘启的救援服也是这样从黑市换来的\n",
      "6.大部分的发动机分布在北半球，因此北半球是永昼区，主角才会说北京看不到星星，而南半球的人都迁移到北半球，所以才会有一个中澳合作的蒂姆。\n",
      "7.火石存放环境很特殊，因此不能在发动机旁存放\n",
      "\n",
      "\n",
      "非常棒，科幻灾难大片的既视感，国产科幻进步非常大，构思几近满分，特效也属上乘，男主演的挺招人烦，女主镜头不多但很漂亮，吴京达叔演技还是杠杠滴，非要给意见，那就是如果把木星波推动地球那一瞬间给个镜头绝对震撼。\n",
      "\n"
     ]
    }
   ],
   "source": [
    "for i in data2[data2['wumengda']&(data2['score']>7)].nlargest(5, 'upCount')['content']:\n",
    "    print(i+'\\n')\n"
   ],
   "metadata": {
    "collapsed": false,
    "pycharm": {
     "name": "#%%\n"
    }
   }
  },
  {
   "cell_type": "markdown",
   "source": [
    "##### 2.吴京"
   ],
   "metadata": {
    "collapsed": false,
    "pycharm": {
     "name": "#%% md\n"
    }
   }
  },
  {
   "cell_type": "code",
   "execution_count": 66,
   "outputs": [
    {
     "data": {
      "text/plain": "                                                               content  \\\ntime                                                                     \n2019-02-05 14:44:00  前部分虽有不足，但特效是超出预期，后劲较足，到了中后部分有两个地方感动到我，刘培强实现预言，...   \n2019-02-05 14:58:00  看完预告就给满分的、我应该是第一个、不管好不好看、这部片子必须支持、因为这是中国电影工业的一...   \n2019-02-05 10:06:00  特效团队已经确定了...是More...特效做的还不错...More做过悟空传，特效应该差不...   \n2019-02-09 07:20:00  之前已有朋友看过，对之评价很高，因此非常期待。\\n\\n果然名副其实，大大超过预期，国产科幻片...   \n2019-02-05 18:39:00  我就莫名其妙了，怎么中国人自己出个什么你们都否认，这部片子怎么就不好了，中国人自己拍的科幻起...   \n\n                     gender       nick  replyCount  score                time  \\\ntime                                                                            \n2019-02-05 14:44:00     2.0  JuliaFanl         6.0    8.0 2019-02-05 14:44:00   \n2019-02-05 14:58:00     0.0         明亮         0.0   10.0 2019-02-05 14:58:00   \n2019-02-05 10:06:00     1.0        。。。         0.0   10.0 2019-02-05 10:06:00   \n2019-02-09 07:20:00     0.0      格林纯姐姐         1.0   10.0 2019-02-09 07:20:00   \n2019-02-05 18:39:00     0.0        V悔Z         4.0   10.0 2019-02-05 18:39:00   \n\n                     upCount        userId  userLevel liucixin guofan  \\\ntime                                                                    \n2019-02-05 14:44:00    172.0  2.273608e+08        5.0    False  False   \n2019-02-05 14:58:00     22.0  1.038797e+09        4.0    False  False   \n2019-02-05 10:06:00     15.0  1.031318e+09        3.0    False  False   \n2019-02-09 07:20:00     15.0  9.584794e+07        3.0    False  False   \n2019-02-05 18:39:00     12.0  4.974724e+08        3.0    False  False   \n\n                    quchuxiao wujing liguangjie wumengda zhaojinmai  \ntime                                                                 \n2019-02-05 14:44:00      True   True       True    False      False  \n2019-02-05 14:58:00     False   True      False    False      False  \n2019-02-05 10:06:00     False   True      False    False      False  \n2019-02-09 07:20:00     False   True      False     True      False  \n2019-02-05 18:39:00     False   True      False    False      False  ",
      "text/html": "<div>\n<style scoped>\n    .dataframe tbody tr th:only-of-type {\n        vertical-align: middle;\n    }\n\n    .dataframe tbody tr th {\n        vertical-align: top;\n    }\n\n    .dataframe thead th {\n        text-align: right;\n    }\n</style>\n<table border=\"1\" class=\"dataframe\">\n  <thead>\n    <tr style=\"text-align: right;\">\n      <th></th>\n      <th>content</th>\n      <th>gender</th>\n      <th>nick</th>\n      <th>replyCount</th>\n      <th>score</th>\n      <th>time</th>\n      <th>upCount</th>\n      <th>userId</th>\n      <th>userLevel</th>\n      <th>liucixin</th>\n      <th>guofan</th>\n      <th>quchuxiao</th>\n      <th>wujing</th>\n      <th>liguangjie</th>\n      <th>wumengda</th>\n      <th>zhaojinmai</th>\n    </tr>\n    <tr>\n      <th>time</th>\n      <th></th>\n      <th></th>\n      <th></th>\n      <th></th>\n      <th></th>\n      <th></th>\n      <th></th>\n      <th></th>\n      <th></th>\n      <th></th>\n      <th></th>\n      <th></th>\n      <th></th>\n      <th></th>\n      <th></th>\n      <th></th>\n    </tr>\n  </thead>\n  <tbody>\n    <tr>\n      <th>2019-02-05 14:44:00</th>\n      <td>前部分虽有不足，但特效是超出预期，后劲较足，到了中后部分有两个地方感动到我，刘培强实现预言，...</td>\n      <td>2.0</td>\n      <td>JuliaFanl</td>\n      <td>6.0</td>\n      <td>8.0</td>\n      <td>2019-02-05 14:44:00</td>\n      <td>172.0</td>\n      <td>2.273608e+08</td>\n      <td>5.0</td>\n      <td>False</td>\n      <td>False</td>\n      <td>True</td>\n      <td>True</td>\n      <td>True</td>\n      <td>False</td>\n      <td>False</td>\n    </tr>\n    <tr>\n      <th>2019-02-05 14:58:00</th>\n      <td>看完预告就给满分的、我应该是第一个、不管好不好看、这部片子必须支持、因为这是中国电影工业的一...</td>\n      <td>0.0</td>\n      <td>明亮</td>\n      <td>0.0</td>\n      <td>10.0</td>\n      <td>2019-02-05 14:58:00</td>\n      <td>22.0</td>\n      <td>1.038797e+09</td>\n      <td>4.0</td>\n      <td>False</td>\n      <td>False</td>\n      <td>False</td>\n      <td>True</td>\n      <td>False</td>\n      <td>False</td>\n      <td>False</td>\n    </tr>\n    <tr>\n      <th>2019-02-05 10:06:00</th>\n      <td>特效团队已经确定了...是More...特效做的还不错...More做过悟空传，特效应该差不...</td>\n      <td>1.0</td>\n      <td>。。。</td>\n      <td>0.0</td>\n      <td>10.0</td>\n      <td>2019-02-05 10:06:00</td>\n      <td>15.0</td>\n      <td>1.031318e+09</td>\n      <td>3.0</td>\n      <td>False</td>\n      <td>False</td>\n      <td>False</td>\n      <td>True</td>\n      <td>False</td>\n      <td>False</td>\n      <td>False</td>\n    </tr>\n    <tr>\n      <th>2019-02-09 07:20:00</th>\n      <td>之前已有朋友看过，对之评价很高，因此非常期待。\\n\\n果然名副其实，大大超过预期，国产科幻片...</td>\n      <td>0.0</td>\n      <td>格林纯姐姐</td>\n      <td>1.0</td>\n      <td>10.0</td>\n      <td>2019-02-09 07:20:00</td>\n      <td>15.0</td>\n      <td>9.584794e+07</td>\n      <td>3.0</td>\n      <td>False</td>\n      <td>False</td>\n      <td>False</td>\n      <td>True</td>\n      <td>False</td>\n      <td>True</td>\n      <td>False</td>\n    </tr>\n    <tr>\n      <th>2019-02-05 18:39:00</th>\n      <td>我就莫名其妙了，怎么中国人自己出个什么你们都否认，这部片子怎么就不好了，中国人自己拍的科幻起...</td>\n      <td>0.0</td>\n      <td>V悔Z</td>\n      <td>4.0</td>\n      <td>10.0</td>\n      <td>2019-02-05 18:39:00</td>\n      <td>12.0</td>\n      <td>4.974724e+08</td>\n      <td>3.0</td>\n      <td>False</td>\n      <td>False</td>\n      <td>False</td>\n      <td>True</td>\n      <td>False</td>\n      <td>False</td>\n      <td>False</td>\n    </tr>\n  </tbody>\n</table>\n</div>"
     },
     "execution_count": 66,
     "metadata": {},
     "output_type": "execute_result"
    }
   ],
   "source": [
    "data2[data2['wujing']&(data2['score']>7)].nlargest(5, 'upCount')"
   ],
   "metadata": {
    "collapsed": false,
    "pycharm": {
     "name": "#%%\n"
    }
   }
  },
  {
   "cell_type": "code",
   "execution_count": 67,
   "outputs": [
    {
     "name": "stdout",
     "output_type": "stream",
     "text": [
      "前部分虽有不足，但特效是超出预期，后劲较足，到了中后部分有两个地方感动到我，刘培强实现预言，其次是王磊队长说出命令的瞬间。希望是什么？在绝境中不放弃任何一种可能，与其等待死亡，不如拼死一搏！长大又是什么？与家人共同经历之后理解彼此，打开心结。这次拯救地球集结了大家的力量，也见证了刘启的成长。流浪地球计划，让地球不再流浪。\n",
      "\n",
      "看完预告就给满分的、我应该是第一个、不管好不好看、这部片子必须支持、因为这是中国电影工业的一次大胆尝试和革命。你拍多少部战狼或者多少部优秀的喜剧电影、欧美丝毫不会侧目一下、但是如果科幻题材成功了，不但能带动中国电影产业升级和走出去、更能起到传播中国文化塑造中国英雄的伟大使命……\n",
      "本人不道德绑架、但是极力推荐......\n",
      "中国有史以来第一部硬科幻，电审故字2019001号可真不是开玩笑的，不论结果如何、此片已经青史留名了。\n",
      "\n",
      "特效团队已经确定了...是More...特效做的还不错...More做过悟空传，特效应该差不了...剧组的确是和维塔谈过...不过也就仅限坐下来谈谈了...好像维塔太贵..貌似是按帧收费...剧组预算不够...这个定档日期很神奇...看来是冲着挣钱...有中影投资，还有吴京出演，感觉少不了主旋律...希望故事能讲好... 不过中国第一部硬科幻，挺了！！！！\n",
      "\n",
      "之前已有朋友看过，对之评价很高，因此非常期待。\n",
      "\n",
      "果然名副其实，大大超过预期，国产科幻片中毫无争议的最佳作品，跟国外影片相比也毫不逊色。科幻脑洞开得很大，各种特效非常震撼，故事让人感到很真实，虽是2D观影者仍然感觉身临其境。\n",
      "情感线也很感人，真实自然，触动人心。“虽千万人，吾往矣”。宇航员和救援人员勇于牺牲的精神让人联想起王伟和我们的航天英雄，小女孩播报那一段更是看得笔者潸然泪下。\n",
      "唯一的不足是吴京和吴孟达太熟悉了让我老跳戏，哥哥的表演也有些稚嫩。\n",
      "春节档的影片敢提前大规模点映，现在看来，主创人员的自信是非常有道理的。\n",
      "值得强烈推荐，春节期间准备二刷。\n",
      "\n",
      "我就莫名其妙了，怎么中国人自己出个什么你们都否认，这部片子怎么就不好了，中国人自己拍的科幻起步。是！他是有瑕疵，但是你不能不承认他用心了，完全碾压那些小鲜肉的五毛钱特效。难道中国人自己用心做出来的东西就那么难被自己人承认吗？拍个《战狼》你们说“个人主义”太强，拍个《红海行动》你们说“太假，就几个人打几百人”和抗战神剧一样。现在《流浪地球》出来了，你们又在这里叫什么特效！什么场面！什么剧情！那我还就想说了你有本事你拍啊你上啊！你去演啊！特效你去写程序啊！真心的送你们这些喷子跪着的一句话中国人的精髓WQNTMLGBD不接受反驳就这句了。\n",
      "\n"
     ]
    }
   ],
   "source": [
    "for i in data2[data2['wujing']&(data2['score']>7)].nlargest(5, 'upCount')['content']:\n",
    "    print(i+'\\n')"
   ],
   "metadata": {
    "collapsed": false,
    "pycharm": {
     "name": "#%%\n"
    }
   }
  },
  {
   "cell_type": "markdown",
   "source": [
    "##### 3.赵金麦（女主）"
   ],
   "metadata": {
    "collapsed": false,
    "pycharm": {
     "name": "#%% md\n"
    }
   }
  },
  {
   "cell_type": "code",
   "execution_count": 68,
   "outputs": [
    {
     "data": {
      "text/plain": "                                                               content  \\\ntime                                                                     \n2019-02-05 00:11:00  世界观宏大，特效过关，节奏紧凑。\\n就是剧情略有欠缺俗套，改编的不能说很成功，从人类大局观来...   \n2019-02-05 01:54:00  猪年零点首映场观影值了，看完有点打鸡血式兴奋！本片开启中国科幻片里程碑小马达，整体节奏不错，...   \n2019-02-06 19:25:00  非常棒，科幻灾难大片的既视感，国产科幻进步非常大，构思几近满分，特效也属上乘，男主演的挺招人...   \n2019-02-08 22:39:00  原来流浪地球还有145分钟和160分钟的版本，其实里面有很多挺重要的部分呀\\n比如王磊的妻子...   \n2019-02-10 17:52:00  这是我24年人生看过特效最真实最震撼的国产科幻电影。\\n唯一扣分项就是女主韩朵朵，我感觉这个...   \n\n                     gender           nick  replyCount  score  \\\ntime                                                            \n2019-02-05 00:11:00     1.0  BrotherDongV5         0.0    9.0   \n2019-02-05 01:54:00     0.0          TangY         0.0    8.0   \n2019-02-06 19:25:00     1.0   VKR802692810         0.0   10.0   \n2019-02-08 22:39:00     2.0        fyangle         1.0   10.0   \n2019-02-10 17:52:00     0.0   Paper灬Tiger丶         0.0    9.0   \n\n                                   time  upCount       userId  userLevel  \\\ntime                                                                       \n2019-02-05 00:11:00 2019-02-05 00:11:00     15.0  152528991.0        2.0   \n2019-02-05 01:54:00 2019-02-05 01:54:00     12.0  265060493.0        3.0   \n2019-02-06 19:25:00 2019-02-06 19:25:00      9.0  382133795.0        3.0   \n2019-02-08 22:39:00 2019-02-08 22:39:00      7.0   85485074.0        2.0   \n2019-02-10 17:52:00 2019-02-10 17:52:00      6.0  144559792.0        1.0   \n\n                    liucixin guofan quchuxiao wujing liguangjie wumengda  \\\ntime                                                                       \n2019-02-05 00:11:00     True  False     False  False      False    False   \n2019-02-05 01:54:00    False  False     False  False      False    False   \n2019-02-06 19:25:00    False  False      True   True      False     True   \n2019-02-08 22:39:00    False  False      True  False       True    False   \n2019-02-10 17:52:00    False  False     False   True      False    False   \n\n                    zhaojinmai  \ntime                            \n2019-02-05 00:11:00       True  \n2019-02-05 01:54:00       True  \n2019-02-06 19:25:00       True  \n2019-02-08 22:39:00       True  \n2019-02-10 17:52:00       True  ",
      "text/html": "<div>\n<style scoped>\n    .dataframe tbody tr th:only-of-type {\n        vertical-align: middle;\n    }\n\n    .dataframe tbody tr th {\n        vertical-align: top;\n    }\n\n    .dataframe thead th {\n        text-align: right;\n    }\n</style>\n<table border=\"1\" class=\"dataframe\">\n  <thead>\n    <tr style=\"text-align: right;\">\n      <th></th>\n      <th>content</th>\n      <th>gender</th>\n      <th>nick</th>\n      <th>replyCount</th>\n      <th>score</th>\n      <th>time</th>\n      <th>upCount</th>\n      <th>userId</th>\n      <th>userLevel</th>\n      <th>liucixin</th>\n      <th>guofan</th>\n      <th>quchuxiao</th>\n      <th>wujing</th>\n      <th>liguangjie</th>\n      <th>wumengda</th>\n      <th>zhaojinmai</th>\n    </tr>\n    <tr>\n      <th>time</th>\n      <th></th>\n      <th></th>\n      <th></th>\n      <th></th>\n      <th></th>\n      <th></th>\n      <th></th>\n      <th></th>\n      <th></th>\n      <th></th>\n      <th></th>\n      <th></th>\n      <th></th>\n      <th></th>\n      <th></th>\n      <th></th>\n    </tr>\n  </thead>\n  <tbody>\n    <tr>\n      <th>2019-02-05 00:11:00</th>\n      <td>世界观宏大，特效过关，节奏紧凑。\\n就是剧情略有欠缺俗套，改编的不能说很成功，从人类大局观来...</td>\n      <td>1.0</td>\n      <td>BrotherDongV5</td>\n      <td>0.0</td>\n      <td>9.0</td>\n      <td>2019-02-05 00:11:00</td>\n      <td>15.0</td>\n      <td>152528991.0</td>\n      <td>2.0</td>\n      <td>True</td>\n      <td>False</td>\n      <td>False</td>\n      <td>False</td>\n      <td>False</td>\n      <td>False</td>\n      <td>True</td>\n    </tr>\n    <tr>\n      <th>2019-02-05 01:54:00</th>\n      <td>猪年零点首映场观影值了，看完有点打鸡血式兴奋！本片开启中国科幻片里程碑小马达，整体节奏不错，...</td>\n      <td>0.0</td>\n      <td>TangY</td>\n      <td>0.0</td>\n      <td>8.0</td>\n      <td>2019-02-05 01:54:00</td>\n      <td>12.0</td>\n      <td>265060493.0</td>\n      <td>3.0</td>\n      <td>False</td>\n      <td>False</td>\n      <td>False</td>\n      <td>False</td>\n      <td>False</td>\n      <td>False</td>\n      <td>True</td>\n    </tr>\n    <tr>\n      <th>2019-02-06 19:25:00</th>\n      <td>非常棒，科幻灾难大片的既视感，国产科幻进步非常大，构思几近满分，特效也属上乘，男主演的挺招人...</td>\n      <td>1.0</td>\n      <td>VKR802692810</td>\n      <td>0.0</td>\n      <td>10.0</td>\n      <td>2019-02-06 19:25:00</td>\n      <td>9.0</td>\n      <td>382133795.0</td>\n      <td>3.0</td>\n      <td>False</td>\n      <td>False</td>\n      <td>True</td>\n      <td>True</td>\n      <td>False</td>\n      <td>True</td>\n      <td>True</td>\n    </tr>\n    <tr>\n      <th>2019-02-08 22:39:00</th>\n      <td>原来流浪地球还有145分钟和160分钟的版本，其实里面有很多挺重要的部分呀\\n比如王磊的妻子...</td>\n      <td>2.0</td>\n      <td>fyangle</td>\n      <td>1.0</td>\n      <td>10.0</td>\n      <td>2019-02-08 22:39:00</td>\n      <td>7.0</td>\n      <td>85485074.0</td>\n      <td>2.0</td>\n      <td>False</td>\n      <td>False</td>\n      <td>True</td>\n      <td>False</td>\n      <td>True</td>\n      <td>False</td>\n      <td>True</td>\n    </tr>\n    <tr>\n      <th>2019-02-10 17:52:00</th>\n      <td>这是我24年人生看过特效最真实最震撼的国产科幻电影。\\n唯一扣分项就是女主韩朵朵，我感觉这个...</td>\n      <td>0.0</td>\n      <td>Paper灬Tiger丶</td>\n      <td>0.0</td>\n      <td>9.0</td>\n      <td>2019-02-10 17:52:00</td>\n      <td>6.0</td>\n      <td>144559792.0</td>\n      <td>1.0</td>\n      <td>False</td>\n      <td>False</td>\n      <td>False</td>\n      <td>True</td>\n      <td>False</td>\n      <td>False</td>\n      <td>True</td>\n    </tr>\n  </tbody>\n</table>\n</div>"
     },
     "execution_count": 68,
     "metadata": {},
     "output_type": "execute_result"
    }
   ],
   "source": [
    "data2[data2['zhaojinmai']&(data2['score']>7)].nlargest(5, 'upCount')"
   ],
   "metadata": {
    "collapsed": false,
    "pycharm": {
     "name": "#%%\n"
    }
   }
  },
  {
   "cell_type": "code",
   "execution_count": 69,
   "outputs": [
    {
     "name": "stdout",
     "output_type": "stream",
     "text": [
      "世界观宏大，特效过关，节奏紧凑。\n",
      "就是剧情略有欠缺俗套，改编的不能说很成功，从人类大局观来说，剧情的改编多了太多感性，人类在危机纪元不应该如此感性，不太理智，埋没了大刘对于全人类共同对抗危机时自我牺牲的精神，这点扣分。\n",
      "男女主演技还是略年轻。\n",
      "\n",
      "整体感觉还不错，推荐\n",
      "\n",
      "猪年零点首映场观影值了，看完有点打鸡血式兴奋！本片开启中国科幻片里程碑小马达，整体节奏不错，特效和音乐很棒，片尾曲好听，女主有点傻傻萌，她的煽情台词稍显啰嗦，还有几帧场景宣誓式的台词是硬伤，故事情节大众，总体fine还不赖的一部作品能优点盖过缺点，预测猪年贺岁档黑马一匹！看这类特效影片就得必选IMAX才能完爆体验。\n",
      "\n",
      "非常棒，科幻灾难大片的既视感，国产科幻进步非常大，构思几近满分，特效也属上乘，男主演的挺招人烦，女主镜头不多但很漂亮，吴京达叔演技还是杠杠滴，非要给意见，那就是如果把木星波推动地球那一瞬间给个镜头绝对震撼。\n",
      "\n",
      "原来流浪地球还有145分钟和160分钟的版本，其实里面有很多挺重要的部分呀\n",
      "比如王磊的妻子孩子其实就住在杭州地下城，所以他才要拼了命都要去杭州救他们\n",
      "韩朵朵出去其实是为了找自己亲生父母的尸体，然后姥爷死了之后韩朵朵和刘启找到了朵朵被救的地方，然后有个特效就是她跪下，然后用手把冰面擦开，冰下全是向上游的尸体。\n",
      "导演我只想说，我想看160分钟完整版！！！\n",
      "\n",
      "这是我24年人生看过特效最真实最震撼的国产科幻电影。\n",
      "唯一扣分项就是女主韩朵朵，我感觉这个角色太多余了，只会大喊大叫。没有动力甲去退“撞针”还占一个使力的位置。特别广播那一段特别尴尬，干嘛不让联合政府来广播？让一个小女孩来，还讲一段故事煽情一下😅有些老套，木星撞地球啊可是亿万火急的呀。 \n",
      "PS:奥观海同志在哪啊？没看见他🤣。\n",
      "PS2：吴京撞木星上先把冬眠的生活仓环带脱离了，并不是带着一帮宇航员一起死。  \n",
      "PS3:地面还可能有幸存者。\n",
      "\n"
     ]
    }
   ],
   "source": [
    "for i in data2[data2['zhaojinmai']&(data2['score']>7)].nlargest(5, 'upCount')['content']:\n",
    "    print(i+'\\n')\n"
   ],
   "metadata": {
    "collapsed": false,
    "pycharm": {
     "name": "#%%\n"
    }
   }
  },
  {
   "cell_type": "markdown",
   "source": [
    "##### 4.屈楚萧（男主）"
   ],
   "metadata": {
    "collapsed": false,
    "pycharm": {
     "name": "#%% md\n"
    }
   }
  },
  {
   "cell_type": "code",
   "execution_count": 70,
   "outputs": [
    {
     "data": {
      "text/plain": "                                                               content  \\\ntime                                                                     \n2019-02-05 14:44:00  前部分虽有不足，但特效是超出预期，后劲较足，到了中后部分有两个地方感动到我，刘培强实现预言，...   \n2019-02-08 00:21:00  电影删掉的部分内容:\\n1.妹妹想去地面，是因为想找父母的尸体，不是影片里那么中二的理由（所...   \n2019-02-07 02:25:00  “所谓常识不可逆转的时刻，只不过是人类给予自己选择不拼尽最后一丝全力再试一次的冠冕堂皇的理由...   \n2019-02-11 05:18:00  1.电影我看了，吴京炸了，京黑们快来买票参观\\n2电影里年代是2075年，爷爷韩子昂是99年...   \n2019-02-06 19:25:00  非常棒，科幻灾难大片的既视感，国产科幻进步非常大，构思几近满分，特效也属上乘，男主演的挺招人...   \n\n                     gender          nick  replyCount  score  \\\ntime                                                           \n2019-02-05 14:44:00     2.0     JuliaFanl         6.0    8.0   \n2019-02-08 00:21:00     0.0       🔥 👦 👔 👖         0.0    9.0   \n2019-02-07 02:25:00     0.0         alisa         0.0    8.0   \n2019-02-11 05:18:00     1.0       成达门业李钰霖         3.0   10.0   \n2019-02-06 19:25:00     1.0  VKR802692810         0.0   10.0   \n\n                                   time  upCount        userId  userLevel  \\\ntime                                                                        \n2019-02-05 14:44:00 2019-02-05 14:44:00    172.0  2.273608e+08        5.0   \n2019-02-08 00:21:00 2019-02-08 00:21:00     13.0  1.024416e+09        2.0   \n2019-02-07 02:25:00 2019-02-07 02:25:00     11.0  2.729552e+08        4.0   \n2019-02-11 05:18:00 2019-02-11 05:18:00      9.0  1.653117e+09        2.0   \n2019-02-06 19:25:00 2019-02-06 19:25:00      9.0  3.821338e+08        3.0   \n\n                    liucixin guofan quchuxiao wujing liguangjie wumengda  \\\ntime                                                                       \n2019-02-05 14:44:00    False  False      True   True       True    False   \n2019-02-08 00:21:00    False  False      True  False       True    False   \n2019-02-07 02:25:00    False  False      True  False      False    False   \n2019-02-11 05:18:00    False  False      True   True      False     True   \n2019-02-06 19:25:00    False  False      True   True      False     True   \n\n                    zhaojinmai  \ntime                            \n2019-02-05 14:44:00      False  \n2019-02-08 00:21:00      False  \n2019-02-07 02:25:00      False  \n2019-02-11 05:18:00      False  \n2019-02-06 19:25:00       True  ",
      "text/html": "<div>\n<style scoped>\n    .dataframe tbody tr th:only-of-type {\n        vertical-align: middle;\n    }\n\n    .dataframe tbody tr th {\n        vertical-align: top;\n    }\n\n    .dataframe thead th {\n        text-align: right;\n    }\n</style>\n<table border=\"1\" class=\"dataframe\">\n  <thead>\n    <tr style=\"text-align: right;\">\n      <th></th>\n      <th>content</th>\n      <th>gender</th>\n      <th>nick</th>\n      <th>replyCount</th>\n      <th>score</th>\n      <th>time</th>\n      <th>upCount</th>\n      <th>userId</th>\n      <th>userLevel</th>\n      <th>liucixin</th>\n      <th>guofan</th>\n      <th>quchuxiao</th>\n      <th>wujing</th>\n      <th>liguangjie</th>\n      <th>wumengda</th>\n      <th>zhaojinmai</th>\n    </tr>\n    <tr>\n      <th>time</th>\n      <th></th>\n      <th></th>\n      <th></th>\n      <th></th>\n      <th></th>\n      <th></th>\n      <th></th>\n      <th></th>\n      <th></th>\n      <th></th>\n      <th></th>\n      <th></th>\n      <th></th>\n      <th></th>\n      <th></th>\n      <th></th>\n    </tr>\n  </thead>\n  <tbody>\n    <tr>\n      <th>2019-02-05 14:44:00</th>\n      <td>前部分虽有不足，但特效是超出预期，后劲较足，到了中后部分有两个地方感动到我，刘培强实现预言，...</td>\n      <td>2.0</td>\n      <td>JuliaFanl</td>\n      <td>6.0</td>\n      <td>8.0</td>\n      <td>2019-02-05 14:44:00</td>\n      <td>172.0</td>\n      <td>2.273608e+08</td>\n      <td>5.0</td>\n      <td>False</td>\n      <td>False</td>\n      <td>True</td>\n      <td>True</td>\n      <td>True</td>\n      <td>False</td>\n      <td>False</td>\n    </tr>\n    <tr>\n      <th>2019-02-08 00:21:00</th>\n      <td>电影删掉的部分内容:\\n1.妹妹想去地面，是因为想找父母的尸体，不是影片里那么中二的理由（所...</td>\n      <td>0.0</td>\n      <td>🔥 👦 👔 👖</td>\n      <td>0.0</td>\n      <td>9.0</td>\n      <td>2019-02-08 00:21:00</td>\n      <td>13.0</td>\n      <td>1.024416e+09</td>\n      <td>2.0</td>\n      <td>False</td>\n      <td>False</td>\n      <td>True</td>\n      <td>False</td>\n      <td>True</td>\n      <td>False</td>\n      <td>False</td>\n    </tr>\n    <tr>\n      <th>2019-02-07 02:25:00</th>\n      <td>“所谓常识不可逆转的时刻，只不过是人类给予自己选择不拼尽最后一丝全力再试一次的冠冕堂皇的理由...</td>\n      <td>0.0</td>\n      <td>alisa</td>\n      <td>0.0</td>\n      <td>8.0</td>\n      <td>2019-02-07 02:25:00</td>\n      <td>11.0</td>\n      <td>2.729552e+08</td>\n      <td>4.0</td>\n      <td>False</td>\n      <td>False</td>\n      <td>True</td>\n      <td>False</td>\n      <td>False</td>\n      <td>False</td>\n      <td>False</td>\n    </tr>\n    <tr>\n      <th>2019-02-11 05:18:00</th>\n      <td>1.电影我看了，吴京炸了，京黑们快来买票参观\\n2电影里年代是2075年，爷爷韩子昂是99年...</td>\n      <td>1.0</td>\n      <td>成达门业李钰霖</td>\n      <td>3.0</td>\n      <td>10.0</td>\n      <td>2019-02-11 05:18:00</td>\n      <td>9.0</td>\n      <td>1.653117e+09</td>\n      <td>2.0</td>\n      <td>False</td>\n      <td>False</td>\n      <td>True</td>\n      <td>True</td>\n      <td>False</td>\n      <td>True</td>\n      <td>False</td>\n    </tr>\n    <tr>\n      <th>2019-02-06 19:25:00</th>\n      <td>非常棒，科幻灾难大片的既视感，国产科幻进步非常大，构思几近满分，特效也属上乘，男主演的挺招人...</td>\n      <td>1.0</td>\n      <td>VKR802692810</td>\n      <td>0.0</td>\n      <td>10.0</td>\n      <td>2019-02-06 19:25:00</td>\n      <td>9.0</td>\n      <td>3.821338e+08</td>\n      <td>3.0</td>\n      <td>False</td>\n      <td>False</td>\n      <td>True</td>\n      <td>True</td>\n      <td>False</td>\n      <td>True</td>\n      <td>True</td>\n    </tr>\n  </tbody>\n</table>\n</div>"
     },
     "execution_count": 70,
     "metadata": {},
     "output_type": "execute_result"
    }
   ],
   "source": [
    "data2[data2['quchuxiao']&(data2['score']>7)].nlargest(5, 'upCount')"
   ],
   "metadata": {
    "collapsed": false,
    "pycharm": {
     "name": "#%%\n"
    }
   }
  },
  {
   "cell_type": "code",
   "execution_count": 71,
   "outputs": [
    {
     "name": "stdout",
     "output_type": "stream",
     "text": [
      "前部分虽有不足，但特效是超出预期，后劲较足，到了中后部分有两个地方感动到我，刘培强实现预言，其次是王磊队长说出命令的瞬间。希望是什么？在绝境中不放弃任何一种可能，与其等待死亡，不如拼死一搏！长大又是什么？与家人共同经历之后理解彼此，打开心结。这次拯救地球集结了大家的力量，也见证了刘启的成长。流浪地球计划，让地球不再流浪。\n",
      "\n",
      "电影删掉的部分内容:\n",
      "1.妹妹想去地面，是因为想找父母的尸体，不是影片里那么中二的理由（所以有口型对不上）。2.在姥爷死了以后，兄妹二人发现冰面下全是冻着的向上游的尸体，场面很震撼。\n",
      "3.王磊那么执着地去杭州，不光为了执行任务，还因为他的老婆孩子全在杭州，所以在杭州地下城毁了，火石又被周倩打坏后他才会说她老婆孩子全白死了。4.删了很多在旅途中人物的互动，比如户口跟周倩，王磊跟朵朵。特别是王磊，在失去家人后渐渐的把朵朵当成了自己女儿，这才有后面舍身救朵朵。\n",
      "为了春节档排片，流浪地球前后删除了近半小时内容，因此造成了部分情节感觉不连贯。\n",
      "这些全加上的话，影评中提到的所有缺点全都划掉。国产科幻的希望\n",
      "\n",
      "“所谓常识不可逆转的时刻，只不过是人类给予自己选择不拼尽最后一丝全力再试一次的冠冕堂皇的理由。”我的观影感就是这句。\n",
      "作为科幻粉，看到一部国牌的科幻大片，温情不冰冷，宏大又易懂。画面唯美得想让人瞬间上宇宙。我最喜欢“贝加尔湖的老马之约”，老马闭上眼睛接受飞向宇宙的那瞬间，泪点袭来。\n",
      "本来想给💯满分，少一星只因刘启某块缺了点专业冷静。经历过骤降寒冬和大地震，他依然没意识到危机，这个片段可以理解，想人设的感情激烈，却与经历过火石培训的专业机械者背景不符，他潜意识至少应有“眼下没有退路”。幸好，在点燃火石时，专业冷静完全出来了\n",
      "其实，看影评找答案，不如直接进影院感受在宇宙流浪的的科幻世界。\n",
      "\n",
      "1.电影我看了，吴京炸了，京黑们快来买票参观\n",
      "2电影里年代是2075年，爷爷韩子昂是99年生的所以他会玩手机跳海草海草。\n",
      "3.引爆木星以色列科学家已经想到，但保住空间站，延续人类文明才是最佳选择，因此说成功率为零。\n",
      "4.其实主角一行人没有成功过，连最后的引爆木星都是刘培强牺牲自己和空间站引爆的。\n",
      "5.电影里有地面叛军与李一一的救援队枪战的情节，被剪了，所以救援队会携带武器，而刘启的救援服也是这样从黑市换来的\n",
      "6.大部分的发动机分布在北半球，因此北半球是永昼区，主角才会说北京看不到星星，而南半球的人都迁移到北半球，所以才会有一个中澳合作的蒂姆。\n",
      "7.火石存放环境很特殊，因此不能在发动机旁存放\n",
      "\n",
      "\n",
      "非常棒，科幻灾难大片的既视感，国产科幻进步非常大，构思几近满分，特效也属上乘，男主演的挺招人烦，女主镜头不多但很漂亮，吴京达叔演技还是杠杠滴，非要给意见，那就是如果把木星波推动地球那一瞬间给个镜头绝对震撼。\n",
      "\n"
     ]
    }
   ],
   "source": [
    "for i in data2[data2['quchuxiao']&(data2['score']>7)].nlargest(5, 'upCount')['content']:\n",
    "    print(i+'\\n')"
   ],
   "metadata": {
    "collapsed": false,
    "pycharm": {
     "name": "#%%\n"
    }
   }
  },
  {
   "cell_type": "code",
   "execution_count": 72,
   "outputs": [],
   "source": [
    "from pyecharts.components import Table\n",
    "\n",
    "# 高分评论\n",
    "rows_h1 = []\n",
    "rows_h2 = []\n",
    "rows_h3 = []\n",
    "rows_h4 = []\n",
    "for i in range(5):\n",
    "    comment1 = [data2[data2['wumengda']&(data2['score']>7)].nlargest(5, 'upCount').values[i][0]]\n",
    "    comment2 = [data2[data2['wujing']&(data2['score']>7)].nlargest(5, 'upCount').values[i][0]]\n",
    "    comment3 = [data2[data2['zhaojinmai']&(data2['score']>7)].nlargest(5, 'upCount').values[i][0]]\n",
    "    comment4 = [data2[data2['quchuxiao']&(data2['score']>7)].nlargest(5, 'upCount').values[i][0]]\n",
    "    rows_h1.append(comment1)\n",
    "    rows_h2.append(comment2)\n",
    "    rows_h3.append(comment3)\n",
    "    rows_h4.append(comment4)\n",
    "\n",
    "# 低分评论\n",
    "rows_l1 = []\n",
    "rows_l2 = []\n",
    "rows_l3 = []\n",
    "rows_l4 = []\n",
    "for i in range(5):\n",
    "    comment1 = [data2[data2['wumengda']&(data2['score']<4)].nlargest(5, 'upCount').values[i][0]]\n",
    "    comment2 = [data2[data2['wujing']&(data2['score']<4)].nlargest(5, 'upCount').values[i][0]]\n",
    "    comment3 = [data2[data2['zhaojinmai']&(data2['score']<4)].nlargest(5, 'upCount').values[i][0]]\n",
    "    comment4 = [data2[data2['quchuxiao']&(data2['score']<4)].nlargest(5, 'upCount').values[i][0]]\n",
    "    rows_l1.append(comment1)\n",
    "    rows_l2.append(comment2)\n",
    "    rows_l3.append(comment3)\n",
    "    rows_l4.append(comment4)"
   ],
   "metadata": {
    "collapsed": false,
    "pycharm": {
     "name": "#%%\n"
    }
   }
  },
  {
   "cell_type": "code",
   "execution_count": 73,
   "outputs": [
    {
     "data": {
      "text/plain": "'D:\\\\CODE\\\\demo_py\\\\Project\\\\coursedesign_python\\\\Django\\\\Data_Analysis\\\\Charts_html\\\\Evaluate_bar.html'"
     },
     "execution_count": 73,
     "metadata": {},
     "output_type": "execute_result"
    }
   ],
   "source": [
    "c = (\n",
    "    Bar(init_opts=opts.InitOpts(theme=ThemeType.LIGHT))\n",
    "    .add_xaxis(['郭帆', '李光洁', '刘慈欣', '屈楚萧', '吴京', '吴孟达','赵今麦'])\n",
    "    .add_yaxis(\"好评提及次数\", list1, stack=\"stack1\", category_gap=\"50%\")\n",
    "    .add_yaxis(\"差评提及次数\", list2, stack=\"stack1\", category_gap=\"50%\")\n",
    "    .add_yaxis(\"中评提及次数\", list3, stack=\"stack1\", category_gap=\"50%\")\n",
    "    .set_series_opts(\n",
    "        label_opts=opts.LabelOpts(\n",
    "            position=\"right\",\n",
    "            formatter=JsCode(\n",
    "                \"function(x){return Number(x.data.percent * 100).toFixed() + '%';}\"\n",
    "            ),\n",
    "        )\n",
    "    )\n",
    ")\n",
    "c.render(\"./Charts_html/Evaluate_bar.html\")\n"
   ],
   "metadata": {
    "collapsed": false,
    "pycharm": {
     "name": "#%%\n"
    }
   }
  },
  {
   "cell_type": "code",
   "execution_count": 74,
   "outputs": [],
   "source": [
    "# 以下的表格画出来不好用\n",
    "# 画好评差评中评在单条的条形图\n",
    "def evaluate_bar() -> Bar:\n",
    "\n",
    "    c = (\n",
    "        Bar(init_opts=opts.InitOpts(theme=ThemeType.LIGHT))\n",
    "        .add_xaxis(['郭帆', '李光洁', '刘慈欣', '屈楚萧', '吴京', '吴孟达','赵今麦'])\n",
    "        .add_yaxis(\"好评提及次数\", list1, stack=\"stack1\", category_gap=\"50%\")\n",
    "        .add_yaxis(\"差评提及次数\", list2, stack=\"stack1\", category_gap=\"50%\")\n",
    "        .add_yaxis(\"中评提及次数\", list3, stack=\"stack1\", category_gap=\"50%\")\n",
    "        .set_series_opts(\n",
    "            label_opts=opts.LabelOpts(\n",
    "                position=\"right\",\n",
    "                formatter=JsCode(\n",
    "                    \"function(x){return Number(x.data.percent * 100).toFixed() + '%';}\"\n",
    "                ),\n",
    "            )\n",
    "        )\n",
    "    )\n",
    "    return c\n",
    "\n",
    "\n",
    "# 画高分评论表格\n",
    "def table_baseh1() -> Table:\n",
    "    table = Table()\n",
    "\n",
    "    headers = [\"Content\"]\n",
    "    rows = rows_h1\n",
    "\n",
    "    table.add(headers, rows).set_global_opts(\n",
    "        title_opts=opts.ComponentTitleOpts(title=\"吴孟达\")\n",
    "    )\n",
    "    return table\n",
    "\n",
    "def table_baseh2() -> Table:\n",
    "    table = Table()\n",
    "\n",
    "    headers = [\"Content\"]\n",
    "    rows = rows_h2\n",
    "\n",
    "    table.add(headers, rows).set_global_opts(\n",
    "        title_opts=opts.ComponentTitleOpts(title=\"吴京\")\n",
    "    )\n",
    "    return table\n",
    "\n",
    "def table_baseh3() -> Table:\n",
    "    table = Table()\n",
    "\n",
    "    headers = [\"Content\"]\n",
    "    rows = rows_h3\n",
    "\n",
    "    table.add(headers, rows).set_global_opts(\n",
    "        title_opts=opts.ComponentTitleOpts(title=\"赵今麦\")\n",
    "    )\n",
    "    return table\n",
    "\n",
    "def table_baseh4() -> Table:\n",
    "    table = Table()\n",
    "\n",
    "    headers = [\"Content\"]\n",
    "    rows = rows_h4\n",
    "\n",
    "    table.add(headers, rows).set_global_opts(\n",
    "        title_opts=opts.ComponentTitleOpts(title=\"屈楚萧\")\n",
    "    )\n",
    "    return table\n",
    "\n",
    "\n",
    "# 画高分评论表格\n",
    "def table_basel1() -> Table:\n",
    "    table = Table()\n",
    "\n",
    "    headers = [\"Content\"]\n",
    "    rows = rows_h1\n",
    "\n",
    "    table.add(headers, rows).set_global_opts(\n",
    "        title_opts=opts.ComponentTitleOpts(title=\"吴孟达\")\n",
    "    )\n",
    "    return table\n",
    "\n",
    "def table_basel2() -> Table:\n",
    "    table = Table()\n",
    "\n",
    "    headers = [\"Content\"]\n",
    "    rows = rows_h2\n",
    "\n",
    "    table.add(headers, rows).set_global_opts(\n",
    "        title_opts=opts.ComponentTitleOpts(title=\"吴京\")\n",
    "    )\n",
    "    return table\n",
    "\n",
    "def table_basel3() -> Table:\n",
    "    table = Table()\n",
    "\n",
    "    headers = [\"Content\"]\n",
    "    rows = rows_h3\n",
    "\n",
    "    table.add(headers, rows).set_global_opts(\n",
    "        title_opts=opts.ComponentTitleOpts(title=\"赵今麦\")\n",
    "    )\n",
    "    return table\n",
    "\n",
    "def table_basel4() -> Table:\n",
    "    table = Table()\n",
    "\n",
    "    headers = [\"Content\"]\n",
    "    rows = rows_h4\n",
    "\n",
    "    table.add(headers, rows).set_global_opts(\n",
    "        title_opts=opts.ComponentTitleOpts(title=\"屈楚萧\")\n",
    "    )\n",
    "    return table\n",
    "\n",
    "\n",
    "\n",
    "def page_layout():\n",
    "    page = Page(layout=Page.SimplePageLayout)\n",
    "    page.add(\n",
    "        evaluate_bar(),\n",
    "        table_baseh1(),\n",
    "        table_baseh2(),\n",
    "        table_baseh3(),\n",
    "        table_baseh4(),\n",
    "        table_basel1(),\n",
    "        table_basel2(),\n",
    "        table_basel3(),\n",
    "        table_basel4(),\n",
    "\n",
    "\n",
    "    )\n",
    "    page.render(\"evaluate_bar_table.html\")\n",
    "\n",
    "\n",
    "if __name__ == \"__main__\":\n",
    "    page_layout()"
   ],
   "metadata": {
    "collapsed": false,
    "pycharm": {
     "name": "#%%\n"
    }
   }
  },
  {
   "cell_type": "code",
   "execution_count": 75,
   "outputs": [
    {
     "name": "stdout",
     "output_type": "stream",
     "text": [
      "世界观宏大，特效过关，节奏紧凑。\n",
      "就是剧情略有欠缺俗套，改编的不能说很成功，从人类大局观来说，剧情的改编多了太多感性，人类在危机纪元不应该如此感性，不太理智，埋没了大刘对于全人类共同对抗危机时自我牺牲的精神，这点扣分。\n",
      "男女主演技还是略年轻。\n",
      "\n",
      "整体感觉还不错，推荐\n",
      "[['世界观宏大，特效过关，节奏紧凑。\\n就是剧情略有欠缺俗套，改编的不能说很成功，从人类大局观来说，剧情的改编多了太多感性，人类在危机纪元不应该如此感性，不太理智，埋没了大刘对于全人类共同对抗危机时自我牺牲的精神，这点扣分。\\n男女主演技还是略年轻。\\n\\n整体感觉还不错，推荐'], ['猪年零点首映场观影值了，看完有点打鸡血式兴奋！本片开启中国科幻片里程碑小马达，整体节奏不错，特效和音乐很棒，片尾曲好听，女主有点傻傻萌，她的煽情台词稍显啰嗦，还有几帧场景宣誓式的台词是硬伤，故事情节大众，总体fine还不赖的一部作品能优点盖过缺点，预测猪年贺岁档黑马一匹！看这类特效影片就得必选IMAX才能完爆体验。'], ['非常棒，科幻灾难大片的既视感，国产科幻进步非常大，构思几近满分，特效也属上乘，男主演的挺招人烦，女主镜头不多但很漂亮，吴京达叔演技还是杠杠滴，非要给意见，那就是如果把木星波推动地球那一瞬间给个镜头绝对震撼。'], ['原来流浪地球还有145分钟和160分钟的版本，其实里面有很多挺重要的部分呀\\n比如王磊的妻子孩子其实就住在杭州地下城，所以他才要拼了命都要去杭州救他们\\n韩朵朵出去其实是为了找自己亲生父母的尸体，然后姥爷死了之后韩朵朵和刘启找到了朵朵被救的地方，然后有个特效就是她跪下，然后用手把冰面擦开，冰下全是向上游的尸体。\\n导演我只想说，我想看160分钟完整版！！！'], ['这是我24年人生看过特效最真实最震撼的国产科幻电影。\\n唯一扣分项就是女主韩朵朵，我感觉这个角色太多余了，只会大喊大叫。没有动力甲去退“撞针”还占一个使力的位置。特别广播那一段特别尴尬，干嘛不让联合政府来广播？让一个小女孩来，还讲一段故事煽情一下😅有些老套，木星撞地球啊可是亿万火急的呀。 \\nPS:奥观海同志在哪啊？没看见他🤣。\\nPS2：吴京撞木星上先把冬眠的生活仓环带脱离了，并不是带着一帮宇航员一起死。  \\nPS3:地面还可能有幸存者。']]\n"
     ]
    }
   ],
   "source": [
    "temp = data2[data2['zhaojinmai']&(data2['score']>7)].nlargest(5, 'upCount').values[0][0]\n",
    "print(temp)\n",
    "# for i in\n",
    "comment = []\n",
    "for i in range(5):\n",
    "    temp= [data2[data2['zhaojinmai']&(data2['score']>7)].nlargest(5, 'upCount').values[i][0]]\n",
    "    comment.append(temp)\n",
    "\n",
    "print(comment)"
   ],
   "metadata": {
    "collapsed": false,
    "pycharm": {
     "name": "#%%\n"
    }
   }
  }
 ],
 "metadata": {
  "kernelspec": {
   "display_name": "Python 3",
   "language": "python",
   "name": "python3"
  },
  "language_info": {
   "codemirror_mode": {
    "name": "ipython",
    "version": 2
   },
   "file_extension": ".py",
   "mimetype": "text/x-python",
   "name": "python",
   "nbconvert_exporter": "python",
   "pygments_lexer": "ipython2",
   "version": "2.7.6"
  }
 },
 "nbformat": 4,
 "nbformat_minor": 0
}