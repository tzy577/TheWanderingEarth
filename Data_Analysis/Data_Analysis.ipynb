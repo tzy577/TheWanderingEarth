{
 "cells": [
  {
   "cell_type": "code",
   "execution_count": 1,
   "metadata": {
    "collapsed": true
   },
   "outputs": [],
   "source": [
    "import pandas as pd\n",
    "import numpy as np\n",
    "from pymongo import MongoClient"
   ]
  },
  {
   "cell_type": "code",
   "execution_count": 2,
   "outputs": [],
   "source": [
    "conn = MongoClient(host='127.0.0.1', port=27017)  # 实例化MongoClient\n",
    "db = conn.get_database('The_Wandering_Earth')  # 连接到TWH1数据库\n",
    "\n",
    "# 猫眼数据以及保存为data.csv文件，无需从数据库中导出\n",
    "\n",
    "douban = db.get_collection('douban') # 连接到集合comment\n",
    "# maoyan = db.get_collection(\"maoyan\")\n",
    "douban_data = douban.find()\n",
    "# maoyan_data = maoyan.find()"
   ],
   "metadata": {
    "collapsed": false,
    "pycharm": {
     "name": "#%%\n"
    }
   }
  },
  {
   "cell_type": "code",
   "execution_count": 6,
   "outputs": [],
   "source": [
    "data1 = pd.json_normalize([comment for comment in douban_data])\n",
    "# data2 = pd.json_normalize([comment for comment in maoyan_data])       #以数据库打开\n",
    "data2 = pd.read_csv(\"data.csv\")"
   ],
   "metadata": {
    "collapsed": false,
    "pycharm": {
     "name": "#%%\n"
    }
   }
  },
  {
   "cell_type": "code",
   "execution_count": 7,
   "outputs": [
    {
     "name": "stdout",
     "output_type": "stream",
     "text": [
      "<class 'pandas.core.frame.DataFrame'>\n",
      "Index: 0 entries\n",
      "Empty DataFrame\n",
      "\n",
      "<class 'pandas.core.frame.DataFrame'>\n",
      "RangeIndex: 102584 entries, 0 to 102583\n",
      "Data columns (total 10 columns):\n",
      " #   Column      Non-Null Count   Dtype  \n",
      "---  ------      --------------   -----  \n",
      " 0   content     102583 non-null  object \n",
      " 1   gender      102580 non-null  float64\n",
      " 2   id          102580 non-null  float64\n",
      " 3   nick        102579 non-null  object \n",
      " 4   replyCount  102580 non-null  float64\n",
      " 5   score       102580 non-null  float64\n",
      " 6   time        102580 non-null  object \n",
      " 7   upCount     102580 non-null  float64\n",
      " 8   userId      102580 non-null  float64\n",
      " 9   userLevel   102580 non-null  float64\n",
      "dtypes: float64(7), object(3)\n",
      "memory usage: 7.8+ MB\n"
     ]
    }
   ],
   "source": [
    "data1.info()\n",
    "print(\"\\n\")\n",
    "data2.info()"
   ],
   "metadata": {
    "collapsed": false,
    "pycharm": {
     "name": "#%%\n"
    }
   }
  },
  {
   "cell_type": "code",
   "execution_count": 8,
   "outputs": [
    {
     "ename": "KeyError",
     "evalue": "\"['_id'] not found in axis\"",
     "output_type": "error",
     "traceback": [
      "\u001B[1;31m---------------------------------------------------------------------------\u001B[0m",
      "\u001B[1;31mKeyError\u001B[0m                                  Traceback (most recent call last)",
      "\u001B[1;32m<ipython-input-8-c84c877f09c6>\u001B[0m in \u001B[0;36m<module>\u001B[1;34m\u001B[0m\n\u001B[0;32m      1\u001B[0m \u001B[1;31m# 数据清洗\u001B[0m\u001B[1;33m\u001B[0m\u001B[1;33m\u001B[0m\u001B[1;33m\u001B[0m\u001B[0m\n\u001B[1;32m----> 2\u001B[1;33m \u001B[0mdata1\u001B[0m \u001B[1;33m=\u001B[0m \u001B[0mdata1\u001B[0m\u001B[1;33m.\u001B[0m\u001B[0mdrop\u001B[0m\u001B[1;33m(\u001B[0m\u001B[0mcolumns\u001B[0m\u001B[1;33m=\u001B[0m \u001B[1;34m\"_id\"\u001B[0m\u001B[1;33m)\u001B[0m\u001B[1;33m\u001B[0m\u001B[1;33m\u001B[0m\u001B[0m\n\u001B[0m\u001B[0;32m      3\u001B[0m \u001B[0mdata1\u001B[0m \u001B[1;33m=\u001B[0m \u001B[0mdata1\u001B[0m\u001B[1;33m.\u001B[0m\u001B[0mdrop\u001B[0m\u001B[1;33m(\u001B[0m\u001B[0mcolumns\u001B[0m\u001B[1;33m=\u001B[0m \u001B[1;34m\"isWatched\"\u001B[0m\u001B[1;33m)\u001B[0m\u001B[1;33m\u001B[0m\u001B[1;33m\u001B[0m\u001B[0m\n\u001B[0;32m      4\u001B[0m \u001B[0mdata1\u001B[0m\u001B[1;33m[\u001B[0m\u001B[1;34m'time'\u001B[0m\u001B[1;33m]\u001B[0m \u001B[1;33m=\u001B[0m \u001B[0mpd\u001B[0m\u001B[1;33m.\u001B[0m\u001B[0mto_datetime\u001B[0m\u001B[1;33m(\u001B[0m\u001B[0mdata1\u001B[0m\u001B[1;33m[\u001B[0m\u001B[1;34m'time'\u001B[0m\u001B[1;33m]\u001B[0m\u001B[1;33m,\u001B[0m \u001B[0mformat\u001B[0m\u001B[1;33m=\u001B[0m\u001B[1;34m'%Y-%m-%d'\u001B[0m\u001B[1;33m)\u001B[0m\u001B[1;33m\u001B[0m\u001B[1;33m\u001B[0m\u001B[0m\n\u001B[0;32m      5\u001B[0m \u001B[0mdata1\u001B[0m \u001B[1;33m=\u001B[0m \u001B[0mdata1\u001B[0m\u001B[1;33m[\u001B[0m\u001B[0mdata1\u001B[0m\u001B[1;33m[\u001B[0m\u001B[1;34m'time'\u001B[0m\u001B[1;33m]\u001B[0m\u001B[1;33m>=\u001B[0m\u001B[0mpd\u001B[0m\u001B[1;33m.\u001B[0m\u001B[0mto_datetime\u001B[0m\u001B[1;33m(\u001B[0m\u001B[1;34m'2019-02-01 00:00:00'\u001B[0m\u001B[1;33m)\u001B[0m\u001B[1;33m]\u001B[0m\u001B[1;33m\u001B[0m\u001B[1;33m\u001B[0m\u001B[0m\n",
      "\u001B[1;32md:\\code\\demo_py\\venv\\lib\\site-packages\\pandas\\core\\frame.py\u001B[0m in \u001B[0;36mdrop\u001B[1;34m(self, labels, axis, index, columns, level, inplace, errors)\u001B[0m\n\u001B[0;32m   4160\u001B[0m                 \u001B[0mweight\u001B[0m  \u001B[1;36m1.0\u001B[0m     \u001B[1;36m0.8\u001B[0m\u001B[1;33m\u001B[0m\u001B[1;33m\u001B[0m\u001B[0m\n\u001B[0;32m   4161\u001B[0m         \"\"\"\n\u001B[1;32m-> 4162\u001B[1;33m         return super().drop(\n\u001B[0m\u001B[0;32m   4163\u001B[0m             \u001B[0mlabels\u001B[0m\u001B[1;33m=\u001B[0m\u001B[0mlabels\u001B[0m\u001B[1;33m,\u001B[0m\u001B[1;33m\u001B[0m\u001B[1;33m\u001B[0m\u001B[0m\n\u001B[0;32m   4164\u001B[0m             \u001B[0maxis\u001B[0m\u001B[1;33m=\u001B[0m\u001B[0maxis\u001B[0m\u001B[1;33m,\u001B[0m\u001B[1;33m\u001B[0m\u001B[1;33m\u001B[0m\u001B[0m\n",
      "\u001B[1;32md:\\code\\demo_py\\venv\\lib\\site-packages\\pandas\\core\\generic.py\u001B[0m in \u001B[0;36mdrop\u001B[1;34m(self, labels, axis, index, columns, level, inplace, errors)\u001B[0m\n\u001B[0;32m   3882\u001B[0m         \u001B[1;32mfor\u001B[0m \u001B[0maxis\u001B[0m\u001B[1;33m,\u001B[0m \u001B[0mlabels\u001B[0m \u001B[1;32min\u001B[0m \u001B[0maxes\u001B[0m\u001B[1;33m.\u001B[0m\u001B[0mitems\u001B[0m\u001B[1;33m(\u001B[0m\u001B[1;33m)\u001B[0m\u001B[1;33m:\u001B[0m\u001B[1;33m\u001B[0m\u001B[1;33m\u001B[0m\u001B[0m\n\u001B[0;32m   3883\u001B[0m             \u001B[1;32mif\u001B[0m \u001B[0mlabels\u001B[0m \u001B[1;32mis\u001B[0m \u001B[1;32mnot\u001B[0m \u001B[1;32mNone\u001B[0m\u001B[1;33m:\u001B[0m\u001B[1;33m\u001B[0m\u001B[1;33m\u001B[0m\u001B[0m\n\u001B[1;32m-> 3884\u001B[1;33m                 \u001B[0mobj\u001B[0m \u001B[1;33m=\u001B[0m \u001B[0mobj\u001B[0m\u001B[1;33m.\u001B[0m\u001B[0m_drop_axis\u001B[0m\u001B[1;33m(\u001B[0m\u001B[0mlabels\u001B[0m\u001B[1;33m,\u001B[0m \u001B[0maxis\u001B[0m\u001B[1;33m,\u001B[0m \u001B[0mlevel\u001B[0m\u001B[1;33m=\u001B[0m\u001B[0mlevel\u001B[0m\u001B[1;33m,\u001B[0m \u001B[0merrors\u001B[0m\u001B[1;33m=\u001B[0m\u001B[0merrors\u001B[0m\u001B[1;33m)\u001B[0m\u001B[1;33m\u001B[0m\u001B[1;33m\u001B[0m\u001B[0m\n\u001B[0m\u001B[0;32m   3885\u001B[0m \u001B[1;33m\u001B[0m\u001B[0m\n\u001B[0;32m   3886\u001B[0m         \u001B[1;32mif\u001B[0m \u001B[0minplace\u001B[0m\u001B[1;33m:\u001B[0m\u001B[1;33m\u001B[0m\u001B[1;33m\u001B[0m\u001B[0m\n",
      "\u001B[1;32md:\\code\\demo_py\\venv\\lib\\site-packages\\pandas\\core\\generic.py\u001B[0m in \u001B[0;36m_drop_axis\u001B[1;34m(self, labels, axis, level, errors)\u001B[0m\n\u001B[0;32m   3916\u001B[0m                 \u001B[0mnew_axis\u001B[0m \u001B[1;33m=\u001B[0m \u001B[0maxis\u001B[0m\u001B[1;33m.\u001B[0m\u001B[0mdrop\u001B[0m\u001B[1;33m(\u001B[0m\u001B[0mlabels\u001B[0m\u001B[1;33m,\u001B[0m \u001B[0mlevel\u001B[0m\u001B[1;33m=\u001B[0m\u001B[0mlevel\u001B[0m\u001B[1;33m,\u001B[0m \u001B[0merrors\u001B[0m\u001B[1;33m=\u001B[0m\u001B[0merrors\u001B[0m\u001B[1;33m)\u001B[0m\u001B[1;33m\u001B[0m\u001B[1;33m\u001B[0m\u001B[0m\n\u001B[0;32m   3917\u001B[0m             \u001B[1;32melse\u001B[0m\u001B[1;33m:\u001B[0m\u001B[1;33m\u001B[0m\u001B[1;33m\u001B[0m\u001B[0m\n\u001B[1;32m-> 3918\u001B[1;33m                 \u001B[0mnew_axis\u001B[0m \u001B[1;33m=\u001B[0m \u001B[0maxis\u001B[0m\u001B[1;33m.\u001B[0m\u001B[0mdrop\u001B[0m\u001B[1;33m(\u001B[0m\u001B[0mlabels\u001B[0m\u001B[1;33m,\u001B[0m \u001B[0merrors\u001B[0m\u001B[1;33m=\u001B[0m\u001B[0merrors\u001B[0m\u001B[1;33m)\u001B[0m\u001B[1;33m\u001B[0m\u001B[1;33m\u001B[0m\u001B[0m\n\u001B[0m\u001B[0;32m   3919\u001B[0m             \u001B[0mresult\u001B[0m \u001B[1;33m=\u001B[0m \u001B[0mself\u001B[0m\u001B[1;33m.\u001B[0m\u001B[0mreindex\u001B[0m\u001B[1;33m(\u001B[0m\u001B[1;33m**\u001B[0m\u001B[1;33m{\u001B[0m\u001B[0maxis_name\u001B[0m\u001B[1;33m:\u001B[0m \u001B[0mnew_axis\u001B[0m\u001B[1;33m}\u001B[0m\u001B[1;33m)\u001B[0m\u001B[1;33m\u001B[0m\u001B[1;33m\u001B[0m\u001B[0m\n\u001B[0;32m   3920\u001B[0m \u001B[1;33m\u001B[0m\u001B[0m\n",
      "\u001B[1;32md:\\code\\demo_py\\venv\\lib\\site-packages\\pandas\\core\\indexes\\base.py\u001B[0m in \u001B[0;36mdrop\u001B[1;34m(self, labels, errors)\u001B[0m\n\u001B[0;32m   5276\u001B[0m         \u001B[1;32mif\u001B[0m \u001B[0mmask\u001B[0m\u001B[1;33m.\u001B[0m\u001B[0many\u001B[0m\u001B[1;33m(\u001B[0m\u001B[1;33m)\u001B[0m\u001B[1;33m:\u001B[0m\u001B[1;33m\u001B[0m\u001B[1;33m\u001B[0m\u001B[0m\n\u001B[0;32m   5277\u001B[0m             \u001B[1;32mif\u001B[0m \u001B[0merrors\u001B[0m \u001B[1;33m!=\u001B[0m \u001B[1;34m\"ignore\"\u001B[0m\u001B[1;33m:\u001B[0m\u001B[1;33m\u001B[0m\u001B[1;33m\u001B[0m\u001B[0m\n\u001B[1;32m-> 5278\u001B[1;33m                 \u001B[1;32mraise\u001B[0m \u001B[0mKeyError\u001B[0m\u001B[1;33m(\u001B[0m\u001B[1;34mf\"{labels[mask]} not found in axis\"\u001B[0m\u001B[1;33m)\u001B[0m\u001B[1;33m\u001B[0m\u001B[1;33m\u001B[0m\u001B[0m\n\u001B[0m\u001B[0;32m   5279\u001B[0m             \u001B[0mindexer\u001B[0m \u001B[1;33m=\u001B[0m \u001B[0mindexer\u001B[0m\u001B[1;33m[\u001B[0m\u001B[1;33m~\u001B[0m\u001B[0mmask\u001B[0m\u001B[1;33m]\u001B[0m\u001B[1;33m\u001B[0m\u001B[1;33m\u001B[0m\u001B[0m\n\u001B[0;32m   5280\u001B[0m         \u001B[1;32mreturn\u001B[0m \u001B[0mself\u001B[0m\u001B[1;33m.\u001B[0m\u001B[0mdelete\u001B[0m\u001B[1;33m(\u001B[0m\u001B[0mindexer\u001B[0m\u001B[1;33m)\u001B[0m\u001B[1;33m\u001B[0m\u001B[1;33m\u001B[0m\u001B[0m\n",
      "\u001B[1;31mKeyError\u001B[0m: \"['_id'] not found in axis\""
     ]
    }
   ],
   "source": [
    "# 数据清洗\n",
    "data1 = data1.drop(columns= \"_id\")\n",
    "data1 = data1.drop(columns= \"isWatched\")\n",
    "data1['time'] = pd.to_datetime(data1['time'], format='%Y-%m-%d')\n",
    "data1 = data1[data1['time']>=pd.to_datetime('2019-02-01 00:00:00')]\n",
    "data1.set_index(data1[\"time\"], inplace=True)\n",
    "\n",
    "print(\"\\n\")\n",
    "\n",
    "data2 = data2.drop(columns='id')\n",
    "data2 = data2.drop_duplicates(subset='userId')\n",
    "data2['time'] = pd.to_datetime(data2['time'])\n",
    "\n",
    "# 若使用数据库打开数据，数据时间字段的清洗用下面语句，将上一条语句注释\n",
    "# data2['time'] = pd.to_datetime(data2['time']/1000, unit='s')\n",
    "\n",
    "data2 = data2[data2['time']>=pd.to_datetime('2019-02-01 00:00:00')]\n",
    "data2.set_index(data2[\"time\"], inplace=True)\n",
    "data1.info()\n",
    "data2.info()"
   ],
   "metadata": {
    "collapsed": false,
    "pycharm": {
     "name": "#%%\n"
    }
   }
  },
  {
   "cell_type": "markdown",
   "source": [
    "#### 一、数据详情\n",
    "- 共有500条数据；\n",
    "- 包含字段：\n",
    "1.豆瓣：ID、评论内容、评论者昵称、是否观看过、评论时间、评分、评论点赞数、评论者所在城市\n",
    "2.猫眼：评论内容、性别、评论ID、评论者昵称、回复数量、评分、时间、点赞数量、评论者ID、评论者等级\n",
    "二、问题\n",
    "1. 总体评价如何？\n",
    "2. 总体评价的时间走向如何？\n",
    "3. 高分的评价理由是什么？\n",
    "4. 低分的评价理由是什么？\n",
    "5. 低分的人群有哪些特征？（性别、等级）\n",
    "6. 低分跟哪位演员有关？"
   ],
   "metadata": {
    "collapsed": false,
    "pycharm": {
     "name": "#%% md\n"
    }
   }
  },
  {
   "cell_type": "markdown",
   "source": [
    " 1. 总体评价如何？\n"
   ],
   "metadata": {
    "collapsed": false,
    "pycharm": {
     "name": "#%% md\n"
    }
   }
  },
  {
   "cell_type": "code",
   "execution_count": null,
   "outputs": [],
   "source": [
    "print(data1['rating'].mean())   # 3.382\n",
    "print(data2[\"score\"].mean())\n",
    "\n",
    "\n",
    "score_total1 = data1['rating'].value_counts().sort_index()\n",
    "score_total2 = data2['score'].value_counts().sort_index()\n",
    "print(score_total1)\n",
    "print(score_total2)\n"
   ],
   "metadata": {
    "collapsed": false,
    "pycharm": {
     "name": "#%%\n"
    }
   }
  },
  {
   "cell_type": "code",
   "execution_count": null,
   "outputs": [],
   "source": [
    "from pyecharts.charts import Pie\n",
    "from pyecharts.charts import Bar, Grid, Line\n",
    "from pyecharts import options as opts\n",
    "from pyecharts.components import Table\n",
    "\n",
    "\n",
    "# 豆瓣：力荐=5，推荐=4，还行=3，较差=2，很差=1\n",
    "# 猫眼：力荐=9-10，推荐=7-8，还行=5-6，较差=2-4，很差=1-0\n",
    "rating_str = [\"很差\", \"较差\", \"还行\", \"推荐\", \"力荐\"]\n",
    "rating_score1 = []\n",
    "rating_score2 = [0,0,0,0,0]\n",
    "\n",
    "# print(pd.value_counts(data1[\"rating\"].values))\n",
    "\n",
    "for i in range(1,6):\n",
    "    rating_score1.append(pd.value_counts(data1[\"rating\"].values)[i])\n",
    "\n",
    "# print(pd.value_counts(data2[\"score\"]))\n",
    "for key,value in pd.value_counts(data2[\"score\"]).items():\n",
    "    # print(key,value)\n",
    "    if key == 10 or key ==9:\n",
    "        rating_score2[4] += value\n",
    "    if key == 8 or key ==7:\n",
    "        rating_score2[3] += value\n",
    "    if key == 6 or key ==5:\n",
    "        rating_score2[2] += value\n",
    "    if key == 4 or key ==3:\n",
    "        rating_score2[1] += value\n",
    "    if key == 2 or key ==1:\n",
    "        rating_score2[0] += value\n",
    "\n",
    "\n",
    "#[['很差', 43], ['较差', 55], ['还行', 172], ['推荐', 128], ['力荐', 102]]\n",
    "list_1 = [list(z) for z in zip(rating_str, rating_score1)]\n",
    "list_2 = [list(z) for z in zip(rating_str, rating_score2)]\n",
    "# print(list_2)\n",
    "# print(list_1)"
   ],
   "metadata": {
    "collapsed": false,
    "pycharm": {
     "name": "#%%\n"
    }
   }
  },
  {
   "cell_type": "code",
   "execution_count": null,
   "outputs": [],
   "source": [
    "# 展示豆瓣中评分饼图\n",
    "c1 = (\n",
    "    Pie()\n",
    "    .add(\n",
    "        \"\",\n",
    "        [['很差', 43], ['较差', 55], ['还行', 172], ['推荐', 128], ['力荐', 102]],\n",
    "        center=[\"30%\", \"45%\"],\n",
    "        radius=[60, 80],\n",
    "        label_opts=opts.LabelOpts(\n",
    "            position=\"outside\",\n",
    "            formatter=\"{a|{a}}{abg|}\\n{hr|}\\n {b|{b}: }{c}  {per|{d}%}  \",\n",
    "            background_color=\"#eee\",\n",
    "            border_color=\"#aaa\",\n",
    "            border_width=1,\n",
    "            border_radius=4,\n",
    "            rich={\n",
    "                \"a\": {\"color\": \"#999\", \"lineHeight\": 22, \"align\": \"center\"},\n",
    "                \"abg\": {\n",
    "                    \"backgroundColor\": \"#e3e3e3\",\n",
    "                    \"width\": \"100%\",\n",
    "                    \"align\": \"right\",\n",
    "                    \"height\": 22,\n",
    "                    \"borderRadius\": [4, 4, 0, 0],\n",
    "                },\n",
    "                \"hr\": {\n",
    "                    \"borderColor\": \"#aaa\",\n",
    "                    \"width\": \"100%\",\n",
    "                    \"borderWidth\": 0.5,\n",
    "                    \"height\": 0,\n",
    "                },\n",
    "                \"b\": {\"fontSize\": 16, \"lineHeight\": 33},\n",
    "                \"per\": {\n",
    "                    \"color\": \"#eee\",\n",
    "                    \"backgroundColor\": \"#334455\",\n",
    "                    \"padding\": [2, 4],\n",
    "                    \"borderRadius\": 2,\n",
    "                },\n",
    "            },\n",
    "        ),\n",
    "    )\n",
    "    .add(\n",
    "        \"\",\n",
    "        list_2,\n",
    "        center=[\"65%\", \"45%\"],\n",
    "        radius=[60, 80],\n",
    "        label_opts=opts.LabelOpts(\n",
    "            position=\"outside\",\n",
    "            formatter=\"{a|{a}}{abg|}\\n{hr|}\\n {b|{b}: }{c}  {per|{d}%}  \",\n",
    "            background_color=\"#eee\",\n",
    "            border_color=\"#aaa\",\n",
    "            border_width=1,\n",
    "            border_radius=4,\n",
    "            rich={\n",
    "                \"a\": {\"color\": \"#999\", \"lineHeight\": 22, \"align\": \"center\"},\n",
    "                \"abg\": {\n",
    "                    \"backgroundColor\": \"#e3e3e3\",\n",
    "                    \"width\": \"100%\",\n",
    "                    \"align\": \"right\",\n",
    "                    \"height\": 22,\n",
    "                    \"borderRadius\": [4, 4, 0, 0],\n",
    "                },\n",
    "                \"hr\": {\n",
    "                    \"borderColor\": \"#aaa\",\n",
    "                    \"width\": \"100%\",\n",
    "                    \"borderWidth\": 0.5,\n",
    "                    \"height\": 0,\n",
    "                },\n",
    "                \"b\": {\"fontSize\": 16, \"lineHeight\": 33},\n",
    "                \"per\": {\n",
    "                    \"color\": \"#eee\",\n",
    "                    \"backgroundColor\": \"#334455\",\n",
    "                    \"padding\": [2, 4],\n",
    "                    \"borderRadius\": 2,\n",
    "                },\n",
    "            },\n",
    "        ),\n",
    "    )\n",
    "    .set_global_opts(\n",
    "        title_opts=opts.TitleOpts(title=\"Rating_Pie\"),\n",
    "        legend_opts=opts.LegendOpts(orient=\"vertical\", pos_top=\"15%\", pos_left=\"2%\"),\n",
    "    )\n",
    "    .set_series_opts(label_opts=opts.LabelOpts(formatter=\"{b}: {c}\"))\n",
    "    .render(\"./Charts_html/Rating_Pie.html\")\n",
    ")\n",
    "print(1)"
   ],
   "metadata": {
    "collapsed": false,
    "pycharm": {
     "name": "#%%\n"
    }
   }
  },
  {
   "cell_type": "code",
   "execution_count": null,
   "outputs": [],
   "source": [
    "list_ = [43, 55, 172, 128, 102]\n",
    "# 展示豆瓣中评分折线图\n",
    "bar = (\n",
    "    Bar()\n",
    "    .add_xaxis(rating_str)\n",
    "    .add_yaxis(\"豆瓣\", list_)\n",
    "    .add_yaxis(\"猫眼\", rating_score2)\n",
    "    .set_global_opts(title_opts=opts.TitleOpts(title=\"评分分布柱状图\"))\n",
    ")\n",
    "line = (\n",
    "    Line()\n",
    "    .add_xaxis(rating_str)\n",
    "    .add_yaxis(\"豆瓣\", list_)\n",
    "    .add_yaxis(\"猫眼\", rating_score2)\n",
    "    .set_global_opts(\n",
    "        title_opts=opts.TitleOpts(title=\"评分分布折线图\", pos_top=\"48%\"),\n",
    "        legend_opts=opts.LegendOpts(pos_top=\"48%\"),\n",
    "    )\n",
    ")\n",
    "\n",
    "grid = (\n",
    "    Grid()\n",
    "    .add(bar, grid_opts=opts.GridOpts(pos_bottom=\"60%\"))\n",
    "    .add(line, grid_opts=opts.GridOpts(pos_top=\"60%\"))\n",
    "    .render(\"./Charts_html/Rating_line_bar.html\")\n",
    ")\n",
    "\n",
    "print(1)"
   ],
   "metadata": {
    "collapsed": false,
    "pycharm": {
     "name": "#%%\n"
    }
   }
  },
  {
   "cell_type": "markdown",
   "source": [
    "##### 2. 总体评价的时间走向如何？"
   ],
   "metadata": {
    "collapsed": false,
    "pycharm": {
     "name": "#%% md\n"
    }
   }
  },
  {
   "cell_type": "code",
   "execution_count": null,
   "outputs": [],
   "source": [
    "\n",
    "score_by_time1 = data1['rating'].resample('D').mean()\n",
    "score_by_time2 = data2['score'].resample('D').mean()\n",
    "\n",
    "\n",
    "\n",
    "douban_time = []\n",
    "douban_score = []\n",
    "for time,score in score_by_time1.items():\n",
    "    douban_time.append(time)\n",
    "    douban_score.append(score)\n",
    "\n",
    "\n",
    "maoyan_time = []\n",
    "maoyan_score = []\n",
    "for time,score in score_by_time2.items():\n",
    "    maoyan_time.append(time)\n",
    "    maoyan_score.append(score)\n",
    "\n",
    "# print(score_by_time1)\n",
    "# print(score_by_time2)\n",
    "\n",
    "\n",
    "c1 = (\n",
    "    Bar()\n",
    "    .add_xaxis(maoyan_time)\n",
    "    .add_yaxis(\"猫眼评论\", maoyan_score)\n",
    "    .set_global_opts(\n",
    "        title_opts=opts.TitleOpts(title=\"猫眼评分随时间变化图\"),\n",
    "        datazoom_opts=[opts.DataZoomOpts()],\n",
    "    )\n",
    "    .render(\"./Charts_html/Score_by_time_maoyan.html\")\n",
    ")\n",
    "\n",
    "c2 = (\n",
    "    Bar()\n",
    "    .add_xaxis(douban_time)\n",
    "    .add_yaxis(\"豆瓣评论\", douban_score)\n",
    "    .set_global_opts(\n",
    "        title_opts=opts.TitleOpts(title=\"豆瓣评分随时间变化图\"),\n",
    "        datazoom_opts=[opts.DataZoomOpts()],\n",
    "    )\n",
    "    .render(\"./Charts_html/Score_by_time_douban.html\")\n",
    ")\n",
    "\n",
    "print(1)\n",
    "\n",
    "\n"
   ],
   "metadata": {
    "collapsed": false,
    "pycharm": {
     "name": "#%%\n"
    }
   }
  },
  {
   "cell_type": "code",
   "execution_count": null,
   "outputs": [],
   "source": [
    "from pyecharts import options as opts\n",
    "from pyecharts.charts import Map\n",
    "from pyecharts.faker import Faker\n",
    "import re\n",
    "\n",
    "pattern = re.compile('[湖南|湖北|广东|广西|河南|河北|山东|山西|江苏|浙江|江西|黑龙江|'\n",
    "                     '新疆|云南|贵州|福建|吉林|安徽四川|西藏|宁夏|辽宁|青海|'\n",
    "                     '甘肃|陕西|内蒙古||台湾|北京|上海|天津]+')\n",
    "\n",
    "\n",
    "info = data1['city'].value_counts()\n",
    "province = info.keys()\n",
    "amount = info.values\n",
    "\n",
    "result = []\n",
    "\n",
    "provinces = ['湖南', '湖北', '广东', '广西', '河南', '河北', '山东', '山西', '江苏', '浙江', '江西', '黑龙江', '新疆', '云南', '贵州', '福建', '吉林', '安徽', '四川', '西藏', '宁夏', '辽宁', '青海', '甘肃', '陕西', '内蒙古', '台湾', '北京', '上海', '天津']\n",
    "temp_amount = []\n",
    "temp_province = []\n",
    "\n",
    "\n",
    "for i in range(len(province)):\n",
    "    if pattern.findall(province[i]) != []:\n",
    "        if pattern.findall(province[i])[0][:2] in temp_province:\n",
    "            index = temp_province.index(pattern.findall(province[i])[0][:2])\n",
    "            temp_amount[index] += int(amount[i])\n",
    "        else:\n",
    "            temp_province.append(pattern.findall(province[i])[0][:2])\n",
    "            temp_amount.append(int(amount[i]))\n",
    "        # result.append(temp)\n",
    "\n",
    "result = [list(z) for z in zip(temp_province, temp_amount)]\n",
    "\n",
    "\n",
    "c = (\n",
    "    Map()\n",
    "    .add(\"评论人数\", result, \"china\")\n",
    "    .set_global_opts(\n",
    "        visualmap_opts=opts.VisualMapOpts(max_=150, is_piecewise=True),\n",
    "        title_opts=opts.TitleOpts(title=\"评论人数分布图\"),\n",
    "    )\n",
    "    .render(\"./Charts_html/Map_amount.html\")\n",
    ")\n"
   ],
   "metadata": {
    "collapsed": false,
    "pycharm": {
     "name": "#%%\n"
    }
   }
  },
  {
   "cell_type": "code",
   "execution_count": null,
   "outputs": [],
   "source": [
    "# 绘图需要导入的包\n",
    "\n",
    "from pyecharts.charts import Scatter\n",
    "from pyecharts.charts import Grid, Liquid, Page, Tab\n",
    "from pyecharts.commons.utils import JsCode\n",
    "from pyecharts.globals import ThemeType"
   ],
   "metadata": {
    "collapsed": false,
    "pycharm": {
     "name": "#%%\n"
    }
   }
  },
  {
   "cell_type": "code",
   "execution_count": null,
   "outputs": [],
   "source": [
    "rating = data1['rating'].values\n",
    "likes = data1['likes'].values\n",
    "likes_new = [0, 0, 0, 0, 0]\n",
    "sum = 0\n",
    "\n",
    "\n",
    "# 按评分统计点赞人数\n",
    "for i in range(len(rating)):\n",
    "    if int(rating[i]) == 1:\n",
    "        likes_new[0] += int(likes[i])\n",
    "    elif int(rating[i]) == 2:\n",
    "        likes_new[1] += int(likes[i])\n",
    "    elif int(rating[i]) == 3:\n",
    "        likes_new[2] += int(likes[i])\n",
    "    elif int(rating[i]) == 4:\n",
    "        likes_new[3] += int(likes[i])\n",
    "    else:\n",
    "        likes_new[4] += int(likes[i])\n",
    "\n",
    "for j in range(len(likes_new)):\n",
    "    sum += likes_new[j]\n",
    "\n",
    "favorate_rate = (likes_new[3] + likes_new[4]) / sum\n",
    "poor_rate = (likes_new[0] + likes_new[1]) / sum\n",
    "# print(type(favorate_rate), type(poor_rate))\n",
    "\n",
    "# print(likes_new)\n",
    "def scatter_rating_likes() -> Scatter:\n",
    "    c = (\n",
    "        Scatter()\n",
    "        .add_xaxis(range(1,6))\n",
    "        .add_yaxis(\"点赞数\", likes_new)\n",
    "        .set_global_opts(\n",
    "            title_opts=opts.TitleOpts(title=\"评分-点赞图\"),\n",
    "            visualmap_opts=opts.VisualMapOpts(type_=\"size\", max_=100000, min_=20000),\n",
    "        )\n",
    "    )\n",
    "    return c\n",
    "\n",
    "def grid_liquid_favorate_rate() -> Grid:\n",
    "    l1 = (\n",
    "        Liquid().\n",
    "        add(\n",
    "        \"好评率\",\n",
    "        [favorate_rate],\n",
    "        center=[\"60%\", \"50%\"],\n",
    "        label_opts=opts.LabelOpts(\n",
    "            font_size=50,\n",
    "            formatter=JsCode(\n",
    "                \"\"\"function (param) {\n",
    "                        return (Math.floor(param.value * 10000) / 100) + '%';\n",
    "                    }\"\"\"\n",
    "             ),\n",
    "            position=\"inside\",\n",
    "            ),\n",
    "        )\n",
    "        .set_global_opts(title_opts=opts.TitleOpts(title=\"好评率和差评率\"))\n",
    "    )\n",
    "\n",
    "    l2 = (\n",
    "        Liquid().\n",
    "        add(\n",
    "        \"差评率\",\n",
    "        [poor_rate],\n",
    "        center=[\"25%\", \"50%\"],\n",
    "        label_opts=opts.LabelOpts(\n",
    "            font_size=50,\n",
    "            formatter=JsCode(\n",
    "                \"\"\"function (param) {\n",
    "                        return (Math.floor(param.value * 10000) / 100) + '%';\n",
    "                    }\"\"\"\n",
    "             ),\n",
    "            position=\"inside\",\n",
    "            ),\n",
    "        )\n",
    "    )\n",
    "\n",
    "    grid = Grid().add(l1, grid_opts=opts.GridOpts()).add(l2, grid_opts=opts.GridOpts())\n",
    "    return grid\n",
    "\n",
    "# grid.render(\"./charts_html/scatter_rating_likes.html\")\n",
    "def page_layout():\n",
    "    page = Page()\n",
    "    page.add(\n",
    "        scatter_rating_likes(),\n",
    "        grid_liquid_favorate_rate()\n",
    "    )\n",
    "    page.render(\"./Charts_html/Rating_likes.html\")\n",
    "\n",
    "if __name__ == \"__main__\":\n",
    "    page_layout()"
   ],
   "metadata": {
    "collapsed": false,
    "pycharm": {
     "name": "#%%\n"
    }
   }
  },
  {
   "cell_type": "markdown",
   "source": [
    "### 文本情感分析：\n",
    "##### 3. 高分的评价理由是什么？"
   ],
   "metadata": {
    "collapsed": false,
    "pycharm": {
     "name": "#%% md\n"
    }
   }
  },
  {
   "cell_type": "code",
   "execution_count": null,
   "outputs": [],
   "source": [
    "import jieba\n",
    "from collections import Counter\n",
    "from pyecharts.charts import WordCloud\n",
    "from pyecharts.globals import SymbolType\n",
    "\n",
    "jieba.add_word('屈楚萧')\n",
    "jieba.add_word('刘启')\n",
    "jieba.add_word('吴京')\n",
    "jieba.add_word('刘培强')\n",
    "jieba.add_word('李光洁')\n",
    "jieba.add_word('王磊')\n",
    "jieba.add_word('吴孟达')\n",
    "jieba.add_word('达叔')\n",
    "jieba.add_word('韩子昂')\n",
    "jieba.add_word('赵今麦')\n",
    "jieba.add_word('韩朵朵')\n",
    "\n",
    "swords = [x.strip() for x in open ('stopwords.txt', encoding=\"utf-8\")]\n",
    "\n",
    "print(swords)"
   ],
   "metadata": {
    "collapsed": false,
    "pycharm": {
     "name": "#%%\n"
    }
   }
  },
  {
   "cell_type": "code",
   "execution_count": null,
   "outputs": [],
   "source": [
    "import re\n",
    "pattern = re.compile('[^\\d]+')\n",
    "\n",
    "def plot_word_cloud_maoyan(data, swords, path):\n",
    "    # print(data['content'])\n",
    "    # 2019-02-11 10:10:00\n",
    "    text = ''\n",
    "    # print(type(data['content'].values[99]), data['content'].values[299])\n",
    "    # 将所有评论连接起来\n",
    "\n",
    "    for temp_i in data['content']:\n",
    "        text += str(temp_i)\n",
    "\n",
    "    words = list(jieba.cut(text))\n",
    "    ex_sw_words = []\n",
    "    for word in words:\n",
    "        if len(word)>1 and (word not in swords):\n",
    "            ex_sw_words.append(word)\n",
    "    c = Counter()\n",
    "    c = Counter(ex_sw_words)\n",
    "    wc_data = pd.DataFrame({'word':list(c.keys()), 'counts':list(c.values())}).sort_values(by='counts', ascending=False).head(100)\n",
    "    # print(wc_data)\n",
    "\n",
    "    c = (\n",
    "    WordCloud()\n",
    "    .add(\"\", wc_data.values, word_size_range=[20, 100], shape=SymbolType.DIAMOND)\n",
    "    .set_global_opts(title_opts=opts.TitleOpts(title=path))\n",
    "    .render(\"./Charts_html/Maoyan_\" + path + \".html\")\n",
    "    )\n",
    "\n",
    "\n",
    "def plot_word_cloud_douban(data, swords, path):\n",
    "    text = ''.join(data['comment'])\n",
    "    words = list(jieba.cut(text))\n",
    "    ex_sw_words = []\n",
    "    for word in words:\n",
    "        if len(word)>1 and (word not in swords):\n",
    "            ex_sw_words.append(word)\n",
    "    c = Counter()\n",
    "    c = Counter(ex_sw_words)\n",
    "    wc_data = pd.DataFrame({'word':list(c.keys()), 'counts':list(c.values())}).sort_values(by='counts', ascending=False).head(100)\n",
    "    print(wc_data)\n",
    "\n",
    "    c = (\n",
    "    WordCloud()\n",
    "    .add(\"\", wc_data.values, word_size_range=[20, 100], shape=SymbolType.DIAMOND)\n",
    "    .set_global_opts(title_opts=opts.TitleOpts(title=path))\n",
    "    .render(\"./Charts_html/Douban_\" + path + \".html\")\n",
    "    )"
   ],
   "metadata": {
    "collapsed": false,
    "pycharm": {
     "name": "#%%\n"
    }
   }
  },
  {
   "cell_type": "code",
   "execution_count": null,
   "outputs": [],
   "source": [
    "# 绘制豆瓣的评价的词云\n",
    "# 高分\n",
    "plot_word_cloud_douban(data=data1[data1['rating']>=4], swords=swords, path=\"Worldcloud_favorate\")\n",
    "# 低分\n",
    "plot_word_cloud_douban(data=data1[data1['rating']<=2], swords=swords, path=\"Worldcloud_poor\")"
   ],
   "metadata": {
    "collapsed": false,
    "pycharm": {
     "name": "#%%\n"
    }
   }
  },
  {
   "cell_type": "code",
   "execution_count": null,
   "outputs": [],
   "source": [
    "# 豆瓣高分的部分评论\n",
    "data1[data1['rating']>3]"
   ],
   "metadata": {
    "collapsed": false,
    "pycharm": {
     "name": "#%%\n"
    }
   }
  },
  {
   "cell_type": "code",
   "execution_count": null,
   "outputs": [],
   "source": [
    "# 豆瓣低分的部分评论\n",
    "data1[data1['rating']<3]"
   ],
   "metadata": {
    "collapsed": false,
    "pycharm": {
     "name": "#%%\n"
    }
   }
  },
  {
   "cell_type": "code",
   "execution_count": null,
   "outputs": [],
   "source": [
    "# 豆瓣高分评论\n",
    "# 数量过多，需要解除注释即可查看\n",
    "# for i in data1[data1['rating']>3]['comment']:\n",
    "#     print(i+'\\n')"
   ],
   "metadata": {
    "collapsed": false,
    "pycharm": {
     "name": "#%%\n"
    }
   }
  },
  {
   "cell_type": "code",
   "execution_count": null,
   "outputs": [],
   "source": [
    "# 豆瓣低分评论\n",
    "# for i in data1[data1['rating']<3]['comment']:\n",
    "#     print(i+'\\n')"
   ],
   "metadata": {
    "collapsed": false,
    "pycharm": {
     "name": "#%%\n"
    }
   }
  },
  {
   "cell_type": "code",
   "execution_count": null,
   "outputs": [],
   "source": [
    "# 绘制猫眼的评价的词云\n",
    "# 高分\n",
    "# import re\n",
    "# pattern1 = re.compile('[^\\d]+')\n",
    "\n",
    "# 以下列第一种形式即可获得评论的字符串\n",
    "# print(type(data2[data2['score']>7]['content'][3003]))\n",
    "# print(pattern1.findall(data2[data2['score']>7]['content'][3003]))\n",
    "\n",
    "plot_word_cloud_maoyan(data=data2[data2['score']>7], swords=swords, path=\"Worldcloud_favorate\")\n",
    "# 低分\n",
    "plot_word_cloud_maoyan(data=data2[data2['score']<4], swords=swords, path=\"Worldcloud_poor\")"
   ],
   "metadata": {
    "collapsed": false,
    "pycharm": {
     "name": "#%%\n"
    }
   }
  },
  {
   "cell_type": "code",
   "execution_count": null,
   "outputs": [],
   "source": [
    "# 猫眼高分的部分评论\n",
    "data2[data2['score']>7]\n"
   ],
   "metadata": {
    "collapsed": false,
    "pycharm": {
     "name": "#%%\n"
    }
   }
  },
  {
   "cell_type": "code",
   "execution_count": null,
   "outputs": [],
   "source": [
    "# 猫眼低分的部分评论\n",
    "data2[data2['score']<4]"
   ],
   "metadata": {
    "collapsed": false,
    "pycharm": {
     "name": "#%%\n"
    }
   }
  },
  {
   "cell_type": "code",
   "execution_count": null,
   "outputs": [],
   "source": [
    "# # 猫眼高分评论\n",
    "# 数量过多，需要解除注释即可查看\n",
    "# for i in data2[data2['score']>7]['content']:\n",
    "#     print(i+'\\n')"
   ],
   "metadata": {
    "collapsed": false,
    "pycharm": {
     "name": "#%%\n"
    }
   }
  },
  {
   "cell_type": "code",
   "execution_count": null,
   "outputs": [],
   "source": [
    "# # 猫眼低分评论\n",
    "# for i in data2[data2['score']<4]['content']:\n",
    "#     print(i+'\\n')"
   ],
   "metadata": {
    "collapsed": false,
    "pycharm": {
     "name": "#%%\n"
    }
   }
  },
  {
   "cell_type": "markdown",
   "source": [
    "#### 5. 评分的人群有哪些特征？（性别、等级）"
   ],
   "metadata": {
    "collapsed": false,
    "pycharm": {
     "name": "#%% md\n"
    }
   }
  },
  {
   "cell_type": "markdown",
   "source": [
    "##### 1). 评分和性别及等级的关系(都只有在猫眼中才有)"
   ],
   "metadata": {
    "collapsed": false,
    "pycharm": {
     "name": "#%% md\n"
    }
   }
  },
  {
   "cell_type": "code",
   "execution_count": null,
   "outputs": [],
   "source": [
    "# 评分和性别的关系\n",
    "# 0代表未知，1代表男，2代表女\n",
    "\n",
    "# 获得总体各个性别的个数\n",
    "gender_total_maoyan = data2['gender'].value_counts().values\n",
    "# print(gender_total_maoyan.values)\n",
    "\n",
    "# 获得低分各个性别的个数\n",
    "gender_low_maoyan = data2.loc[data2['score']<4, 'gender'].value_counts().values\n",
    "\n",
    "# 获得低分各个性别的个数\n",
    "gender_high_maoyan = data2.loc[data2['score']>7, 'gender'].value_counts().values\n",
    "\n",
    "# print(data2['gender'].value_counts())\n",
    "\n",
    "# 将对应性别个数转换为int类型\n",
    "total_sex = []\n",
    "for i in gender_total_maoyan:\n",
    "    total_sex.append(int(i))\n",
    "\n",
    "# 将低分对应性别个数转换为int类型\n",
    "low_sex = []\n",
    "for j in gender_low_maoyan:\n",
    "    low_sex.append(int(j))\n",
    "# 数据库中猫眼低分评论只有3条，2条没有说明性别，1条为男性,因此添加女性数为0\n",
    "# low_sex.append(0)\n",
    "\n",
    "# 将高分对应性别个数转换为int类型\n",
    "high_sex = []\n",
    "for k in gender_high_maoyan:\n",
    "    high_sex.append(int(k))\n",
    "\n",
    "sum1 = total_sex[1] + total_sex[2]\n",
    "sum2 = high_sex[1] + high_sex[2]\n",
    "sum3 = low_sex[1] + low_sex[2]\n",
    "\n",
    "# 将未知人数去掉并且求得每一种男女所占比例\n",
    "total_sex_per = [round(total_sex[1]/sum1 * 100, 2), round(total_sex[2]/sum1 * 100, 2)]\n",
    "high_sex_per = [round(high_sex[1]/sum2 * 100, 2), round(high_sex[2]/sum2 * 100, 2)]\n",
    "low_sex_per = [round(low_sex[1]/sum3 * 100, 2), round(low_sex[2]/sum3 * 100, 2)]\n",
    "# low_per = [low_sex[1]/sum3, low_sex[2]/sum3]\n",
    "# print(total_sex,high_per,low_sex)\n"
   ],
   "metadata": {
    "collapsed": false,
    "pycharm": {
     "name": "#%%\n"
    }
   }
  },
  {
   "cell_type": "code",
   "execution_count": null,
   "outputs": [],
   "source": [
    "# 评分和等级的关系\n",
    "\n",
    "# 获得总体各个等级的个数\n",
    "level_total_maoyan = data2['userLevel'].value_counts().sort_index().values\n",
    "# print(gender_total_maoyan.values)\n",
    "\n",
    "# 获得低分各个等级的个数\n",
    "level_low_maoyan = data2.loc[data2['score']<4, 'userLevel'].value_counts().sort_index().values\n",
    "\n",
    "# 获得高分各个等级的个数\n",
    "level_high_maoyan = data2.loc[data2['score']>7, 'userLevel'].value_counts().sort_index().values\n",
    "\n",
    "# 用于查看用户等级和人数\n",
    "# print(data2['userLevel'].value_counts().sort_index())\n",
    "# print(data2.loc[data2['score']<4, 'userLevel'].value_counts().sort_index())\n",
    "# print(data2.loc[data2['score']>7, 'userLevel'].value_counts().sort_index())\n",
    "# print(level_high_maoyan,level_low_maoyan,level_total_maoyan)\n",
    "\n",
    "# 将对应等级个数转换为int类型\n",
    "total_level = []\n",
    "for i in level_total_maoyan:\n",
    "    total_level.append(int(i))\n",
    "\n",
    "# 将低分对应等级个数转换为int类型\n",
    "low_level = []\n",
    "for j in level_low_maoyan:\n",
    "    low_level.append(int(j))\n",
    "# 数据库中猫眼低分评论没有1，3，4级的用户,因此令对应等级的人数为0\n",
    "\n",
    "\n",
    "# 将高分对应等级个数转换为int类型\n",
    "high_level = []\n",
    "for k in level_high_maoyan:\n",
    "    high_level.append(int(k))\n",
    "\n",
    "sum1 = 0\n",
    "sum2 = 0\n",
    "sum3 = 0\n",
    "\n",
    "# 计算总体，高分，低分不同等级的总人数\n",
    "for i in range(len(total_level)):\n",
    "    sum1 += total_level[i]\n",
    "    sum2 += high_level[i]\n",
    "    sum3 += low_level[i]\n",
    "\n",
    "total_level_per = []\n",
    "high_level_per = []\n",
    "low_level_per = []\n",
    "\n",
    "# 求各个等级的所占比例\n",
    "for i in range(len(total_level)):\n",
    "\n",
    "    total_level_per.append(round(total_level[i]/sum1 * 100, 2))\n",
    "    high_level_per.append(round(high_level[i]/sum2 * 100, 2))\n",
    "    low_level_per.append(round(low_level[i]/sum3 * 100, 2))\n",
    "\n",
    "# print(total_level_per, high_level_per, low_level_per)\n"
   ],
   "metadata": {
    "collapsed": false,
    "pycharm": {
     "name": "#%%\n"
    }
   }
  },
  {
   "cell_type": "code",
   "execution_count": null,
   "outputs": [],
   "source": [
    "# 绘制《流浪地球》观众性别，等级条形图和饼图\n",
    "\n",
    "# 绘制性别分布条形图\n",
    "def sex_distribution_bar() -> Bar:\n",
    "    bar = (\n",
    "        Bar()\n",
    "        .add_xaxis(['未知', '男', '女'])\n",
    "        .add_yaxis(\"总体性别分布\", total_sex)\n",
    "        .add_yaxis(\"高分性别分布\", high_sex)\n",
    "        .add_yaxis(\"低分性别分布\", low_sex)\n",
    "        .set_global_opts(title_opts=opts.TitleOpts(title=\"观众性别分布条形图\"))\n",
    "    )\n",
    "    return bar\n",
    "\n",
    "# 绘制性别分布饼图\n",
    "def sex_distribution_pie() -> Pie:\n",
    "    fn = \"\"\"\n",
    "        function(params) {\n",
    "            if(params.name == '女')\n",
    "                return '\\\\n\\\\n\\\\n' + params.name + ' : ' + params.value + '%';\n",
    "            return params.name + ' : ' + params.value + '%';\n",
    "        }\n",
    "        \"\"\"\n",
    "\n",
    "    def new_label_opts():\n",
    "        return opts.LabelOpts(formatter=JsCode(fn), position=\"center\")\n",
    "\n",
    "    pie = (\n",
    "        Pie()\n",
    "        .add(\n",
    "            \"\",\n",
    "            [list(z) for z in zip(['男', '女'], total_sex_per)],\n",
    "            center=[\"15%\", \"30%\"],\n",
    "            radius=[60, 80],\n",
    "            label_opts=new_label_opts(),\n",
    "        )\n",
    "        .add(\n",
    "            \"\",\n",
    "            [list(z) for z in zip(['男', '女'], high_sex_per)],\n",
    "            center=[\"40%\", \"30%\"],\n",
    "            radius=[60, 80],\n",
    "            label_opts=new_label_opts(),\n",
    "        )\n",
    "        .add(\n",
    "            \"\",\n",
    "            [list(z) for z in zip(['男', '女'], low_sex_per)],        #没有女性特殊处理\n",
    "            center=[\"65%\", \"30%\"],\n",
    "            radius=[60, 80],\n",
    "            label_opts=new_label_opts(),\n",
    "        )\n",
    "        .set_global_opts(\n",
    "            title_opts=opts.TitleOpts(title=\"观众性别分布饼图\"),\n",
    "            legend_opts=opts.LegendOpts(\n",
    "                type_=\"scroll\", pos_top=\"20%\", pos_left=\"80%\", orient=\"vertical\"\n",
    "            ),\n",
    "        )\n",
    "    )\n",
    "\n",
    "    return pie\n",
    "\n",
    "# 查看数据格式\n",
    "# print([list(z) for z in zip(['男', '女'], low_sex_per)])\n",
    "# print([list(z) for z in zip(['0', '1', '2', '3', '4', '5', '6'], total_level_per)])\n",
    "\n",
    "# 绘制等级分布条形图\n",
    "def level_distribution_bar() -> Bar:\n",
    "    bar = (\n",
    "        Bar()\n",
    "        .add_xaxis([0, 1, 2, 3, 4, 5, 6])\n",
    "        .add_yaxis(\"总体等级分布\", total_level)\n",
    "        .add_yaxis(\"高分等级分布\", high_level)\n",
    "        .add_yaxis(\"低分等级分布\", low_level)\n",
    "        .set_global_opts(title_opts=opts.TitleOpts(title=\"观众等级分布条形图\"))\n",
    "    )\n",
    "    return bar\n",
    "\n",
    "# 绘制等级分布饼图\n",
    "def level_distribution_pie() -> Pie:\n",
    "    fn = \"\"\"\n",
    "        function(params) {\n",
    "            if(params.name == '5')\n",
    "                return '\\\\n\\\\n\\\\n\\\\n\\\\n\\\\n\\\\n\\\\n\\\\n' + params.name + ' : ' + params.value + '%';\n",
    "            if(params.name == '4')\n",
    "                return '\\\\n\\\\n\\\\n\\\\n\\\\n\\\\n\\\\n' + params.name + ' : ' + params.value + '%';\n",
    "            if(params.name == '3')\n",
    "                return '\\\\n\\\\n\\\\n\\\\n\\\\n' + params.name + ' : ' + params.value + '%';\n",
    "            if(params.name == '2')\n",
    "                return '\\\\n\\\\n\\\\n' + params.name + ' : ' + params.value + '%';\n",
    "            if(params.name == '1')\n",
    "                return '\\\\n' + params.name + ' : ' + params.value + '%';\n",
    "            if(params.name == '0' || params.name == '6')\n",
    "                return ' ';\n",
    "\n",
    "        }\n",
    "        \"\"\"\n",
    "\n",
    "    def new_label_opts():\n",
    "        return opts.LabelOpts(formatter=JsCode(fn), position=\"center\")\n",
    "\n",
    "    # 绘制饼图的时候1，2，3，4类型要是字符串类型\n",
    "    pie = (\n",
    "        Pie()\n",
    "        .add(\n",
    "            \"\",\n",
    "            [list(z) for z in zip(['0', '1', '2', '3', '4', '5', '6'], total_level_per)],\n",
    "            center=[\"15%\", \"30%\"],\n",
    "            radius=[80, 100],\n",
    "            label_opts=new_label_opts(),\n",
    "        )\n",
    "        .add(\n",
    "            \"\",\n",
    "            [list(z) for z in zip(['0', '1', '2', '3', '4', '5', '6'], high_level_per)],\n",
    "            center=[\"40%\", \"30%\"],\n",
    "            radius=[80, 100],\n",
    "            label_opts=new_label_opts(),\n",
    "        )\n",
    "        .add(\n",
    "            \"\",\n",
    "            [list(z) for z in zip(['0', '1', '2', '3', '4', '5', '6'], low_level_per)],        #没有女性特殊处理\n",
    "            center=[\"65%\", \"30%\"],\n",
    "            radius=[80, 100],\n",
    "            label_opts=new_label_opts(),\n",
    "        )\n",
    "        .set_global_opts(\n",
    "            title_opts=opts.TitleOpts(title=\"观众等级分布饼图\"),\n",
    "            legend_opts=opts.LegendOpts(\n",
    "                type_=\"scroll\", pos_top=\"20%\", pos_left=\"80%\", orient=\"vertical\"\n",
    "            ),\n",
    "        )\n",
    "    )\n",
    "\n",
    "    return pie\n",
    "\n",
    "\n",
    "# 将条形图和饼图放在一起展示\n",
    "def page_layout1() -> Page:\n",
    "    page = Page(layout=Page.SimplePageLayout)\n",
    "    page.add(\n",
    "        sex_distribution_bar(),\n",
    "        sex_distribution_pie()\n",
    "\n",
    "    )\n",
    "    page.render(\"./Charts_html/Sex_distribution.html\")\n",
    "    return  page\n",
    "\n",
    "\n",
    "def page_layout2() -> Page:\n",
    "    page = Page(layout=Page.SimplePageLayout)\n",
    "    page.add(\n",
    "        level_distribution_bar(),\n",
    "        level_distribution_pie()\n",
    "\n",
    "    )\n",
    "    page.render(\"./Charts_html/Level_distribution.html\")\n",
    "    return  page\n",
    "\n",
    "\n",
    "\n",
    "if __name__ == \"__main__\":\n",
    "    page_layout1()\n",
    "    page_layout2()\n",
    "\n",
    "# tab = Tab()\n",
    "# tab.add(page_layout1(), \"《流浪地球》观众性别分布\")\n",
    "# tab.add(page_layout2(), \"《流浪地球》观众等级分布\")\n",
    "# tab.add(sex_distribution_bar(), \"《流浪地球》观众性别分布条形图\")\n",
    "# tab.add(sex_distribution_pie(), \"《流浪地球》观众性别分布饼图\")\n",
    "# tab.add(level_distribution_bar(), \"《流浪地球》观众等级分布条形图\")\n",
    "# tab.add(level_distribution_pie(), \"《流浪地球》观众等级分布饼图\")\n",
    "\n",
    "# tab.render(\"./charts_html/Sex_Level_distribution.html\")"
   ],
   "metadata": {
    "collapsed": false,
    "pycharm": {
     "name": "#%%\n"
    }
   }
  },
  {
   "cell_type": "markdown",
   "source": [
    "##### 6. 高低分跟哪位演员有关？"
   ],
   "metadata": {
    "collapsed": false
   }
  },
  {
   "cell_type": "code",
   "execution_count": null,
   "outputs": [],
   "source": [
    "# 将演员真名，真名绰号，角色绰号和电影角色名做一个映射\n",
    "mapping = {'liucixin':'刘慈欣|大刘', 'guofan':'郭帆', 'quchuxiao':'屈楚萧|刘启|户口|男主', 'wujing':'吴京|刘培强|战狼',\n",
    "           'liguangjie':'李光洁|王磊', 'wumengda':'吴孟达|达叔|韩子昂', 'zhaojinmai':'赵今麦|韩朵朵|女主'}\n",
    "\n",
    "# 将演员名字的拼音作为数据的新字段，若该条记录出现了该演员，则将其名字的拼音对应为true\n",
    "for key, value in mapping.items():\n",
    "    data2[key] = data2['content'].str.contains(value)"
   ],
   "metadata": {
    "collapsed": false,
    "pycharm": {
     "name": "#%%\n"
    }
   }
  },
  {
   "cell_type": "code",
   "execution_count": null,
   "outputs": [],
   "source": [
    "# 节约栈空间\n",
    "# data2.info"
   ],
   "metadata": {
    "collapsed": false,
    "pycharm": {
     "name": "#%%\n"
    }
   }
  },
  {
   "cell_type": "markdown",
   "source": [
    "### 总体提及次数"
   ],
   "metadata": {
    "collapsed": false,
    "pycharm": {
     "name": "#%% md\n"
    }
   }
  },
  {
   "cell_type": "code",
   "execution_count": null,
   "outputs": [],
   "source": [
    "# 将对应的人名拼音和在数据中的出现次数形成字典\n",
    "\n",
    "# 因为数据存在Nah值，无法处理，因此pd.Series({key: data.loc[data[key], 'score']无法使用，但是使用分数≥0也可以做到相同效果\n",
    "staff_count = pd.Series({key: data2.loc[data2[key]&(data2['score']>=0), 'score'].count() for key in mapping.keys()}).sort_index()\n",
    "staff_count"
   ],
   "metadata": {
    "collapsed": false,
    "pycharm": {
     "name": "#%%\n"
    }
   }
  },
  {
   "cell_type": "code",
   "execution_count": null,
   "outputs": [],
   "source": [
    "# 求低分评论中出现的演员名及其个数\n",
    "staff_count_low = pd.Series({key: data2.loc[data2[key]&(data2['score']<4), 'score'].count() for key in mapping.keys()}).sort_index()\n",
    "staff_count_low"
   ],
   "metadata": {
    "collapsed": false,
    "pycharm": {
     "name": "#%%\n"
    }
   }
  },
  {
   "cell_type": "code",
   "execution_count": null,
   "outputs": [],
   "source": [
    "# 求高分评论中出现的演员名及其个数\n",
    "staff_count_high = pd.Series({key: data2.loc[data2[key]&(data2['score']>7), 'score'].count() for key in mapping.keys()}).sort_index()\n",
    "staff_count_high"
   ],
   "metadata": {
    "collapsed": false,
    "pycharm": {
     "name": "#%%\n"
    }
   }
  },
  {
   "cell_type": "code",
   "execution_count": null,
   "outputs": [],
   "source": [
    "# 演员在低分评论的提及次数 占 所有评论中该演员的提及次数\n",
    "staff_count_pct1 = np.round(staff_count_low/staff_count*100, 2).sort_index()\n",
    "staff_count_pct1"
   ],
   "metadata": {
    "collapsed": false,
    "pycharm": {
     "name": "#%%\n"
    }
   }
  },
  {
   "cell_type": "code",
   "execution_count": null,
   "outputs": [],
   "source": [
    "# 演员在高分评论的提及次数 占 所有评论中该演员的提及次数\n",
    "staff_count_pct2 = np.round(staff_count_high/staff_count*100, 2).sort_index()\n",
    "staff_count_pct2"
   ],
   "metadata": {
    "collapsed": false,
    "pycharm": {
     "name": "#%%\n"
    }
   }
  },
  {
   "cell_type": "code",
   "source": [
    "# 绘制演员在低分/高分评论的提及次数 占 所有评论中该演员的提及次数的柱状图\n",
    "\n",
    "from pyecharts.globals import ThemeType\n",
    "# 所有演员以下列顺序出现\n",
    "# ['guofan', 'liguangjie', 'liucixin', 'quchuxiao', 'wujing', 'wumengda','zhaojinmai']\n",
    "\n",
    "# 存放演员的总出现次数\n",
    "count1 = []\n",
    "# 存放好评中演员的总出现次数\n",
    "count2 = []\n",
    "# 存放差评中演员的总出现次数\n",
    "count3 = []\n",
    "\n",
    "for i in range(len(staff_count)):\n",
    "    count1.append(int(staff_count[i]))\n",
    "    count2.append(int(staff_count_high[i]))\n",
    "    count3.append(int(staff_count_low[i]))\n",
    "\n",
    "# print(count1,count2,count3)\n",
    "list1 = []\n",
    "list2 = []\n",
    "list3 = []\n",
    "\n",
    "# 将数据转换为指定的数据格式\n",
    "'''\n",
    "    [\n",
    "    {\"value\": 12, \"percent\": 12 / (12 + 3)},\n",
    "    {\"value\": 23, \"percent\": 23 / (23 + 21)},\n",
    "    ...\n",
    "    ]\n",
    "'''\n",
    "\n",
    "for i in range(len(staff_count)):\n",
    "    temp1 = {}\n",
    "    temp2 = {}\n",
    "    temp3 = {}\n",
    "\n",
    "    temp1[\"value\"] = count2[i]\n",
    "    temp1[\"percent\"] = count2[i] / count1[i]\n",
    "    list1.append(temp1)\n",
    "    temp2[\"value\"] = count3[i]\n",
    "    temp2[\"percent\"] = count3[i] / count1[i]\n",
    "    list2.append(temp2)\n",
    "    temp3[\"value\"] = (count1[i] - count2[i] - count3[i])\n",
    "    temp3[\"percent\"] = (count1[i] - count2[i] - count3[i]) / count1[i]\n",
    "    list3.append(temp3)\n"
   ],
   "metadata": {
    "collapsed": false,
    "pycharm": {
     "name": "#%%\n"
    }
   },
   "execution_count": null,
   "outputs": []
  },
  {
   "cell_type": "markdown",
   "source": [
    "#### 低分评论所涉及到的主要演员名字"
   ],
   "metadata": {
    "collapsed": false
   }
  },
  {
   "cell_type": "markdown",
   "source": [
    "##### 1.吴孟达"
   ],
   "metadata": {
    "collapsed": false
   }
  },
  {
   "cell_type": "code",
   "execution_count": null,
   "outputs": [],
   "source": [
    "data2[data2['wumengda']&(data2['score']<4)].nlargest(5, 'upCount')"
   ],
   "metadata": {
    "collapsed": false,
    "pycharm": {
     "name": "#%%\n"
    }
   }
  },
  {
   "cell_type": "code",
   "execution_count": null,
   "outputs": [],
   "source": [
    "for i in data2[data2['wumengda']&(data2['score']<4)].nlargest(5, 'upCount')['content']:\n",
    "    print(i+'\\n')"
   ],
   "metadata": {
    "collapsed": false,
    "pycharm": {
     "name": "#%%\n"
    }
   }
  },
  {
   "cell_type": "markdown",
   "source": [
    "##### 2.吴京"
   ],
   "metadata": {
    "collapsed": false
   }
  },
  {
   "cell_type": "code",
   "execution_count": null,
   "outputs": [],
   "source": [
    "data2[data2['wujing']&(data2['score']<4)].nlargest(5, 'upCount')"
   ],
   "metadata": {
    "collapsed": false,
    "pycharm": {
     "name": "#%%\n"
    }
   }
  },
  {
   "cell_type": "code",
   "execution_count": null,
   "outputs": [],
   "source": [
    "for i in data2[data2['wujing']&(data2['score']<4)].nlargest(5, 'upCount')['content']:\n",
    "    print(i+'\\n')"
   ],
   "metadata": {
    "collapsed": false,
    "pycharm": {
     "name": "#%%\n"
    }
   }
  },
  {
   "cell_type": "markdown",
   "source": [
    "##### 3.赵金麦（女主）"
   ],
   "metadata": {
    "collapsed": false
   }
  },
  {
   "cell_type": "code",
   "execution_count": null,
   "outputs": [],
   "source": [
    "data2[data2['zhaojinmai']&(data2['score']<5)].nlargest(5, 'upCount')"
   ],
   "metadata": {
    "collapsed": false,
    "pycharm": {
     "name": "#%%\n"
    }
   }
  },
  {
   "cell_type": "code",
   "execution_count": null,
   "outputs": [],
   "source": [
    "for i in data2[data2['zhaojinmai']&(data2['score']<5)].nlargest(5, 'upCount')['content']:\n",
    "    print(i+'\\n')\n"
   ],
   "metadata": {
    "collapsed": false,
    "pycharm": {
     "name": "#%%\n"
    }
   }
  },
  {
   "cell_type": "markdown",
   "source": [
    "##### 4.屈楚萧（男主）"
   ],
   "metadata": {
    "collapsed": false
   }
  },
  {
   "cell_type": "code",
   "execution_count": null,
   "outputs": [],
   "source": [
    "data2[data2['quchuxiao']&(data2['score']<5)].nlargest(5, 'upCount')"
   ],
   "metadata": {
    "collapsed": false,
    "pycharm": {
     "name": "#%%\n"
    }
   }
  },
  {
   "cell_type": "code",
   "execution_count": null,
   "outputs": [],
   "source": [
    "for i in data2[data2['quchuxiao']&(data2['score']<5)].nlargest(5, 'upCount')['content']:\n",
    "    print(i+'\\n')"
   ],
   "metadata": {
    "collapsed": false,
    "pycharm": {
     "name": "#%%\n"
    }
   }
  },
  {
   "cell_type": "markdown",
   "source": [
    "#### 高分评论所涉及到的主要演员名字"
   ],
   "metadata": {
    "collapsed": false,
    "pycharm": {
     "name": "#%% md\n"
    }
   }
  },
  {
   "cell_type": "markdown",
   "source": [
    "##### 1.吴孟达"
   ],
   "metadata": {
    "collapsed": false
   }
  },
  {
   "cell_type": "code",
   "execution_count": null,
   "outputs": [],
   "source": [
    "data2[data2['wumengda']&(data2['score']>7)].nlargest(5, 'upCount')"
   ],
   "metadata": {
    "collapsed": false,
    "pycharm": {
     "name": "#%%\n"
    }
   }
  },
  {
   "cell_type": "code",
   "execution_count": null,
   "outputs": [],
   "source": [
    "for i in data2[data2['wumengda']&(data2['score']>7)].nlargest(5, 'upCount')['content']:\n",
    "    print(i+'\\n')\n"
   ],
   "metadata": {
    "collapsed": false,
    "pycharm": {
     "name": "#%%\n"
    }
   }
  },
  {
   "cell_type": "markdown",
   "source": [
    "##### 2.吴京"
   ],
   "metadata": {
    "collapsed": false,
    "pycharm": {
     "name": "#%% md\n"
    }
   }
  },
  {
   "cell_type": "code",
   "execution_count": null,
   "outputs": [],
   "source": [
    "data2[data2['wujing']&(data2['score']>7)].nlargest(5, 'upCount')"
   ],
   "metadata": {
    "collapsed": false,
    "pycharm": {
     "name": "#%%\n"
    }
   }
  },
  {
   "cell_type": "code",
   "execution_count": null,
   "outputs": [],
   "source": [
    "for i in data2[data2['wujing']&(data2['score']>7)].nlargest(5, 'upCount')['content']:\n",
    "    print(i+'\\n')"
   ],
   "metadata": {
    "collapsed": false,
    "pycharm": {
     "name": "#%%\n"
    }
   }
  },
  {
   "cell_type": "markdown",
   "source": [
    "##### 3.赵金麦（女主）"
   ],
   "metadata": {
    "collapsed": false,
    "pycharm": {
     "name": "#%% md\n"
    }
   }
  },
  {
   "cell_type": "code",
   "execution_count": null,
   "outputs": [],
   "source": [
    "data2[data2['zhaojinmai']&(data2['score']>7)].nlargest(5, 'upCount')"
   ],
   "metadata": {
    "collapsed": false,
    "pycharm": {
     "name": "#%%\n"
    }
   }
  },
  {
   "cell_type": "code",
   "execution_count": null,
   "outputs": [],
   "source": [
    "for i in data2[data2['zhaojinmai']&(data2['score']>7)].nlargest(5, 'upCount')['content']:\n",
    "    print(i+'\\n')\n"
   ],
   "metadata": {
    "collapsed": false,
    "pycharm": {
     "name": "#%%\n"
    }
   }
  },
  {
   "cell_type": "markdown",
   "source": [
    "##### 4.屈楚萧（男主）"
   ],
   "metadata": {
    "collapsed": false,
    "pycharm": {
     "name": "#%% md\n"
    }
   }
  },
  {
   "cell_type": "code",
   "execution_count": null,
   "outputs": [],
   "source": [
    "data2[data2['quchuxiao']&(data2['score']>7)].nlargest(5, 'upCount')"
   ],
   "metadata": {
    "collapsed": false,
    "pycharm": {
     "name": "#%%\n"
    }
   }
  },
  {
   "cell_type": "code",
   "execution_count": null,
   "outputs": [],
   "source": [
    "for i in data2[data2['quchuxiao']&(data2['score']>7)].nlargest(5, 'upCount')['content']:\n",
    "    print(i+'\\n')"
   ],
   "metadata": {
    "collapsed": false,
    "pycharm": {
     "name": "#%%\n"
    }
   }
  },
  {
   "cell_type": "code",
   "execution_count": null,
   "outputs": [],
   "source": [
    "from pyecharts.components import Table\n",
    "\n",
    "# 高分评论\n",
    "rows_h1 = []\n",
    "rows_h2 = []\n",
    "rows_h3 = []\n",
    "rows_h4 = []\n",
    "for i in range(5):\n",
    "    comment1 = [data2[data2['wumengda']&(data2['score']>7)].nlargest(5, 'upCount').values[i][0]]\n",
    "    comment2 = [data2[data2['wujing']&(data2['score']>7)].nlargest(5, 'upCount').values[i][0]]\n",
    "    comment3 = [data2[data2['zhaojinmai']&(data2['score']>7)].nlargest(5, 'upCount').values[i][0]]\n",
    "    comment4 = [data2[data2['quchuxiao']&(data2['score']>7)].nlargest(5, 'upCount').values[i][0]]\n",
    "    rows_h1.append(comment1)\n",
    "    rows_h2.append(comment2)\n",
    "    rows_h3.append(comment3)\n",
    "    rows_h4.append(comment4)\n",
    "\n",
    "# 低分评论\n",
    "rows_l1 = []\n",
    "rows_l2 = []\n",
    "rows_l3 = []\n",
    "rows_l4 = []\n",
    "for i in range(5):\n",
    "    comment1 = [data2[data2['wumengda']&(data2['score']<4)].nlargest(5, 'upCount').values[i][0]]\n",
    "    comment2 = [data2[data2['wujing']&(data2['score']<4)].nlargest(5, 'upCount').values[i][0]]\n",
    "    comment3 = [data2[data2['zhaojinmai']&(data2['score']<4)].nlargest(5, 'upCount').values[i][0]]\n",
    "    comment4 = [data2[data2['quchuxiao']&(data2['score']<4)].nlargest(5, 'upCount').values[i][0]]\n",
    "    rows_l1.append(comment1)\n",
    "    rows_l2.append(comment2)\n",
    "    rows_l3.append(comment3)\n",
    "    rows_l4.append(comment4)"
   ],
   "metadata": {
    "collapsed": false,
    "pycharm": {
     "name": "#%%\n"
    }
   }
  },
  {
   "cell_type": "code",
   "execution_count": null,
   "outputs": [],
   "source": [
    "c = (\n",
    "    Bar(init_opts=opts.InitOpts(theme=ThemeType.LIGHT))\n",
    "    .add_xaxis(['郭帆', '李光洁', '刘慈欣', '屈楚萧', '吴京', '吴孟达','赵今麦'])\n",
    "    .add_yaxis(\"好评提及次数\", list1, stack=\"stack1\", category_gap=\"50%\")\n",
    "    .add_yaxis(\"差评提及次数\", list2, stack=\"stack1\", category_gap=\"50%\")\n",
    "    .add_yaxis(\"中评提及次数\", list3, stack=\"stack1\", category_gap=\"50%\")\n",
    "    .set_series_opts(\n",
    "        label_opts=opts.LabelOpts(\n",
    "            position=\"right\",\n",
    "            formatter=JsCode(\n",
    "                \"function(x){return Number(x.data.percent * 100).toFixed() + '%';}\"\n",
    "            ),\n",
    "        )\n",
    "    )\n",
    ")\n",
    "c.render(\"./Charts_html/Evaluate_bar.html\")\n"
   ],
   "metadata": {
    "collapsed": false,
    "pycharm": {
     "name": "#%%\n"
    }
   }
  },
  {
   "cell_type": "code",
   "execution_count": null,
   "outputs": [],
   "source": [
    "# 以下的表格画出来不好用\n",
    "# 画好评差评中评在单条的条形图\n",
    "def evaluate_bar() -> Bar:\n",
    "\n",
    "    c = (\n",
    "        Bar(init_opts=opts.InitOpts(theme=ThemeType.LIGHT))\n",
    "        .add_xaxis(['郭帆', '李光洁', '刘慈欣', '屈楚萧', '吴京', '吴孟达','赵今麦'])\n",
    "        .add_yaxis(\"好评提及次数\", list1, stack=\"stack1\", category_gap=\"50%\")\n",
    "        .add_yaxis(\"差评提及次数\", list2, stack=\"stack1\", category_gap=\"50%\")\n",
    "        .add_yaxis(\"中评提及次数\", list3, stack=\"stack1\", category_gap=\"50%\")\n",
    "        .set_series_opts(\n",
    "            label_opts=opts.LabelOpts(\n",
    "                position=\"right\",\n",
    "                formatter=JsCode(\n",
    "                    \"function(x){return Number(x.data.percent * 100).toFixed() + '%';}\"\n",
    "                ),\n",
    "            )\n",
    "        )\n",
    "    )\n",
    "    return c\n",
    "\n",
    "\n",
    "# 画高分评论表格\n",
    "def table_baseh1() -> Table:\n",
    "    table = Table()\n",
    "\n",
    "    headers = [\"Content\"]\n",
    "    rows = rows_h1\n",
    "\n",
    "    table.add(headers, rows).set_global_opts(\n",
    "        title_opts=opts.ComponentTitleOpts(title=\"吴孟达\")\n",
    "    )\n",
    "    return table\n",
    "\n",
    "def table_baseh2() -> Table:\n",
    "    table = Table()\n",
    "\n",
    "    headers = [\"Content\"]\n",
    "    rows = rows_h2\n",
    "\n",
    "    table.add(headers, rows).set_global_opts(\n",
    "        title_opts=opts.ComponentTitleOpts(title=\"吴京\")\n",
    "    )\n",
    "    return table\n",
    "\n",
    "def table_baseh3() -> Table:\n",
    "    table = Table()\n",
    "\n",
    "    headers = [\"Content\"]\n",
    "    rows = rows_h3\n",
    "\n",
    "    table.add(headers, rows).set_global_opts(\n",
    "        title_opts=opts.ComponentTitleOpts(title=\"赵今麦\")\n",
    "    )\n",
    "    return table\n",
    "\n",
    "def table_baseh4() -> Table:\n",
    "    table = Table()\n",
    "\n",
    "    headers = [\"Content\"]\n",
    "    rows = rows_h4\n",
    "\n",
    "    table.add(headers, rows).set_global_opts(\n",
    "        title_opts=opts.ComponentTitleOpts(title=\"屈楚萧\")\n",
    "    )\n",
    "    return table\n",
    "\n",
    "\n",
    "# 画高分评论表格\n",
    "def table_basel1() -> Table:\n",
    "    table = Table()\n",
    "\n",
    "    headers = [\"Content\"]\n",
    "    rows = rows_h1\n",
    "\n",
    "    table.add(headers, rows).set_global_opts(\n",
    "        title_opts=opts.ComponentTitleOpts(title=\"吴孟达\")\n",
    "    )\n",
    "    return table\n",
    "\n",
    "def table_basel2() -> Table:\n",
    "    table = Table()\n",
    "\n",
    "    headers = [\"Content\"]\n",
    "    rows = rows_h2\n",
    "\n",
    "    table.add(headers, rows).set_global_opts(\n",
    "        title_opts=opts.ComponentTitleOpts(title=\"吴京\")\n",
    "    )\n",
    "    return table\n",
    "\n",
    "def table_basel3() -> Table:\n",
    "    table = Table()\n",
    "\n",
    "    headers = [\"Content\"]\n",
    "    rows = rows_h3\n",
    "\n",
    "    table.add(headers, rows).set_global_opts(\n",
    "        title_opts=opts.ComponentTitleOpts(title=\"赵今麦\")\n",
    "    )\n",
    "    return table\n",
    "\n",
    "def table_basel4() -> Table:\n",
    "    table = Table()\n",
    "\n",
    "    headers = [\"Content\"]\n",
    "    rows = rows_h4\n",
    "\n",
    "    table.add(headers, rows).set_global_opts(\n",
    "        title_opts=opts.ComponentTitleOpts(title=\"屈楚萧\")\n",
    "    )\n",
    "    return table\n",
    "\n",
    "\n",
    "\n",
    "def page_layout():\n",
    "    page = Page(layout=Page.SimplePageLayout)\n",
    "    page.add(\n",
    "        evaluate_bar(),\n",
    "        table_baseh1(),\n",
    "        table_baseh2(),\n",
    "        table_baseh3(),\n",
    "        table_baseh4(),\n",
    "        table_basel1(),\n",
    "        table_basel2(),\n",
    "        table_basel3(),\n",
    "        table_basel4(),\n",
    "\n",
    "\n",
    "    )\n",
    "    page.render(\"evaluate_bar_table.html\")\n",
    "\n",
    "\n",
    "if __name__ == \"__main__\":\n",
    "    page_layout()"
   ],
   "metadata": {
    "collapsed": false,
    "pycharm": {
     "name": "#%%\n"
    }
   }
  },
  {
   "cell_type": "code",
   "execution_count": null,
   "outputs": [],
   "source": [
    "temp = data2[data2['zhaojinmai']&(data2['score']>7)].nlargest(5, 'upCount').values[0][0]\n",
    "print(temp)\n",
    "# for i in\n",
    "comment = []\n",
    "for i in range(5):\n",
    "    temp= [data2[data2['zhaojinmai']&(data2['score']>7)].nlargest(5, 'upCount').values[i][0]]\n",
    "    comment.append(temp)\n",
    "\n",
    "print(comment)"
   ],
   "metadata": {
    "collapsed": false,
    "pycharm": {
     "name": "#%%\n"
    }
   }
  }
 ],
 "metadata": {
  "kernelspec": {
   "display_name": "Python 3",
   "language": "python",
   "name": "python3"
  },
  "language_info": {
   "codemirror_mode": {
    "name": "ipython",
    "version": 2
   },
   "file_extension": ".py",
   "mimetype": "text/x-python",
   "name": "python",
   "nbconvert_exporter": "python",
   "pygments_lexer": "ipython2",
   "version": "2.7.6"
  }
 },
 "nbformat": 4,
 "nbformat_minor": 0
}
